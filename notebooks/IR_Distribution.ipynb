{
 "cells": [
  {
   "cell_type": "code",
   "execution_count": 2,
   "metadata": {
    "collapsed": true,
    "deletable": true,
    "editable": true
   },
   "outputs": [],
   "source": [
    "%matplotlib inline\n",
    "import numpy as np\n",
    "import matplotlib\n",
    "import pandas as pd\n",
    "import seaborn as sns\n",
    "import matplotlib.pyplot as plt\n",
    "from sklearn.metrics import accuracy_score\n",
    "from sklearn.utils import shuffle\n",
    "from utils.average_spectra import average_dataframe\n",
    "sns.set(style=\"whitegrid\", color_codes=True)\n",
    "plt.rcParams['figure.figsize'] = (12, 6)"
   ]
  },
  {
   "cell_type": "code",
   "execution_count": 6,
   "metadata": {
    "collapsed": true,
    "deletable": true,
    "editable": true
   },
   "outputs": [],
   "source": [
    "ndvi_31 = pd.read_csv(\"../data/NDVI/Lettuce_2017-03-31.csv\", header=None)\n",
    "ndvi_07 = pd.read_csv(\"../data/NDVI/Lettuce_2017-04-07.csv\", header=None)\n",
    "ndvi_14 = pd.read_csv(\"../data/NDVI/Lettuce_2017-04-14.csv\", header=None)\n",
    "ndvi_28 = pd.read_csv(\"../data/NDVI/Lettuce_2017-04-28.csv\", header=None)\n",
    "ir_31 = np.repeat(np.array([3,2,1,0]), 3)\n",
    "ir_07 = np.repeat(np.array([3,2,1,0]), 9)\n",
    "ir_14 = np.repeat(np.array([3,2,1,0]), 9)\n",
    "ir_28 = np.repeat(np.array([3,2,1,0]), 9)\n",
    "ir_28 = np.delete(ir_28, 32)"
   ]
  },
  {
   "cell_type": "code",
   "execution_count": 7,
   "metadata": {
    "collapsed": false,
    "deletable": true,
    "editable": true
   },
   "outputs": [
    {
     "name": "stdout",
     "output_type": "stream",
     "text": [
      "(12, 1) (36, 1) (36, 1) (35, 1)\n"
     ]
    }
   ],
   "source": [
    "print(ndvi_31.shape, ndvi_07.shape, ndvi_14.shape, ndvi_28.shape)"
   ]
  },
  {
   "cell_type": "code",
   "execution_count": 9,
   "metadata": {
    "collapsed": true
   },
   "outputs": [],
   "source": [
    "ndvi = np.concatenate((ndvi_31, ndvi_07, ndvi_14, ndvi_28), axis=0)\n",
    "ir = np.concatenate((ir_31, ir_07, ir_14, ir_28), axis=0)"
   ]
  },
  {
   "cell_type": "code",
   "execution_count": 31,
   "metadata": {
    "collapsed": false,
    "deletable": true,
    "editable": true
   },
   "outputs": [
    {
     "data": {
      "text/plain": [
       "([<matplotlib.axis.XTick at 0x7f2c2559f6a0>,\n",
       "  <matplotlib.axis.XTick at 0x7f2c2553ee48>,\n",
       "  <matplotlib.axis.XTick at 0x7f2c255a5550>,\n",
       "  <matplotlib.axis.XTick at 0x7f2c254e6208>],\n",
       " <a list of 4 Text xticklabel objects>)"
      ]
     },
     "execution_count": 31,
     "metadata": {},
     "output_type": "execute_result"
    },
    {
     "data": {
      "image/png": "[encoded data removed]",
      "text/plain": [
       "<matplotlib.figure.Figure at 0x7f2c2556bd68>"
      ]
     },
     "metadata": {},
     "output_type": "display_data"
    }
   ],
   "source": [
    "fig = plt.figure()\n",
    "plt.boxplot((ndvi[np.where(ir == 0)], ndvi[np.where(ir == 1)], ndvi[np.where(ir == 2)], ndvi[np.where(ir == 3)]))\n",
    "fig.suptitle(\"Irrigation and NDVI\")\n",
    "plt.xlabel(\"Irrigation\")\n",
    "plt.ylabel(\"NDVI\")\n",
    "plt.xticks([1, 2, 3, 4], [0, 25, 50, 100])"
   ]
  },
  {
   "cell_type": "code",
   "execution_count": 54,
   "metadata": {
    "collapsed": false
   },
   "outputs": [],
   "source": [
    "wp_df = pd.read_csv(\"../data/WaterPotential/Lettuce.csv\").as_matrix()\n",
    "wp_df = wp_df[:,1:].astype(float)\n",
    "wp_100 = wp_df[:3].flatten()\n",
    "wp_50 = wp_df[3:6].flatten()\n",
    "wp_25 = wp_df[6:9].flatten()\n",
    "wp_0 = wp_df[9:].flatten()"
   ]
  },
  {
   "cell_type": "code",
   "execution_count": 58,
   "metadata": {
    "collapsed": false,
    "scrolled": true
   },
   "outputs": [
    {
     "data": {
      "text/plain": [
       "([<matplotlib.axis.XTick at 0x7f2c25253240>,\n",
       "  <matplotlib.axis.XTick at 0x7f2c25275c88>,\n",
       "  <matplotlib.axis.XTick at 0x7f2c25332978>,\n",
       "  <matplotlib.axis.XTick at 0x7f2c25b272e8>],\n",
       " <a list of 4 Text xticklabel objects>)"
      ]
     },
     "execution_count": 58,
     "metadata": {},
     "output_type": "execute_result"
    },
    {
     "data": {
      "image/png": "[encoded data removed]",
      "text/plain": [
       "<matplotlib.figure.Figure at 0x7f2c2503de10>"
      ]
     },
     "metadata": {},
     "output_type": "display_data"
    }
   ],
   "source": [
    "fig = plt.figure()\n",
    "plt.boxplot((wp_0, wp_25, wp_50, wp_100))\n",
    "fig.suptitle(\"Irrigation and Water Potential\")\n",
    "plt.xlabel(\"Irrigation\")\n",
    "plt.ylabel(\"Water Potential\")\n",
    "plt.xticks([1, 2, 3, 4], [0, 25, 50, 100])"
   ]
  },
  {
   "cell_type": "code",
   "execution_count": null,
   "metadata": {
    "collapsed": true
   },
   "outputs": [],
   "source": []
  }
 ],
 "metadata": {
  "kernelspec": {
   "display_name": "Python 3",
   "language": "python",
   "name": "python3"
  },
  "language_info": {
   "codemirror_mode": {
    "name": "ipython",
    "version": 3
   },
   "file_extension": ".py",
   "mimetype": "text/x-python",
   "name": "python",
   "nbconvert_exporter": "python",
   "pygments_lexer": "ipython3",
   "version": "3.6.1"
  }
 },
 "nbformat": 4,
 "nbformat_minor": 2
}
