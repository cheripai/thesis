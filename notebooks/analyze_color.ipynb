{
 "cells": [
  {
   "cell_type": "code",
   "execution_count": 271,
   "metadata": {
    "collapsed": true
   },
   "outputs": [],
   "source": [
    "import numpy as np\n",
    "from scipy import ndimage"
   ]
  },
  {
   "cell_type": "code",
   "execution_count": 272,
   "metadata": {
    "collapsed": true
   },
   "outputs": [],
   "source": [
    "legend_range = (-0.07, 0.62)"
   ]
  },
  {
   "cell_type": "code",
   "execution_count": 273,
   "metadata": {},
   "outputs": [
    {
     "data": {
      "text/plain": [
       "(210, 3)"
      ]
     },
     "execution_count": 273,
     "metadata": {},
     "output_type": "execute_result"
    }
   ],
   "source": [
    "legend = ndimage.imread(\"../data/UAV/2017-08-17/817_Orange_Trees_ENDVI_legend.png\")\n",
    "legend = legend.squeeze()\n",
    "legend = legend[:,:3]\n",
    "legend.shape"
   ]
  },
  {
   "cell_type": "code",
   "execution_count": 274,
   "metadata": {
    "collapsed": true
   },
   "outputs": [],
   "source": [
    "def interpolate(minimum, maximum, steps):\n",
    "    step = (maximum - minimum) / (steps - 1)\n",
    "    return np.array([minimum + i * step for i in range(steps)])"
   ]
  },
  {
   "cell_type": "code",
   "execution_count": 275,
   "metadata": {
    "collapsed": true
   },
   "outputs": [],
   "source": [
    "ENDVI_legend = interpolate(legend_range[0], legend_range[1], legend.shape[0])"
   ]
  },
  {
   "cell_type": "code",
   "execution_count": 276,
   "metadata": {
    "collapsed": true
   },
   "outputs": [],
   "source": [
    "legend_dict = {str(legend[i]) : ENDVI_legend[i] for i in range(len(legend))}"
   ]
  },
  {
   "cell_type": "code",
   "execution_count": 277,
   "metadata": {},
   "outputs": [],
   "source": [
    "def nearest_neighbor(pixel):\n",
    "    pixel = pixel.astype(np.float32)\n",
    "    distances = np.sqrt(np.square((legend - pixel.astype(np.float32))).sum(-1))\n",
    "    min_index = np.argmin(distances)\n",
    "    return legend[min_index]"
   ]
  },
  {
   "cell_type": "code",
   "execution_count": 313,
   "metadata": {},
   "outputs": [
    {
     "data": {
      "text/plain": [
       "(65, 87, 3)"
      ]
     },
     "execution_count": 313,
     "metadata": {},
     "output_type": "execute_result"
    }
   ],
   "source": [
    "img = ndimage.imread(\"../data/UAV/2017-08-17/35B_color.png\")\n",
    "img = img[:,:,:3]\n",
    "img.shape"
   ]
  },
  {
   "cell_type": "code",
   "execution_count": 314,
   "metadata": {},
   "outputs": [
    {
     "data": {
      "text/plain": [
       "0.28380587107991823"
      ]
     },
     "execution_count": 314,
     "metadata": {},
     "output_type": "execute_result"
    }
   ],
   "source": [
    "ENDVI = np.zeros((img.shape[:2]))\n",
    "\n",
    "for i in range(ENDVI.shape[0]):\n",
    "    for j in range(ENDVI.shape[1]):\n",
    "         ENDVI[i, j] = legend_dict[str(nearest_neighbor(img[i][j]))]\n",
    "        \n",
    "ENDVI.mean()"
   ]
  },
  {
   "cell_type": "code",
   "execution_count": null,
   "metadata": {
    "collapsed": true
   },
   "outputs": [],
   "source": []
  }
 ],
 "metadata": {
  "kernelspec": {
   "display_name": "Python 3",
   "language": "python",
   "name": "python3"
  },
  "language_info": {
   "codemirror_mode": {
    "name": "ipython",
    "version": 3
   },
   "file_extension": ".py",
   "mimetype": "text/x-python",
   "name": "python",
   "nbconvert_exporter": "python",
   "pygments_lexer": "ipython3",
   "version": "3.6.2"
  }
 },
 "nbformat": 4,
 "nbformat_minor": 2
}
