{
 "cells": [
  {
   "cell_type": "code",
   "execution_count": 2,
   "metadata": {
    "collapsed": true,
    "deletable": true,
    "editable": true
   },
   "outputs": [],
   "source": [
    "%matplotlib inline\n",
    "import pandas as pd\n",
    "import matplotlib\n",
    "import numpy as np\n",
    "import seaborn as sns\n",
    "import matplotlib.pyplot as plt\n",
    "from collections import OrderedDict\n",
    "sns.set(style=\"whitegrid\", color_codes=True)\n",
    "plt.rcParams['figure.figsize'] = (16, 8)"
   ]
  },
  {
   "cell_type": "code",
   "execution_count": 3,
   "metadata": {
    "collapsed": false,
    "deletable": true,
    "editable": true
   },
   "outputs": [],
   "source": [
    "actual = np.array(pd.read_json(\"labels.json\", typ=\"series\"))\n",
    "predict = np.array(pd.read_csv(\"predict.txt\", header=None)[0])"
   ]
  },
  {
   "cell_type": "code",
   "execution_count": 4,
   "metadata": {
    "collapsed": false,
    "deletable": true,
    "editable": true
   },
   "outputs": [
    {
     "data": {
      "text/plain": [
       "0.23614703527619282"
      ]
     },
     "execution_count": 4,
     "metadata": {},
     "output_type": "execute_result"
    }
   ],
   "source": [
    "np.mean(np.abs(list(actual - predict)))"
   ]
  },
  {
   "cell_type": "code",
   "execution_count": 5,
   "metadata": {
    "collapsed": false,
    "deletable": true,
    "editable": true
   },
   "outputs": [
    {
     "data": {
      "text/plain": [
       "0.091046322673534963"
      ]
     },
     "execution_count": 5,
     "metadata": {},
     "output_type": "execute_result"
    }
   ],
   "source": [
    "np.mean((actual - predict)**2)"
   ]
  },
  {
   "cell_type": "code",
   "execution_count": 6,
   "metadata": {
    "collapsed": false,
    "deletable": true,
    "editable": true
   },
   "outputs": [
    {
     "data": {
      "text/html": [
       "<div>\n",
       "<table border=\"1\" class=\"dataframe\">\n",
       "  <thead>\n",
       "    <tr style=\"text-align: right;\">\n",
       "      <th></th>\n",
       "      <th>Actual NDVI</th>\n",
       "      <th>Predicted NDVI</th>\n",
       "      <th>Error</th>\n",
       "    </tr>\n",
       "  </thead>\n",
       "  <tbody>\n",
       "    <tr>\n",
       "      <th>0</th>\n",
       "      <td>0.599688</td>\n",
       "      <td>0.587962</td>\n",
       "      <td>0.011726</td>\n",
       "    </tr>\n",
       "    <tr>\n",
       "      <th>1</th>\n",
       "      <td>0.692927</td>\n",
       "      <td>0.805946</td>\n",
       "      <td>0.113019</td>\n",
       "    </tr>\n",
       "    <tr>\n",
       "      <th>2</th>\n",
       "      <td>0.609717</td>\n",
       "      <td>0.523549</td>\n",
       "      <td>0.086169</td>\n",
       "    </tr>\n",
       "    <tr>\n",
       "      <th>3</th>\n",
       "      <td>0.666708</td>\n",
       "      <td>0.756439</td>\n",
       "      <td>0.089732</td>\n",
       "    </tr>\n",
       "    <tr>\n",
       "      <th>4</th>\n",
       "      <td>0.583014</td>\n",
       "      <td>0.591493</td>\n",
       "      <td>0.008479</td>\n",
       "    </tr>\n",
       "    <tr>\n",
       "      <th>5</th>\n",
       "      <td>0.484630</td>\n",
       "      <td>0.744732</td>\n",
       "      <td>0.260101</td>\n",
       "    </tr>\n",
       "    <tr>\n",
       "      <th>6</th>\n",
       "      <td>0.703577</td>\n",
       "      <td>0.589955</td>\n",
       "      <td>0.113622</td>\n",
       "    </tr>\n",
       "    <tr>\n",
       "      <th>7</th>\n",
       "      <td>0.627536</td>\n",
       "      <td>0.747083</td>\n",
       "      <td>0.119547</td>\n",
       "    </tr>\n",
       "    <tr>\n",
       "      <th>8</th>\n",
       "      <td>0.246193</td>\n",
       "      <td>0.559966</td>\n",
       "      <td>0.313773</td>\n",
       "    </tr>\n",
       "    <tr>\n",
       "      <th>9</th>\n",
       "      <td>0.093602</td>\n",
       "      <td>0.756909</td>\n",
       "      <td>0.663307</td>\n",
       "    </tr>\n",
       "    <tr>\n",
       "      <th>10</th>\n",
       "      <td>0.368144</td>\n",
       "      <td>0.727194</td>\n",
       "      <td>0.359050</td>\n",
       "    </tr>\n",
       "    <tr>\n",
       "      <th>11</th>\n",
       "      <td>0.733537</td>\n",
       "      <td>0.668386</td>\n",
       "      <td>0.065152</td>\n",
       "    </tr>\n",
       "    <tr>\n",
       "      <th>12</th>\n",
       "      <td>0.603607</td>\n",
       "      <td>0.552042</td>\n",
       "      <td>0.051565</td>\n",
       "    </tr>\n",
       "    <tr>\n",
       "      <th>13</th>\n",
       "      <td>0.855541</td>\n",
       "      <td>0.679485</td>\n",
       "      <td>0.176056</td>\n",
       "    </tr>\n",
       "    <tr>\n",
       "      <th>14</th>\n",
       "      <td>0.405565</td>\n",
       "      <td>0.705223</td>\n",
       "      <td>0.299658</td>\n",
       "    </tr>\n",
       "    <tr>\n",
       "      <th>15</th>\n",
       "      <td>0.217526</td>\n",
       "      <td>0.736975</td>\n",
       "      <td>0.519449</td>\n",
       "    </tr>\n",
       "    <tr>\n",
       "      <th>16</th>\n",
       "      <td>0.527513</td>\n",
       "      <td>0.268917</td>\n",
       "      <td>0.258596</td>\n",
       "    </tr>\n",
       "    <tr>\n",
       "      <th>17</th>\n",
       "      <td>0.753177</td>\n",
       "      <td>0.159918</td>\n",
       "      <td>0.593259</td>\n",
       "    </tr>\n",
       "    <tr>\n",
       "      <th>18</th>\n",
       "      <td>0.290241</td>\n",
       "      <td>0.648635</td>\n",
       "      <td>0.358394</td>\n",
       "    </tr>\n",
       "    <tr>\n",
       "      <th>19</th>\n",
       "      <td>0.869281</td>\n",
       "      <td>0.658122</td>\n",
       "      <td>0.211158</td>\n",
       "    </tr>\n",
       "    <tr>\n",
       "      <th>20</th>\n",
       "      <td>0.550398</td>\n",
       "      <td>0.788663</td>\n",
       "      <td>0.238265</td>\n",
       "    </tr>\n",
       "    <tr>\n",
       "      <th>21</th>\n",
       "      <td>0.673512</td>\n",
       "      <td>0.586819</td>\n",
       "      <td>0.086694</td>\n",
       "    </tr>\n",
       "    <tr>\n",
       "      <th>22</th>\n",
       "      <td>0.852325</td>\n",
       "      <td>0.161716</td>\n",
       "      <td>0.690609</td>\n",
       "    </tr>\n",
       "    <tr>\n",
       "      <th>23</th>\n",
       "      <td>0.642322</td>\n",
       "      <td>0.527738</td>\n",
       "      <td>0.114584</td>\n",
       "    </tr>\n",
       "    <tr>\n",
       "      <th>24</th>\n",
       "      <td>0.512098</td>\n",
       "      <td>0.705010</td>\n",
       "      <td>0.192912</td>\n",
       "    </tr>\n",
       "    <tr>\n",
       "      <th>25</th>\n",
       "      <td>0.596835</td>\n",
       "      <td>0.322568</td>\n",
       "      <td>0.274267</td>\n",
       "    </tr>\n",
       "    <tr>\n",
       "      <th>26</th>\n",
       "      <td>0.859315</td>\n",
       "      <td>0.752489</td>\n",
       "      <td>0.106826</td>\n",
       "    </tr>\n",
       "  </tbody>\n",
       "</table>\n",
       "</div>"
      ],
      "text/plain": [
       "    Actual NDVI  Predicted NDVI     Error\n",
       "0      0.599688        0.587962  0.011726\n",
       "1      0.692927        0.805946  0.113019\n",
       "2      0.609717        0.523549  0.086169\n",
       "3      0.666708        0.756439  0.089732\n",
       "4      0.583014        0.591493  0.008479\n",
       "5      0.484630        0.744732  0.260101\n",
       "6      0.703577        0.589955  0.113622\n",
       "7      0.627536        0.747083  0.119547\n",
       "8      0.246193        0.559966  0.313773\n",
       "9      0.093602        0.756909  0.663307\n",
       "10     0.368144        0.727194  0.359050\n",
       "11     0.733537        0.668386  0.065152\n",
       "12     0.603607        0.552042  0.051565\n",
       "13     0.855541        0.679485  0.176056\n",
       "14     0.405565        0.705223  0.299658\n",
       "15     0.217526        0.736975  0.519449\n",
       "16     0.527513        0.268917  0.258596\n",
       "17     0.753177        0.159918  0.593259\n",
       "18     0.290241        0.648635  0.358394\n",
       "19     0.869281        0.658122  0.211158\n",
       "20     0.550398        0.788663  0.238265\n",
       "21     0.673512        0.586819  0.086694\n",
       "22     0.852325        0.161716  0.690609\n",
       "23     0.642322        0.527738  0.114584\n",
       "24     0.512098        0.705010  0.192912\n",
       "25     0.596835        0.322568  0.274267\n",
       "26     0.859315        0.752489  0.106826"
      ]
     },
     "execution_count": 6,
     "metadata": {},
     "output_type": "execute_result"
    }
   ],
   "source": [
    "data = OrderedDict({\"Actual NDVI\": actual, \"Predicted NDVI\": predict, \"Error\": np.abs(actual-predict)})\n",
    "df = pd.DataFrame(data)\n",
    "df"
   ]
  },
  {
   "cell_type": "code",
   "execution_count": 16,
   "metadata": {
    "collapsed": false,
    "deletable": true,
    "editable": true
   },
   "outputs": [
    {
     "data": {
      "text/plain": [
       "<matplotlib.text.Text at 0x7f97dcaef240>"
      ]
     },
     "execution_count": 16,
     "metadata": {},
     "output_type": "execute_result"
    },
    {
     "data": {
      "image/png": "[encoded data removed]",
      "text/plain": [
       "<matplotlib.figure.Figure at 0x7f97dbfc3b00>"
      ]
     },
     "metadata": {},
     "output_type": "display_data"
    }
   ],
   "source": [
    "data = OrderedDict({\"Actual NDVI\": actual, \"Predicted NDVI\": predict})\n",
    "df = pd.DataFrame(data)\n",
    "ax = df.plot(kind=\"bar\", color=[\"black\", \"gray\"], width=0.60)\n",
    "ax.set_xlabel(\"Plant Number\")\n",
    "ax.set_ylabel(\"NDVI\")"
   ]
  },
  {
   "cell_type": "code",
   "execution_count": null,
   "metadata": {
    "collapsed": true,
    "deletable": true,
    "editable": true
   },
   "outputs": [],
   "source": []
  }
 ],
 "metadata": {
  "kernelspec": {
   "display_name": "Python 3",
   "language": "python",
   "name": "python3"
  },
  "language_info": {
   "codemirror_mode": {
    "name": "ipython",
    "version": 3
   },
   "file_extension": ".py",
   "mimetype": "text/x-python",
   "name": "python",
   "nbconvert_exporter": "python",
   "pygments_lexer": "ipython3",
   "version": "3.6.1"
  }
 },
 "nbformat": 4,
 "nbformat_minor": 2
}
