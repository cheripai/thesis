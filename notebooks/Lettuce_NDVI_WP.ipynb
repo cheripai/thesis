{
 "cells": [
  {
   "cell_type": "code",
   "execution_count": 118,
   "metadata": {
    "collapsed": false,
    "deletable": true,
    "editable": true
   },
   "outputs": [],
   "source": [
    "%matplotlib inline\n",
    "import numpy as np\n",
    "import matplotlib\n",
    "import pandas as pd\n",
    "import seaborn as sns\n",
    "import matplotlib.pyplot as plt\n",
    "from scipy.stats import stats\n",
    "sns.set(style=\"whitegrid\", color_codes=True)\n",
    "plt.rcParams['figure.figsize'] = (12, 6)"
   ]
  },
  {
   "cell_type": "code",
   "execution_count": 108,
   "metadata": {
    "collapsed": false,
    "deletable": true,
    "editable": true
   },
   "outputs": [],
   "source": [
    "ndvi_31 = pd.read_csv(\"../data/NDVI/Lettuce_2017-03-31.csv\", header=None)\n",
    "ndvi_07 = pd.read_csv(\"../data/NDVI/Lettuce_2017-04-07.csv\", header=None)\n",
    "ndvi_14 = pd.read_csv(\"../data/NDVI/Lettuce_2017-04-14.csv\", header=None)\n",
    "ndvi_28 = pd.read_csv(\"../data/NDVI/Lettuce_2017-04-28.csv\", header=None)\n",
    "wp_df = pd.read_csv(\"../data/WaterPotential/Lettuce.csv\")"
   ]
  },
  {
   "cell_type": "markdown",
   "metadata": {
    "deletable": true,
    "editable": true
   },
   "source": [
    "### Find NDVI & WP correlation with repeating WP values\n",
    "#### Remove 32 because it was missed during spectra collection"
   ]
  },
  {
   "cell_type": "code",
   "execution_count": 64,
   "metadata": {
    "collapsed": false,
    "deletable": true,
    "editable": true
   },
   "outputs": [
    {
     "name": "stdout",
     "output_type": "stream",
     "text": [
      "(12,) (36,) (36,) (35,)\n"
     ]
    }
   ],
   "source": [
    "wp_31 = wp_df[\"03/31/17\"].as_matrix()\n",
    "wp_07 = np.repeat(wp_df[\"04/07/17\"].as_matrix(), 3)\n",
    "wp_14 = np.repeat(wp_df[\"04/14/17\"].as_matrix(), 3)\n",
    "wp_28 = np.repeat(wp_df[\"04/28/17\"].as_matrix(), 3)\n",
    "wp_28 = np.delete(wp_28, 32)\n",
    "print(wp_31.shape, wp_07.shape, wp_14.shape, wp_28.shape)"
   ]
  },
  {
   "cell_type": "code",
   "execution_count": 68,
   "metadata": {
    "collapsed": false,
    "deletable": true,
    "editable": true
   },
   "outputs": [],
   "source": [
    "ndvi = np.concatenate((ndvi_31.as_matrix(), ndvi_07.as_matrix(), ndvi_14.as_matrix(), ndvi_28.as_matrix()), axis=0)\n",
    "ndvi = ndvi.squeeze()\n",
    "wp = np.concatenate((wp_31, wp_07, wp_14, wp_28), axis=0)"
   ]
  },
  {
   "cell_type": "code",
   "execution_count": 69,
   "metadata": {
    "collapsed": false,
    "deletable": true,
    "editable": true
   },
   "outputs": [
    {
     "name": "stdout",
     "output_type": "stream",
     "text": [
      "(119,) (119,)\n"
     ]
    }
   ],
   "source": [
    "print(ndvi.shape, wp.shape)"
   ]
  },
  {
   "cell_type": "code",
   "execution_count": 71,
   "metadata": {
    "collapsed": false,
    "deletable": true,
    "editable": true
   },
   "outputs": [
    {
     "data": {
      "text/plain": [
       "(0.14040912894565716, 0.12774094521821691)"
      ]
     },
     "execution_count": 71,
     "metadata": {},
     "output_type": "execute_result"
    }
   ],
   "source": [
    "stats.pearsonr(ndvi, wp)"
   ]
  },
  {
   "cell_type": "code",
   "execution_count": 72,
   "metadata": {
    "collapsed": false,
    "deletable": true,
    "editable": true
   },
   "outputs": [
    {
     "data": {
      "text/plain": [
       "<matplotlib.collections.PathCollection at 0x7ff5fe8663c8>"
      ]
     },
     "execution_count": 72,
     "metadata": {},
     "output_type": "execute_result"
    },
    {
     "data": {
      "image/png": "[encoded data removed]",
      "text/plain": [
       "<matplotlib.figure.Figure at 0x7ff5fe7105c0>"
      ]
     },
     "metadata": {},
     "output_type": "display_data"
    }
   ],
   "source": [
    "plt.scatter(ndvi, wp)"
   ]
  },
  {
   "cell_type": "markdown",
   "metadata": {
    "deletable": true,
    "editable": true
   },
   "source": [
    "### Find NDVI & WP correlation with non-repeating WP values"
   ]
  },
  {
   "cell_type": "code",
   "execution_count": 110,
   "metadata": {
    "collapsed": false,
    "deletable": true,
    "editable": true
   },
   "outputs": [],
   "source": [
    "ndvi_31_sub = ndvi_31.as_matrix().squeeze()\n",
    "ndvi_07_sub = ndvi_07.as_matrix()[::3].squeeze()\n",
    "ndvi_14_sub = ndvi_14.as_matrix()[::3].squeeze()\n",
    "ndvi_28_sub = np.insert(ndvi_28.as_matrix(), 32, 0)[::3].squeeze()"
   ]
  },
  {
   "cell_type": "code",
   "execution_count": 111,
   "metadata": {
    "collapsed": false,
    "deletable": true,
    "editable": true
   },
   "outputs": [
    {
     "name": "stdout",
     "output_type": "stream",
     "text": [
      "(48,) (48,)\n"
     ]
    }
   ],
   "source": [
    "ndvi = np.concatenate((ndvi_31_sub, ndvi_07_sub, ndvi_14_sub, ndvi_28_sub), axis=0)\n",
    "wp = np.concatenate((wp_df[\"03/31/17\"], wp_df[\"04/07/17\"], wp_df[\"04/14/17\"], wp_df[\"04/28/17\"]), axis=0)\n",
    "print(ndvi.shape, wp.shape)"
   ]
  },
  {
   "cell_type": "code",
   "execution_count": 113,
   "metadata": {
    "collapsed": false,
    "deletable": true,
    "editable": true
   },
   "outputs": [
    {
     "data": {
      "text/plain": [
       "(0.3680197200678052, 0.010066862207092835)"
      ]
     },
     "execution_count": 113,
     "metadata": {},
     "output_type": "execute_result"
    }
   ],
   "source": [
    "stats.pearsonr(ndvi, wp)"
   ]
  },
  {
   "cell_type": "code",
   "execution_count": 114,
   "metadata": {
    "collapsed": false,
    "deletable": true,
    "editable": true
   },
   "outputs": [
    {
     "data": {
      "text/plain": [
       "<matplotlib.collections.PathCollection at 0x7ff5fe5c6b38>"
      ]
     },
     "execution_count": 114,
     "metadata": {},
     "output_type": "execute_result"
    },
    {
     "data": {
      "image/png": "[encoded data removed]",
      "text/plain": [
       "<matplotlib.figure.Figure at 0x7ff5fe887518>"
      ]
     },
     "metadata": {},
     "output_type": "display_data"
    }
   ],
   "source": [
    "plt.scatter(ndvi, wp)"
   ]
  },
  {
   "cell_type": "code",
   "execution_count": null,
   "metadata": {
    "collapsed": true,
    "deletable": true,
    "editable": true
   },
   "outputs": [],
   "source": []
  }
 ],
 "metadata": {
  "kernelspec": {
   "display_name": "Python 3",
   "language": "python",
   "name": "python3"
  },
  "language_info": {
   "codemirror_mode": {
    "name": "ipython",
    "version": 3
   },
   "file_extension": ".py",
   "mimetype": "text/x-python",
   "name": "python",
   "nbconvert_exporter": "python",
   "pygments_lexer": "ipython3",
   "version": "3.6.1"
  }
 },
 "nbformat": 4,
 "nbformat_minor": 2
}
