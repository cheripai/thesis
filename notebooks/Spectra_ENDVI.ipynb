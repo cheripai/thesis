{
 "cells": [
  {
   "cell_type": "code",
   "execution_count": 59,
   "metadata": {
    "collapsed": true
   },
   "outputs": [],
   "source": [
    "%matplotlib inline\n",
    "import cv2\n",
    "import numpy as np\n",
    "import matplotlib\n",
    "import pandas as pd\n",
    "import seaborn as sns\n",
    "import matplotlib.pyplot as plt\n",
    "import os\n",
    "import sys\n",
    "module_path = os.path.abspath(os.path.join('..'))\n",
    "if module_path not in sys.path:\n",
    "    sys.path.append(module_path)\n",
    "from scipy.stats import stats\n",
    "from utils.average_spectra import average_dataframe\n",
    "from utils.gray2ndvi import gray2ndvi, threshold\n",
    "sns.set(style=\"whitegrid\", color_codes=True)\n",
    "plt.rcParams['figure.figsize'] = (12, 8)"
   ]
  },
  {
   "cell_type": "code",
   "execution_count": 60,
   "metadata": {
    "collapsed": true
   },
   "outputs": [],
   "source": [
    "MIN_NDVI = 0.178432\n",
    "MAX_NDVI = 0.368569"
   ]
  },
  {
   "cell_type": "code",
   "execution_count": 61,
   "metadata": {
    "collapsed": true
   },
   "outputs": [],
   "source": [
    "rows, cols = 8, 3\n",
    "path = \"../data/UAV/orange1\"\n",
    "\n",
    "# 160x160 is the image dimension\n",
    "endvi = np.zeros((rows, cols, 160, 160))\n",
    "\n",
    "for i in range(rows):\n",
    "    for j in range(cols):\n",
    "        filename = path + \"/{}{}.png\".format(j+1, chr(i+65))\n",
    "        try:\n",
    "            img = cv2.imread(filename)\n",
    "            gray_img = cv2.cvtColor(img, cv2.COLOR_BGR2GRAY)\n",
    "            gray_img = cv2.resize(gray_img, (160, 160))\n",
    "            endvi[i, j] = gray2ndvi(gray_img, MIN_NDVI, MAX_NDVI)\n",
    "            endvi[i, j] = threshold(endvi[i, j], MIN_NDVI, MAX_NDVI)\n",
    "        except:\n",
    "            endvi[i, j] = np.nan"
   ]
  },
  {
   "cell_type": "code",
   "execution_count": 62,
   "metadata": {
    "collapsed": true
   },
   "outputs": [],
   "source": [
    "endvi_mean = np.zeros((rows, cols))\n",
    "\n",
    "for i in range(rows):\n",
    "    for j in range(cols):\n",
    "        endvi_mean[i, j] = np.nanmean(endvi[i, j])"
   ]
  },
  {
   "cell_type": "code",
   "execution_count": 63,
   "metadata": {},
   "outputs": [
    {
     "data": {
      "text/plain": [
       "0.33490705474047566"
      ]
     },
     "execution_count": 63,
     "metadata": {},
     "output_type": "execute_result"
    }
   ],
   "source": [
    "endvi_mean[0, 0]"
   ]
  },
  {
   "cell_type": "code",
   "execution_count": 64,
   "metadata": {},
   "outputs": [
    {
     "data": {
      "text/plain": [
       "array([ 0.33490705,  0.32639327,  0.32530164,  0.33234782,  0.32851721,\n",
       "        0.31904888,  0.30175293,  0.30014589,  0.33799363,  0.32851576,\n",
       "        0.33660884,  0.34271504,  0.34299348,  0.3243784 ,  0.29834162,\n",
       "        0.29434938,  0.34093913,  0.33380244,  0.33162118,  0.33576664,\n",
       "        0.3298913 ,  0.32565457,  0.29850008,  0.29794325])"
      ]
     },
     "execution_count": 64,
     "metadata": {},
     "output_type": "execute_result"
    }
   ],
   "source": [
    "endvi_mean = endvi_mean.flatten(\"F\")\n",
    "endvi_mean = endvi_mean[~np.isnan(endvi_mean)]\n",
    "endvi_mean"
   ]
  },
  {
   "cell_type": "code",
   "execution_count": 65,
   "metadata": {
    "collapsed": true
   },
   "outputs": [],
   "source": [
    "spectra_12 = pd.read_csv(\"../data/Unprocessed/2017-05-12.csv\")\n",
    "spectra_19 = pd.read_csv(\"../data/Unprocessed/2017-05-19.csv\")"
   ]
  },
  {
   "cell_type": "code",
   "execution_count": 89,
   "metadata": {
    "collapsed": true
   },
   "outputs": [],
   "source": [
    "NIR = (750, 1075)\n",
    "BLUE = (450, 515)\n",
    "GREEN = (520, 600)\n",
    "wavelength_index = {k:v for k, v in zip(spectra_12[\"Wavelength\"], range(751))}\n",
    "\n",
    "def preprocess_spectra(df):\n",
    "    return average_dataframe(df, 20).drop(\"Wavelengths\", 1).as_matrix()\n",
    "\n",
    "def ENDVI(v):\n",
    "    nir = v[wavelength_index[NIR[0]]:wavelength_index[NIR[1]]].mean(axis=0)\n",
    "    green = v[wavelength_index[GREEN[0]]:wavelength_index[GREEN[1]]].mean(axis=0)\n",
    "    blue = v[wavelength_index[BLUE[0]]:wavelength_index[BLUE[1]]].mean(axis=0)\n",
    "    return ((nir + green) - (2 * blue)) / ((nir + green) + (2 * blue))"
   ]
  },
  {
   "cell_type": "code",
   "execution_count": 90,
   "metadata": {},
   "outputs": [],
   "source": [
    "spectra = np.zeros((4, 8, 751))\n",
    "spectra[0:2] = preprocess_spectra(spectra_12).T.reshape((2,8,751), order=\"C\")\n",
    "spectra[2:4] = preprocess_spectra(spectra_19).T.reshape((2,8,751), order=\"C\")"
   ]
  },
  {
   "cell_type": "code",
   "execution_count": 91,
   "metadata": {},
   "outputs": [
    {
     "data": {
      "text/plain": [
       "(24, 751)"
      ]
     },
     "execution_count": 91,
     "metadata": {},
     "output_type": "execute_result"
    }
   ],
   "source": [
    "spectra = spectra[:3]\n",
    "spectra = spectra.reshape((24, 751))\n",
    "spectra.shape"
   ]
  },
  {
   "cell_type": "code",
   "execution_count": 97,
   "metadata": {},
   "outputs": [],
   "source": [
    "endvi = [ENDVI(spectra[i]) for i in range(spectra.shape[0])]"
   ]
  },
  {
   "cell_type": "code",
   "execution_count": 98,
   "metadata": {},
   "outputs": [
    {
     "data": {
      "text/plain": [
       "(-0.0030744051412641997, 0.98862463482722185)"
      ]
     },
     "execution_count": 98,
     "metadata": {},
     "output_type": "execute_result"
    }
   ],
   "source": [
    "stats.pearsonr(endvi_mean, endvi)"
   ]
  },
  {
   "cell_type": "code",
   "execution_count": 100,
   "metadata": {},
   "outputs": [
    {
     "data": {
      "text/plain": [
       "(0.32368456030928522, 0.7950977283478956)"
      ]
     },
     "execution_count": 100,
     "metadata": {},
     "output_type": "execute_result"
    }
   ],
   "source": [
    "endvi_mean.mean(), np.array(endvi).mean()"
   ]
  },
  {
   "cell_type": "code",
   "execution_count": null,
   "metadata": {
    "collapsed": true
   },
   "outputs": [],
   "source": []
  }
 ],
 "metadata": {
  "kernelspec": {
   "display_name": "Python 3",
   "language": "python",
   "name": "python3"
  },
  "language_info": {
   "codemirror_mode": {
    "name": "ipython",
    "version": 3
   },
   "file_extension": ".py",
   "mimetype": "text/x-python",
   "name": "python",
   "nbconvert_exporter": "python",
   "pygments_lexer": "ipython3",
   "version": "3.6.2"
  }
 },
 "nbformat": 4,
 "nbformat_minor": 2
}
