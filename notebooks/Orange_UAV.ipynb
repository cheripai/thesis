{
 "cells": [
  {
   "cell_type": "code",
   "execution_count": 1,
   "metadata": {
    "collapsed": true
   },
   "outputs": [],
   "source": [
    "%matplotlib inline\n",
    "import cv2\n",
    "import numpy as np\n",
    "import matplotlib\n",
    "import pandas as pd\n",
    "import seaborn as sns\n",
    "import matplotlib.pyplot as plt\n",
    "import os\n",
    "import sys\n",
    "module_path = os.path.abspath(os.path.join('..'))\n",
    "if module_path not in sys.path:\n",
    "    sys.path.append(module_path)\n",
    "from scipy.stats import stats\n",
    "from utils.gray2ndvi import gray2ndvi, threshold\n",
    "sns.set(style=\"whitegrid\", color_codes=True)\n",
    "plt.rcParams['figure.figsize'] = (12, 8)"
   ]
  },
  {
   "cell_type": "code",
   "execution_count": 2,
   "metadata": {
    "collapsed": true
   },
   "outputs": [],
   "source": [
    "MIN_NDVI = 0.178432\n",
    "MAX_NDVI = 0.368569"
   ]
  },
  {
   "cell_type": "code",
   "execution_count": 3,
   "metadata": {
    "collapsed": true
   },
   "outputs": [],
   "source": [
    "df_07_13 = pd.read_csv(\"../data/Spreadsheet/2017-07-13.csv\")\n",
    "df_08_03 = pd.read_csv(\"../data/Spreadsheet/2017-08-03.csv\")"
   ]
  },
  {
   "cell_type": "code",
   "execution_count": 4,
   "metadata": {
    "collapsed": true
   },
   "outputs": [],
   "source": [
    "ndvi = df_07_13[\"NDVI\"].as_matrix()\n",
    "spad = df_07_13[\"SPAD\"].as_matrix()\n",
    "ndvi = np.concatenate((ndvi, df_08_03[\"NDVI\"].as_matrix()))\n",
    "spad = np.concatenate((spad, df_08_03[\"SPAD\"].as_matrix()))"
   ]
  },
  {
   "cell_type": "code",
   "execution_count": 5,
   "metadata": {
    "collapsed": true
   },
   "outputs": [],
   "source": [
    "rows, cols = 8, 3\n",
    "path = \"../data/UAV/orange_segmented\"\n",
    "\n",
    "# 160x160 is the image dimension\n",
    "endvi = np.zeros((rows, cols, 160, 160))\n",
    "\n",
    "for i in range(rows):\n",
    "    for j in range(cols):\n",
    "        filename = path + \"/{}{}.png\".format(j+20, chr(i+65))\n",
    "        try:\n",
    "            img = cv2.imread(filename)\n",
    "            gray_img = cv2.cvtColor(img, cv2.COLOR_BGR2GRAY)\n",
    "            gray_img = cv2.resize(gray_img, (160, 160))\n",
    "            endvi[i, j] = gray2ndvi(gray_img, MIN_NDVI, MAX_NDVI)\n",
    "            endvi[i, j] = threshold(endvi[i, j], MIN_NDVI, MAX_NDVI)\n",
    "        except:\n",
    "            endvi[i, j] = np.nan"
   ]
  },
  {
   "cell_type": "code",
   "execution_count": 6,
   "metadata": {},
   "outputs": [
    {
     "name": "stderr",
     "output_type": "stream",
     "text": [
      "/home/dat/.Envs/tf/lib/python3.6/site-packages/ipykernel_launcher.py:5: RuntimeWarning: Mean of empty slice\n",
      "  \"\"\"\n"
     ]
    }
   ],
   "source": [
    "endvi_mean = np.zeros((rows, cols))\n",
    "\n",
    "for i in range(rows):\n",
    "    for j in range(cols):\n",
    "        endvi_mean[i, j] = np.nanmean(endvi[i, j])"
   ]
  },
  {
   "cell_type": "code",
   "execution_count": 7,
   "metadata": {},
   "outputs": [
    {
     "data": {
      "text/plain": [
       "0.32359733124398826"
      ]
     },
     "execution_count": 7,
     "metadata": {},
     "output_type": "execute_result"
    }
   ],
   "source": [
    "endvi_mean[0, 0]"
   ]
  },
  {
   "cell_type": "code",
   "execution_count": 8,
   "metadata": {},
   "outputs": [
    {
     "data": {
      "text/plain": [
       "array([ 0.32359733,  0.32038739,  0.30868971,  0.31494071,  0.30942974,\n",
       "        0.31628345,  0.33679959,  0.33353946,  0.32398808,  0.32013058,\n",
       "        0.3128491 ,  0.30750925])"
      ]
     },
     "execution_count": 8,
     "metadata": {},
     "output_type": "execute_result"
    }
   ],
   "source": [
    "endvi_mean = endvi_mean.flatten(\"F\")\n",
    "endvi_mean = endvi_mean[~np.isnan(endvi_mean)]\n",
    "endvi_mean"
   ]
  },
  {
   "cell_type": "code",
   "execution_count": 9,
   "metadata": {},
   "outputs": [
    {
     "name": "stderr",
     "output_type": "stream",
     "text": [
      "/home/dat/.Envs/tf/lib/python3.6/site-packages/ipykernel_launcher.py:1: FutureWarning: reshape is deprecated and will raise in a subsequent release. Please use .values.reshape(...) instead\n",
      "  \"\"\"Entry point for launching an IPython kernel.\n"
     ]
    },
    {
     "data": {
      "text/plain": [
       "array([ 31.075,  42.455,  56.88 ,  41.57 ,  32.81 ,  42.58 ,  42.465])"
      ]
     },
     "execution_count": 9,
     "metadata": {},
     "output_type": "execute_result"
    }
   ],
   "source": [
    "spad_mean = np.mean(df_07_13[\"SPAD\"].reshape(-1, 2), axis=1)\n",
    "spad_mean"
   ]
  },
  {
   "cell_type": "code",
   "execution_count": 10,
   "metadata": {},
   "outputs": [
    {
     "name": "stderr",
     "output_type": "stream",
     "text": [
      "/home/dat/.Envs/tf/lib/python3.6/site-packages/ipykernel_launcher.py:1: FutureWarning: reshape is deprecated and will raise in a subsequent release. Please use .values.reshape(...) instead\n",
      "  \"\"\"Entry point for launching an IPython kernel.\n"
     ]
    }
   ],
   "source": [
    "spad_mean = np.concatenate((spad_mean, np.mean(df_08_03[\"SPAD\"].reshape(-1, 2), axis=1)[3:]))"
   ]
  },
  {
   "cell_type": "code",
   "execution_count": 11,
   "metadata": {},
   "outputs": [
    {
     "data": {
      "text/plain": [
       "array([ 31.075,  42.455,  56.88 ,  41.57 ,  32.81 ,  42.58 ,  42.465,\n",
       "        48.855,  43.875,  45.69 ,  50.19 ,  42.21 ])"
      ]
     },
     "execution_count": 11,
     "metadata": {},
     "output_type": "execute_result"
    }
   ],
   "source": [
    "spad_mean"
   ]
  },
  {
   "cell_type": "code",
   "execution_count": 12,
   "metadata": {},
   "outputs": [
    {
     "data": {
      "text/plain": [
       "(-0.064499393052582968, 0.84214818793706292)"
      ]
     },
     "execution_count": 12,
     "metadata": {},
     "output_type": "execute_result"
    }
   ],
   "source": [
    "stats.pearsonr(endvi_mean, spad_mean)"
   ]
  },
  {
   "cell_type": "code",
   "execution_count": 13,
   "metadata": {},
   "outputs": [
    {
     "data": {
      "text/plain": [
       "<matplotlib.text.Text at 0x7fdd8c2e06a0>"
      ]
     },
     "execution_count": 13,
     "metadata": {},
     "output_type": "execute_result"
    },
    {
     "data": {
      "image/png": "[encoded data removed]",
      "text/plain": [
       "<matplotlib.figure.Figure at 0x7fdd94699080>"
      ]
     },
     "metadata": {},
     "output_type": "display_data"
    }
   ],
   "source": [
    "fig = plt.figure()\n",
    "plt.scatter(spad_mean, endvi_mean)\n",
    "fig.suptitle(\"Chlorophyll and ENDVI\")\n",
    "plt.ylabel(\"ENDVI\")\n",
    "plt.xlabel(\"Chlorophyll\")"
   ]
  },
  {
   "cell_type": "code",
   "execution_count": null,
   "metadata": {
    "collapsed": true
   },
   "outputs": [],
   "source": []
  }
 ],
 "metadata": {
  "kernelspec": {
   "display_name": "Python 3",
   "language": "python",
   "name": "python3"
  },
  "language_info": {
   "codemirror_mode": {
    "name": "ipython",
    "version": 3
   },
   "file_extension": ".py",
   "mimetype": "text/x-python",
   "name": "python",
   "nbconvert_exporter": "python",
   "pygments_lexer": "ipython3",
   "version": "3.6.2"
  }
 },
 "nbformat": 4,
 "nbformat_minor": 2
}
