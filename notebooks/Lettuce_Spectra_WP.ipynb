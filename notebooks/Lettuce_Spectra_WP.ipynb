{
 "cells": [
  {
   "cell_type": "code",
   "execution_count": 59,
   "metadata": {
    "collapsed": true
   },
   "outputs": [],
   "source": [
    "%matplotlib inline\n",
    "import numpy as np\n",
    "import matplotlib\n",
    "import pandas as pd\n",
    "import seaborn as sns\n",
    "import matplotlib.pyplot as plt\n",
    "from scipy.stats import stats\n",
    "from sklearn.metrics import mean_absolute_error\n",
    "from sklearn.model_selection import train_test_split\n",
    "sns.set(style=\"whitegrid\", color_codes=True)\n",
    "plt.rcParams['figure.figsize'] = (12, 6)"
   ]
  },
  {
   "cell_type": "code",
   "execution_count": 10,
   "metadata": {
    "collapsed": true
   },
   "outputs": [],
   "source": [
    "df_10_20 = pd.read_csv(\"../data/Spreadsheet/Lettuce/2017-10-20.csv\").dropna()\n",
    "df_10_27 = pd.read_csv(\"../data/Spreadsheet/Lettuce/2017-10-27.csv\").dropna()\n",
    "df_11_03 = pd.read_csv(\"../data/Spreadsheet/Lettuce/2017-11-03.csv\").dropna()\n",
    "df_11_10 = pd.read_csv(\"../data/Spreadsheet/Lettuce/2017-11-10.csv\").dropna()\n",
    "df_11_17 = pd.read_csv(\"../data/Spreadsheet/Lettuce/2017-11-17.csv\").dropna()\n",
    "df_11_22 = pd.read_csv(\"../data/Spreadsheet/Lettuce/2017-11-22.csv\").dropna()"
   ]
  },
  {
   "cell_type": "code",
   "execution_count": 18,
   "metadata": {
    "collapsed": true
   },
   "outputs": [],
   "source": [
    "def preprocess_spectra(df):\n",
    "    return average_dataframe(df, 15).drop(\"Wavelengths\", 1).as_matrix().transpose()\n",
    "\n",
    "def average_dataframe(df, n):\n",
    "    # Separate label column from data\n",
    "    label = df.iloc[:,0]\n",
    "    df = df.iloc[:,1:]\n",
    "\n",
    "    if (df.shape[1]) % n != 0:\n",
    "        raise Exception(\"Number of columns: {}. Not divisible by {}.\".format(df.shape[1], n))\n",
    "\n",
    "    # Average every N columns\n",
    "    average_df = pd.DataFrame()\n",
    "    average_df[\"Wavelengths\"] = label\n",
    "    for i in range((df.shape[1]) // n):\n",
    "        average_df[i] = df.iloc[:,i*n:(i+1)*n].mean(axis=1)\n",
    "\n",
    "    return average_df"
   ]
  },
  {
   "cell_type": "code",
   "execution_count": 30,
   "metadata": {
    "collapsed": true
   },
   "outputs": [],
   "source": [
    "spectra_10_20 = np.delete(preprocess_spectra(pd.read_csv(\"../data/Unprocessed/2017-10-20.csv\")), list(range(1, 96, 2)), axis=0)\n",
    "spectra_10_27 = np.delete(preprocess_spectra(pd.read_csv(\"../data/Unprocessed/2017-10-27.csv\")), list(range(1, 96, 2)), axis=0)\n",
    "spectra_11_03 = np.delete(preprocess_spectra(pd.read_csv(\"../data/Unprocessed/2017-11-03.csv\")), list(range(1, 96, 2)), axis=0)\n",
    "spectra_11_10 = np.delete(preprocess_spectra(pd.read_csv(\"../data/Unprocessed/2017-11-10.csv\")), list(range(1, 96, 2)), axis=0)\n",
    "spectra_11_17 = np.delete(preprocess_spectra(pd.read_csv(\"../data/Unprocessed/2017-11-17.csv\")), list(range(1, 96, 2)), axis=0)\n",
    "spectra_11_22 = np.delete(preprocess_spectra(pd.read_csv(\"../data/Unprocessed/2017-11-22.csv\")), list(range(1, 96, 2)), axis=0)"
   ]
  },
  {
   "cell_type": "code",
   "execution_count": 31,
   "metadata": {},
   "outputs": [
    {
     "name": "stdout",
     "output_type": "stream",
     "text": [
      "(48, 751)\n",
      "(48, 751)\n",
      "(48, 751)\n",
      "(48, 751)\n",
      "(48, 751)\n",
      "(48, 751)\n"
     ]
    }
   ],
   "source": [
    "print(spectra_10_20.shape)\n",
    "print(spectra_10_27.shape)\n",
    "print(spectra_11_03.shape)\n",
    "print(spectra_11_10.shape)\n",
    "print(spectra_11_17.shape)\n",
    "print(spectra_11_22.shape)"
   ]
  },
  {
   "cell_type": "code",
   "execution_count": 44,
   "metadata": {
    "collapsed": true
   },
   "outputs": [],
   "source": [
    "spectra = np.concatenate([spectra_10_20, spectra_10_27, spectra_11_03, spectra_11_10, spectra_11_17, spectra_11_22], axis=0)\n",
    "wp = np.concatenate([df_10_20[\"WP\"].values, df_10_27[\"WP\"].values, df_11_03[\"WP\"].values, df_11_10[\"WP\"].values, df_11_17[\"WP\"].values, df_11_22[\"WP\"].values], axis=0)"
   ]
  },
  {
   "cell_type": "code",
   "execution_count": 45,
   "metadata": {},
   "outputs": [
    {
     "data": {
      "text/plain": [
       "((288, 751), (288,))"
      ]
     },
     "execution_count": 45,
     "metadata": {},
     "output_type": "execute_result"
    }
   ],
   "source": [
    "spectra.shape, wp.shape"
   ]
  },
  {
   "cell_type": "markdown",
   "metadata": {},
   "source": [
    "# Train Predictor"
   ]
  },
  {
   "cell_type": "code",
   "execution_count": 60,
   "metadata": {
    "collapsed": true
   },
   "outputs": [],
   "source": [
    "X_train, X_valid, y_train, y_valid = train_test_split(spectra, wp, test_size=0.15)"
   ]
  },
  {
   "cell_type": "code",
   "execution_count": 66,
   "metadata": {},
   "outputs": [
    {
     "name": "stdout",
     "output_type": "stream",
     "text": [
      "5.27271532447e-13\n",
      "3.08908611094\n"
     ]
    }
   ],
   "source": [
    "from sklearn.linear_model import LinearRegression, Lasso\n",
    "reg = LinearRegression()\n",
    "reg.fit(X_train, y_train)\n",
    "print(mean_absolute_error(reg.predict(X_train), y_train))\n",
    "print(mean_absolute_error(reg.predict(X_valid), y_valid))"
   ]
  },
  {
   "cell_type": "code",
   "execution_count": 67,
   "metadata": {},
   "outputs": [
    {
     "name": "stdout",
     "output_type": "stream",
     "text": [
      "0.986754427273\n",
      "1.31905782465\n"
     ]
    }
   ],
   "source": [
    "from sklearn.neural_network import MLPRegressor\n",
    "mlp = MLPRegressor(max_iter=500)\n",
    "mlp.fit(X_train, y_train)\n",
    "print(mean_absolute_error(mlp.predict(X_train), y_train))\n",
    "print(mean_absolute_error(mlp.predict(X_valid), y_valid))"
   ]
  },
  {
   "cell_type": "code",
   "execution_count": 68,
   "metadata": {},
   "outputs": [
    {
     "data": {
      "text/plain": [
       "1.4696715784865375"
      ]
     },
     "execution_count": 68,
     "metadata": {},
     "output_type": "execute_result"
    },
    {
     "data": {
      "image/png": "[encoded data removed]",
      "text/plain": [
       "<matplotlib.figure.Figure at 0x7f9977fa24a8>"
      ]
     },
     "metadata": {},
     "output_type": "display_data"
    }
   ],
   "source": [
    "plt.hist(wp, 36, rwidth=0.95)\n",
    "np.std(wp)"
   ]
  },
  {
   "cell_type": "markdown",
   "metadata": {
    "collapsed": true
   },
   "source": [
    "# Correlation with 970nm"
   ]
  },
  {
   "cell_type": "code",
   "execution_count": 84,
   "metadata": {},
   "outputs": [],
   "source": [
    "wbi = spectra[:, 900-325] / spectra[:, 970-325]"
   ]
  },
  {
   "cell_type": "code",
   "execution_count": 82,
   "metadata": {},
   "outputs": [
    {
     "data": {
      "text/plain": [
       "(-0.0064921844824051399, 0.912648864667437)"
      ]
     },
     "execution_count": 82,
     "metadata": {},
     "output_type": "execute_result"
    }
   ],
   "source": [
    "stats.pearsonr(wbi, wp)"
   ]
  },
  {
   "cell_type": "code",
   "execution_count": null,
   "metadata": {
    "collapsed": true
   },
   "outputs": [],
   "source": []
  }
 ],
 "metadata": {
  "kernelspec": {
   "display_name": "Python 3",
   "language": "python",
   "name": "python3"
  },
  "language_info": {
   "codemirror_mode": {
    "name": "ipython",
    "version": 3
   },
   "file_extension": ".py",
   "mimetype": "text/x-python",
   "name": "python",
   "nbconvert_exporter": "python",
   "pygments_lexer": "ipython3",
   "version": "3.6.3"
  }
 },
 "nbformat": 4,
 "nbformat_minor": 2
}
