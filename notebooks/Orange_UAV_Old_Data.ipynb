{
 "cells": [
  {
   "cell_type": "code",
   "execution_count": 3,
   "metadata": {
    "collapsed": true
   },
   "outputs": [],
   "source": [
    "%matplotlib inline\n",
    "import cv2\n",
    "import numpy as np\n",
    "import matplotlib\n",
    "import pandas as pd\n",
    "import seaborn as sns\n",
    "import matplotlib.pyplot as plt\n",
    "import os\n",
    "import sys\n",
    "module_path = os.path.abspath(os.path.join('..'))\n",
    "if module_path not in sys.path:\n",
    "    sys.path.append(module_path)\n",
    "from scipy.stats import stats\n",
    "from utils.gray2ndvi import gray2ndvi, threshold\n",
    "sns.set(style=\"whitegrid\", color_codes=True)\n",
    "plt.rcParams['figure.figsize'] = (12, 8)"
   ]
  },
  {
   "cell_type": "code",
   "execution_count": 4,
   "metadata": {
    "collapsed": true
   },
   "outputs": [],
   "source": [
    "MIN_NDVI = 0.178432\n",
    "MAX_NDVI = 0.368569"
   ]
  },
  {
   "cell_type": "code",
   "execution_count": 9,
   "metadata": {},
   "outputs": [],
   "source": [
    "spad = pd.read_csv(\"../data/Chlorophyll/Orange_Chlorophyll.csv\", header=None).as_matrix()"
   ]
  },
  {
   "cell_type": "code",
   "execution_count": 11,
   "metadata": {},
   "outputs": [
    {
     "data": {
      "text/plain": [
       "(14, 8)"
      ]
     },
     "execution_count": 11,
     "metadata": {},
     "output_type": "execute_result"
    }
   ],
   "source": [
    "spad.shape"
   ]
  },
  {
   "cell_type": "code",
   "execution_count": 81,
   "metadata": {},
   "outputs": [],
   "source": [
    "rows, cols = 8, 3\n",
    "path = \"../data/UAV/orange1\"\n",
    "\n",
    "# 160x160 is the image dimension\n",
    "endvi = np.zeros((rows, cols, 160, 160))\n",
    "\n",
    "for i in range(rows):\n",
    "    for j in range(cols):\n",
    "        filename = path + \"/{}{}.png\".format(j+1, chr(i+65))\n",
    "        try:\n",
    "            img = cv2.imread(filename)\n",
    "            gray_img = cv2.cvtColor(img, cv2.COLOR_BGR2GRAY)\n",
    "            gray_img = cv2.resize(gray_img, (160, 160))\n",
    "            endvi[i, j] = gray2ndvi(gray_img, MIN_NDVI, MAX_NDVI)\n",
    "            endvi[i, j] = threshold(endvi[i, j], MIN_NDVI, MAX_NDVI)\n",
    "        except:\n",
    "            endvi[i, j] = np.nan"
   ]
  },
  {
   "cell_type": "code",
   "execution_count": 82,
   "metadata": {},
   "outputs": [],
   "source": [
    "endvi_mean = np.zeros((rows, cols))\n",
    "\n",
    "for i in range(rows):\n",
    "    for j in range(cols):\n",
    "        endvi_mean[i, j] = np.nanmean(endvi[i, j])"
   ]
  },
  {
   "cell_type": "code",
   "execution_count": 83,
   "metadata": {},
   "outputs": [
    {
     "data": {
      "text/plain": [
       "0.33490705474047566"
      ]
     },
     "execution_count": 83,
     "metadata": {},
     "output_type": "execute_result"
    }
   ],
   "source": [
    "endvi_mean[0, 0]"
   ]
  },
  {
   "cell_type": "code",
   "execution_count": 84,
   "metadata": {},
   "outputs": [
    {
     "data": {
      "text/plain": [
       "array([ 0.33490705,  0.32639327,  0.32530164,  0.33234782,  0.32851721,\n",
       "        0.31904888,  0.30175293,  0.30014589,  0.33799363,  0.32851576,\n",
       "        0.33660884,  0.34271504,  0.34299348,  0.3243784 ,  0.29834162,\n",
       "        0.29434938,  0.34093913,  0.33380244,  0.33162118,  0.33576664,\n",
       "        0.3298913 ,  0.32565457,  0.29850008,  0.29794325])"
      ]
     },
     "execution_count": 84,
     "metadata": {},
     "output_type": "execute_result"
    }
   ],
   "source": [
    "endvi_mean = endvi_mean.flatten(\"F\")\n",
    "endvi_mean = endvi_mean[~np.isnan(endvi_mean)]\n",
    "endvi_mean"
   ]
  },
  {
   "cell_type": "code",
   "execution_count": 85,
   "metadata": {},
   "outputs": [
    {
     "data": {
      "text/plain": [
       "(0.22281878608276012, 0.29531102971688877)"
      ]
     },
     "execution_count": 85,
     "metadata": {},
     "output_type": "execute_result"
    }
   ],
   "source": [
    "stats.pearsonr(endvi_mean, spad[0:3].flatten())"
   ]
  },
  {
   "cell_type": "code",
   "execution_count": 55,
   "metadata": {},
   "outputs": [
    {
     "data": {
      "text/plain": [
       "<matplotlib.text.Text at 0x7f4628388240>"
      ]
     },
     "execution_count": 55,
     "metadata": {},
     "output_type": "execute_result"
    },
    {
     "data": {
      "image/png": "[encoded data removed]",
      "text/plain": [
       "<matplotlib.figure.Figure at 0x7f462835cd30>"
      ]
     },
     "metadata": {},
     "output_type": "display_data"
    }
   ],
   "source": [
    "fig = plt.figure()\n",
    "plt.scatter(spad[0:3].flatten(), endvi_mean)\n",
    "fig.suptitle(\"Chlorophyll and ENDVI\")\n",
    "plt.ylabel(\"ENDVI\")\n",
    "plt.xlabel(\"Chlorophyll\")"
   ]
  },
  {
   "cell_type": "code",
   "execution_count": null,
   "metadata": {
    "collapsed": true
   },
   "outputs": [],
   "source": []
  }
 ],
 "metadata": {
  "kernelspec": {
   "display_name": "Python 3",
   "language": "python",
   "name": "python3"
  },
  "language_info": {
   "codemirror_mode": {
    "name": "ipython",
    "version": 3
   },
   "file_extension": ".py",
   "mimetype": "text/x-python",
   "name": "python",
   "nbconvert_exporter": "python",
   "pygments_lexer": "ipython3",
   "version": "3.6.2"
  }
 },
 "nbformat": 4,
 "nbformat_minor": 2
}
