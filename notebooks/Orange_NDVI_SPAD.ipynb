{
 "cells": [
  {
   "cell_type": "code",
   "execution_count": 23,
   "metadata": {
    "collapsed": false
   },
   "outputs": [],
   "source": [
    "%matplotlib inline\n",
    "import numpy as np\n",
    "import matplotlib\n",
    "import pandas as pd\n",
    "import seaborn as sns\n",
    "import matplotlib.pyplot as plt\n",
    "from scipy.stats import stats\n",
    "sns.set(style=\"whitegrid\", color_codes=True)\n",
    "plt.rcParams['figure.figsize'] = (12, 6)"
   ]
  },
  {
   "cell_type": "code",
   "execution_count": 4,
   "metadata": {
    "collapsed": true
   },
   "outputs": [],
   "source": [
    "ndvi = pd.read_csv(\"../data/NDVI/Orange_NDVI.csv\", header=None)\n",
    "spad = pd.read_csv(\"../data/Chlorophyll/Orange_Chlorophyll.csv\", header=None)"
   ]
  },
  {
   "cell_type": "code",
   "execution_count": 7,
   "metadata": {
    "collapsed": false
   },
   "outputs": [
    {
     "data": {
      "text/html": [
       "<div>\n",
       "<table border=\"1\" class=\"dataframe\">\n",
       "  <thead>\n",
       "    <tr style=\"text-align: right;\">\n",
       "      <th></th>\n",
       "      <th>0</th>\n",
       "      <th>1</th>\n",
       "      <th>2</th>\n",
       "      <th>3</th>\n",
       "      <th>4</th>\n",
       "      <th>5</th>\n",
       "      <th>6</th>\n",
       "      <th>7</th>\n",
       "    </tr>\n",
       "  </thead>\n",
       "  <tbody>\n",
       "    <tr>\n",
       "      <th>0</th>\n",
       "      <td>0.906996</td>\n",
       "      <td>0.912257</td>\n",
       "      <td>0.892744</td>\n",
       "      <td>0.899565</td>\n",
       "      <td>0.911893</td>\n",
       "      <td>0.855733</td>\n",
       "      <td>0.920797</td>\n",
       "      <td>0.897833</td>\n",
       "    </tr>\n",
       "    <tr>\n",
       "      <th>1</th>\n",
       "      <td>0.890002</td>\n",
       "      <td>0.829614</td>\n",
       "      <td>0.800241</td>\n",
       "      <td>0.883612</td>\n",
       "      <td>0.795247</td>\n",
       "      <td>0.499829</td>\n",
       "      <td>0.869014</td>\n",
       "      <td>0.742279</td>\n",
       "    </tr>\n",
       "    <tr>\n",
       "      <th>2</th>\n",
       "      <td>0.746491</td>\n",
       "      <td>0.814974</td>\n",
       "      <td>0.892490</td>\n",
       "      <td>0.825297</td>\n",
       "      <td>0.849759</td>\n",
       "      <td>0.769442</td>\n",
       "      <td>0.895997</td>\n",
       "      <td>0.823675</td>\n",
       "    </tr>\n",
       "    <tr>\n",
       "      <th>3</th>\n",
       "      <td>0.868104</td>\n",
       "      <td>0.892306</td>\n",
       "      <td>0.872143</td>\n",
       "      <td>0.851512</td>\n",
       "      <td>0.871616</td>\n",
       "      <td>0.886104</td>\n",
       "      <td>0.901130</td>\n",
       "      <td>0.821213</td>\n",
       "    </tr>\n",
       "    <tr>\n",
       "      <th>4</th>\n",
       "      <td>0.658570</td>\n",
       "      <td>0.815792</td>\n",
       "      <td>0.823126</td>\n",
       "      <td>0.856335</td>\n",
       "      <td>0.792821</td>\n",
       "      <td>0.709106</td>\n",
       "      <td>0.823351</td>\n",
       "      <td>0.761536</td>\n",
       "    </tr>\n",
       "    <tr>\n",
       "      <th>5</th>\n",
       "      <td>0.871359</td>\n",
       "      <td>0.840916</td>\n",
       "      <td>0.836559</td>\n",
       "      <td>0.856965</td>\n",
       "      <td>0.751258</td>\n",
       "      <td>0.818247</td>\n",
       "      <td>0.787554</td>\n",
       "      <td>0.783491</td>\n",
       "    </tr>\n",
       "    <tr>\n",
       "      <th>6</th>\n",
       "      <td>0.778454</td>\n",
       "      <td>0.804447</td>\n",
       "      <td>0.785957</td>\n",
       "      <td>0.845633</td>\n",
       "      <td>0.800315</td>\n",
       "      <td>0.796938</td>\n",
       "      <td>0.863061</td>\n",
       "      <td>0.594488</td>\n",
       "    </tr>\n",
       "    <tr>\n",
       "      <th>7</th>\n",
       "      <td>0.782452</td>\n",
       "      <td>0.770871</td>\n",
       "      <td>0.869239</td>\n",
       "      <td>0.856583</td>\n",
       "      <td>0.721181</td>\n",
       "      <td>0.796343</td>\n",
       "      <td>0.823455</td>\n",
       "      <td>0.740690</td>\n",
       "    </tr>\n",
       "    <tr>\n",
       "      <th>8</th>\n",
       "      <td>0.843522</td>\n",
       "      <td>0.765611</td>\n",
       "      <td>0.790544</td>\n",
       "      <td>0.804250</td>\n",
       "      <td>0.722909</td>\n",
       "      <td>0.877346</td>\n",
       "      <td>0.836316</td>\n",
       "      <td>0.781098</td>\n",
       "    </tr>\n",
       "  </tbody>\n",
       "</table>\n",
       "</div>"
      ],
      "text/plain": [
       "          0         1         2         3         4         5         6  \\\n",
       "0  0.906996  0.912257  0.892744  0.899565  0.911893  0.855733  0.920797   \n",
       "1  0.890002  0.829614  0.800241  0.883612  0.795247  0.499829  0.869014   \n",
       "2  0.746491  0.814974  0.892490  0.825297  0.849759  0.769442  0.895997   \n",
       "3  0.868104  0.892306  0.872143  0.851512  0.871616  0.886104  0.901130   \n",
       "4  0.658570  0.815792  0.823126  0.856335  0.792821  0.709106  0.823351   \n",
       "5  0.871359  0.840916  0.836559  0.856965  0.751258  0.818247  0.787554   \n",
       "6  0.778454  0.804447  0.785957  0.845633  0.800315  0.796938  0.863061   \n",
       "7  0.782452  0.770871  0.869239  0.856583  0.721181  0.796343  0.823455   \n",
       "8  0.843522  0.765611  0.790544  0.804250  0.722909  0.877346  0.836316   \n",
       "\n",
       "          7  \n",
       "0  0.897833  \n",
       "1  0.742279  \n",
       "2  0.823675  \n",
       "3  0.821213  \n",
       "4  0.761536  \n",
       "5  0.783491  \n",
       "6  0.594488  \n",
       "7  0.740690  \n",
       "8  0.781098  "
      ]
     },
     "execution_count": 7,
     "metadata": {},
     "output_type": "execute_result"
    }
   ],
   "source": [
    "ndvi"
   ]
  },
  {
   "cell_type": "code",
   "execution_count": 9,
   "metadata": {
    "collapsed": false
   },
   "outputs": [
    {
     "data": {
      "text/html": [
       "<div>\n",
       "<table border=\"1\" class=\"dataframe\">\n",
       "  <thead>\n",
       "    <tr style=\"text-align: right;\">\n",
       "      <th></th>\n",
       "      <th>0</th>\n",
       "      <th>1</th>\n",
       "      <th>2</th>\n",
       "      <th>3</th>\n",
       "      <th>4</th>\n",
       "      <th>5</th>\n",
       "      <th>6</th>\n",
       "      <th>7</th>\n",
       "    </tr>\n",
       "  </thead>\n",
       "  <tbody>\n",
       "    <tr>\n",
       "      <th>0</th>\n",
       "      <td>70.860000</td>\n",
       "      <td>56.610000</td>\n",
       "      <td>59.05</td>\n",
       "      <td>51.80</td>\n",
       "      <td>52.590000</td>\n",
       "      <td>41.10</td>\n",
       "      <td>45.560000</td>\n",
       "      <td>57.460000</td>\n",
       "    </tr>\n",
       "    <tr>\n",
       "      <th>1</th>\n",
       "      <td>46.670000</td>\n",
       "      <td>41.220000</td>\n",
       "      <td>55.76</td>\n",
       "      <td>49.88</td>\n",
       "      <td>61.000000</td>\n",
       "      <td>50.64</td>\n",
       "      <td>39.930000</td>\n",
       "      <td>49.560000</td>\n",
       "    </tr>\n",
       "    <tr>\n",
       "      <th>2</th>\n",
       "      <td>57.690909</td>\n",
       "      <td>48.054545</td>\n",
       "      <td>44.44</td>\n",
       "      <td>47.67</td>\n",
       "      <td>40.700000</td>\n",
       "      <td>61.26</td>\n",
       "      <td>47.340000</td>\n",
       "      <td>56.150000</td>\n",
       "    </tr>\n",
       "    <tr>\n",
       "      <th>3</th>\n",
       "      <td>36.290000</td>\n",
       "      <td>53.600000</td>\n",
       "      <td>43.26</td>\n",
       "      <td>50.51</td>\n",
       "      <td>58.890000</td>\n",
       "      <td>54.58</td>\n",
       "      <td>38.320000</td>\n",
       "      <td>66.290000</td>\n",
       "    </tr>\n",
       "    <tr>\n",
       "      <th>4</th>\n",
       "      <td>48.280000</td>\n",
       "      <td>56.970000</td>\n",
       "      <td>30.93</td>\n",
       "      <td>31.77</td>\n",
       "      <td>43.450000</td>\n",
       "      <td>63.44</td>\n",
       "      <td>43.620000</td>\n",
       "      <td>44.710000</td>\n",
       "    </tr>\n",
       "    <tr>\n",
       "      <th>5</th>\n",
       "      <td>48.860000</td>\n",
       "      <td>51.940000</td>\n",
       "      <td>42.05</td>\n",
       "      <td>54.48</td>\n",
       "      <td>47.627273</td>\n",
       "      <td>45.07</td>\n",
       "      <td>35.228571</td>\n",
       "      <td>44.440000</td>\n",
       "    </tr>\n",
       "    <tr>\n",
       "      <th>6</th>\n",
       "      <td>41.840000</td>\n",
       "      <td>54.830000</td>\n",
       "      <td>43.06</td>\n",
       "      <td>39.66</td>\n",
       "      <td>38.000000</td>\n",
       "      <td>35.37</td>\n",
       "      <td>39.580000</td>\n",
       "      <td>31.590000</td>\n",
       "    </tr>\n",
       "    <tr>\n",
       "      <th>7</th>\n",
       "      <td>48.000000</td>\n",
       "      <td>43.670000</td>\n",
       "      <td>41.87</td>\n",
       "      <td>38.67</td>\n",
       "      <td>55.790000</td>\n",
       "      <td>51.60</td>\n",
       "      <td>43.270000</td>\n",
       "      <td>45.433333</td>\n",
       "    </tr>\n",
       "    <tr>\n",
       "      <th>8</th>\n",
       "      <td>50.590000</td>\n",
       "      <td>40.870000</td>\n",
       "      <td>42.53</td>\n",
       "      <td>64.83</td>\n",
       "      <td>41.270000</td>\n",
       "      <td>32.84</td>\n",
       "      <td>34.410000</td>\n",
       "      <td>45.120000</td>\n",
       "    </tr>\n",
       "  </tbody>\n",
       "</table>\n",
       "</div>"
      ],
      "text/plain": [
       "           0          1      2      3          4      5          6          7\n",
       "0  70.860000  56.610000  59.05  51.80  52.590000  41.10  45.560000  57.460000\n",
       "1  46.670000  41.220000  55.76  49.88  61.000000  50.64  39.930000  49.560000\n",
       "2  57.690909  48.054545  44.44  47.67  40.700000  61.26  47.340000  56.150000\n",
       "3  36.290000  53.600000  43.26  50.51  58.890000  54.58  38.320000  66.290000\n",
       "4  48.280000  56.970000  30.93  31.77  43.450000  63.44  43.620000  44.710000\n",
       "5  48.860000  51.940000  42.05  54.48  47.627273  45.07  35.228571  44.440000\n",
       "6  41.840000  54.830000  43.06  39.66  38.000000  35.37  39.580000  31.590000\n",
       "7  48.000000  43.670000  41.87  38.67  55.790000  51.60  43.270000  45.433333\n",
       "8  50.590000  40.870000  42.53  64.83  41.270000  32.84  34.410000  45.120000"
      ]
     },
     "execution_count": 9,
     "metadata": {},
     "output_type": "execute_result"
    }
   ],
   "source": [
    "spad = spad[:9]\n",
    "spad"
   ]
  },
  {
   "cell_type": "code",
   "execution_count": 12,
   "metadata": {
    "collapsed": false
   },
   "outputs": [],
   "source": [
    "ndvi = ndvi.as_matrix().flatten()\n",
    "spad = spad.as_matrix().flatten()"
   ]
  },
  {
   "cell_type": "code",
   "execution_count": 31,
   "metadata": {
    "collapsed": false
   },
   "outputs": [
    {
     "data": {
      "text/plain": [
       "(0.048378730256680658, 0.68653695879351639)"
      ]
     },
     "execution_count": 31,
     "metadata": {},
     "output_type": "execute_result"
    }
   ],
   "source": [
    "stats.pearsonr(spad, ndvi)"
   ]
  },
  {
   "cell_type": "code",
   "execution_count": 29,
   "metadata": {
    "collapsed": false
   },
   "outputs": [
    {
     "data": {
      "text/plain": [
       "<matplotlib.collections.PathCollection at 0x7f27de439198>"
      ]
     },
     "execution_count": 29,
     "metadata": {},
     "output_type": "execute_result"
    },
    {
     "data": {
      "image/png": "[encoded data removed]",
      "text/plain": [
       "<matplotlib.figure.Figure at 0x7f27de51a6a0>"
      ]
     },
     "metadata": {},
     "output_type": "display_data"
    }
   ],
   "source": [
    "plt.scatter(spad, ndvi)"
   ]
  },
  {
   "cell_type": "code",
   "execution_count": null,
   "metadata": {
    "collapsed": true
   },
   "outputs": [],
   "source": []
  }
 ],
 "metadata": {
  "kernelspec": {
   "display_name": "Python 3",
   "language": "python",
   "name": "python3"
  },
  "language_info": {
   "codemirror_mode": {
    "name": "ipython",
    "version": 3
   },
   "file_extension": ".py",
   "mimetype": "text/x-python",
   "name": "python",
   "nbconvert_exporter": "python",
   "pygments_lexer": "ipython3",
   "version": "3.6.1"
  }
 },
 "nbformat": 4,
 "nbformat_minor": 2
}
