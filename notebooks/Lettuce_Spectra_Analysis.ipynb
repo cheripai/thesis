{
 "cells": [
  {
   "cell_type": "code",
   "execution_count": 1,
   "metadata": {
    "collapsed": true
   },
   "outputs": [],
   "source": [
    "%matplotlib inline\n",
    "import numpy as np\n",
    "import matplotlib\n",
    "import pandas as pd\n",
    "import seaborn as sns\n",
    "import matplotlib.pyplot as plt\n",
    "from scipy.stats import stats\n",
    "from sklearn.metrics import mean_absolute_error\n",
    "from sklearn.model_selection import train_test_split\n",
    "sns.set(style=\"whitegrid\", color_codes=True)\n",
    "plt.rcParams['figure.figsize'] = (12, 12)"
   ]
  },
  {
   "cell_type": "code",
   "execution_count": 151,
   "metadata": {
    "collapsed": true
   },
   "outputs": [],
   "source": [
    "def preprocess_spectra(df):\n",
    "    df = average_dataframe(df, 15).transpose()\n",
    "    nm = [str(int(x)) for x in df.iloc[0]]\n",
    "    df = df.drop(\"Wavelengths\", 0)\n",
    "    df.columns = nm\n",
    "    df = pd.concat([base, df], axis=1)\n",
    "    return df\n",
    "\n",
    "def average_dataframe(df, n):\n",
    "    # Separate label column from data\n",
    "    label = df.iloc[:,0]\n",
    "    df = df.iloc[:,1:]\n",
    "\n",
    "    if (df.shape[1]) % n != 0:\n",
    "        raise Exception(\"Number of columns: {}. Not divisible by {}.\".format(df.shape[1], n))\n",
    "\n",
    "    # Average every N columns\n",
    "    average_df = pd.DataFrame()\n",
    "    average_df[\"Wavelengths\"] = label\n",
    "    for i in range((df.shape[1]) // n):\n",
    "        average_df[i] = df.iloc[:,i*n:(i+1)*n].mean(axis=1)\n",
    "\n",
    "    return average_df"
   ]
  },
  {
   "cell_type": "code",
   "execution_count": 152,
   "metadata": {},
   "outputs": [],
   "source": [
    "gt_10_20 = pd.read_csv(\"../data/Spreadsheet/Lettuce/2017-10-20.csv\").dropna().drop(\"Plant Number\", 1)\n",
    "gt_10_27 = pd.read_csv(\"../data/Spreadsheet/Lettuce/2017-10-27.csv\").dropna().drop(\"Plant Number\", 1)\n",
    "gt_11_03 = pd.read_csv(\"../data/Spreadsheet/Lettuce/2017-11-03.csv\").dropna().drop(\"Plant Number\", 1)\n",
    "gt_11_10 = pd.read_csv(\"../data/Spreadsheet/Lettuce/2017-11-10.csv\").dropna().drop(\"Plant Number\", 1)\n",
    "gt_11_17 = pd.read_csv(\"../data/Spreadsheet/Lettuce/2017-11-17.csv\").dropna().drop(\"Plant Number\", 1)\n",
    "gt_11_22 = pd.read_csv(\"../data/Spreadsheet/Lettuce/2017-11-22.csv\").dropna().drop(\"Plant Number\", 1)\n",
    "base = pd.read_csv(\"../data/Spreadsheet/Lettuce/base.csv\")"
   ]
  },
  {
   "cell_type": "code",
   "execution_count": 153,
   "metadata": {},
   "outputs": [
    {
     "data": {
      "text/html": [
       "<div>\n",
       "<style>\n",
       "    .dataframe thead tr:only-child th {\n",
       "        text-align: right;\n",
       "    }\n",
       "\n",
       "    .dataframe thead th {\n",
       "        text-align: left;\n",
       "    }\n",
       "\n",
       "    .dataframe tbody tr th {\n",
       "        vertical-align: top;\n",
       "    }\n",
       "</style>\n",
       "<table border=\"1\" class=\"dataframe\">\n",
       "  <thead>\n",
       "    <tr style=\"text-align: right;\">\n",
       "      <th></th>\n",
       "      <th>Nitrogen</th>\n",
       "      <th>Irrigation</th>\n",
       "      <th>Replication</th>\n",
       "      <th>Chlorophyll</th>\n",
       "      <th>NDVI</th>\n",
       "      <th>WP</th>\n",
       "    </tr>\n",
       "  </thead>\n",
       "  <tbody>\n",
       "    <tr>\n",
       "      <th>0</th>\n",
       "      <td>0</td>\n",
       "      <td>0</td>\n",
       "      <td>1</td>\n",
       "      <td>42.1</td>\n",
       "      <td>0.750192</td>\n",
       "      <td>-4.85</td>\n",
       "    </tr>\n",
       "    <tr>\n",
       "      <th>2</th>\n",
       "      <td>0</td>\n",
       "      <td>0</td>\n",
       "      <td>2</td>\n",
       "      <td>32.5</td>\n",
       "      <td>0.767223</td>\n",
       "      <td>-4.31</td>\n",
       "    </tr>\n",
       "    <tr>\n",
       "      <th>4</th>\n",
       "      <td>0</td>\n",
       "      <td>0</td>\n",
       "      <td>3</td>\n",
       "      <td>50.5</td>\n",
       "      <td>0.788855</td>\n",
       "      <td>-4.91</td>\n",
       "    </tr>\n",
       "    <tr>\n",
       "      <th>6</th>\n",
       "      <td>0</td>\n",
       "      <td>25</td>\n",
       "      <td>1</td>\n",
       "      <td>46.9</td>\n",
       "      <td>0.809253</td>\n",
       "      <td>-1.30</td>\n",
       "    </tr>\n",
       "    <tr>\n",
       "      <th>8</th>\n",
       "      <td>0</td>\n",
       "      <td>25</td>\n",
       "      <td>2</td>\n",
       "      <td>48.6</td>\n",
       "      <td>0.817409</td>\n",
       "      <td>-1.32</td>\n",
       "    </tr>\n",
       "  </tbody>\n",
       "</table>\n",
       "</div>"
      ],
      "text/plain": [
       "   Nitrogen  Irrigation  Replication  Chlorophyll      NDVI    WP\n",
       "0         0           0            1         42.1  0.750192 -4.85\n",
       "2         0           0            2         32.5  0.767223 -4.31\n",
       "4         0           0            3         50.5  0.788855 -4.91\n",
       "6         0          25            1         46.9  0.809253 -1.30\n",
       "8         0          25            2         48.6  0.817409 -1.32"
      ]
     },
     "execution_count": 153,
     "metadata": {},
     "output_type": "execute_result"
    }
   ],
   "source": [
    "gt_10_20.head()"
   ]
  },
  {
   "cell_type": "code",
   "execution_count": 154,
   "metadata": {},
   "outputs": [],
   "source": [
    "# Drop every 2nd to match water potential\n",
    "spectra_10_20 = preprocess_spectra(pd.read_csv(\"../data/Unprocessed/2017-10-20.csv\")).iloc[::2]\n",
    "spectra_10_27 = preprocess_spectra(pd.read_csv(\"../data/Unprocessed/2017-10-27.csv\")).iloc[::2]\n",
    "spectra_11_03 = preprocess_spectra(pd.read_csv(\"../data/Unprocessed/2017-11-03.csv\")).iloc[::2]\n",
    "spectra_11_10 = preprocess_spectra(pd.read_csv(\"../data/Unprocessed/2017-11-10.csv\")).iloc[::2]\n",
    "spectra_11_17 = preprocess_spectra(pd.read_csv(\"../data/Unprocessed/2017-11-17.csv\")).iloc[::2]\n",
    "spectra_11_22 = preprocess_spectra(pd.read_csv(\"../data/Unprocessed/2017-11-22.csv\")).iloc[::2]"
   ]
  },
  {
   "cell_type": "code",
   "execution_count": 155,
   "metadata": {},
   "outputs": [
    {
     "data": {
      "text/html": [
       "<div>\n",
       "<style>\n",
       "    .dataframe thead tr:only-child th {\n",
       "        text-align: right;\n",
       "    }\n",
       "\n",
       "    .dataframe thead th {\n",
       "        text-align: left;\n",
       "    }\n",
       "\n",
       "    .dataframe tbody tr th {\n",
       "        vertical-align: top;\n",
       "    }\n",
       "</style>\n",
       "<table border=\"1\" class=\"dataframe\">\n",
       "  <thead>\n",
       "    <tr style=\"text-align: right;\">\n",
       "      <th></th>\n",
       "      <th>Nitrogen</th>\n",
       "      <th>Irrigation</th>\n",
       "      <th>Replication</th>\n",
       "      <th>325</th>\n",
       "      <th>326</th>\n",
       "      <th>327</th>\n",
       "      <th>328</th>\n",
       "      <th>329</th>\n",
       "      <th>330</th>\n",
       "      <th>331</th>\n",
       "      <th>...</th>\n",
       "      <th>1066</th>\n",
       "      <th>1067</th>\n",
       "      <th>1068</th>\n",
       "      <th>1069</th>\n",
       "      <th>1070</th>\n",
       "      <th>1071</th>\n",
       "      <th>1072</th>\n",
       "      <th>1073</th>\n",
       "      <th>1074</th>\n",
       "      <th>1075</th>\n",
       "    </tr>\n",
       "  </thead>\n",
       "  <tbody>\n",
       "    <tr>\n",
       "      <th>0</th>\n",
       "      <td>100</td>\n",
       "      <td>100</td>\n",
       "      <td>1</td>\n",
       "      <td>0.376673</td>\n",
       "      <td>0.431226</td>\n",
       "      <td>0.390331</td>\n",
       "      <td>0.378475</td>\n",
       "      <td>0.414101</td>\n",
       "      <td>0.375501</td>\n",
       "      <td>0.341410</td>\n",
       "      <td>...</td>\n",
       "      <td>0.817662</td>\n",
       "      <td>0.815959</td>\n",
       "      <td>0.810296</td>\n",
       "      <td>0.802925</td>\n",
       "      <td>0.812756</td>\n",
       "      <td>0.822892</td>\n",
       "      <td>0.815623</td>\n",
       "      <td>0.813108</td>\n",
       "      <td>0.815696</td>\n",
       "      <td>0.818738</td>\n",
       "    </tr>\n",
       "    <tr>\n",
       "      <th>2</th>\n",
       "      <td>25</td>\n",
       "      <td>100</td>\n",
       "      <td>2</td>\n",
       "      <td>0.340363</td>\n",
       "      <td>0.380392</td>\n",
       "      <td>0.337493</td>\n",
       "      <td>0.327786</td>\n",
       "      <td>0.367546</td>\n",
       "      <td>0.336059</td>\n",
       "      <td>0.310546</td>\n",
       "      <td>...</td>\n",
       "      <td>0.753317</td>\n",
       "      <td>0.750848</td>\n",
       "      <td>0.747314</td>\n",
       "      <td>0.744372</td>\n",
       "      <td>0.753046</td>\n",
       "      <td>0.760608</td>\n",
       "      <td>0.753906</td>\n",
       "      <td>0.749332</td>\n",
       "      <td>0.748282</td>\n",
       "      <td>0.748953</td>\n",
       "    </tr>\n",
       "    <tr>\n",
       "      <th>4</th>\n",
       "      <td>0</td>\n",
       "      <td>100</td>\n",
       "      <td>3</td>\n",
       "      <td>0.403479</td>\n",
       "      <td>0.429305</td>\n",
       "      <td>0.350453</td>\n",
       "      <td>0.333168</td>\n",
       "      <td>0.402504</td>\n",
       "      <td>0.381900</td>\n",
       "      <td>0.358693</td>\n",
       "      <td>...</td>\n",
       "      <td>0.860377</td>\n",
       "      <td>0.855473</td>\n",
       "      <td>0.850105</td>\n",
       "      <td>0.847901</td>\n",
       "      <td>0.858569</td>\n",
       "      <td>0.866247</td>\n",
       "      <td>0.855605</td>\n",
       "      <td>0.852129</td>\n",
       "      <td>0.856937</td>\n",
       "      <td>0.865607</td>\n",
       "    </tr>\n",
       "    <tr>\n",
       "      <th>6</th>\n",
       "      <td>100</td>\n",
       "      <td>25</td>\n",
       "      <td>1</td>\n",
       "      <td>0.412089</td>\n",
       "      <td>0.474489</td>\n",
       "      <td>0.434818</td>\n",
       "      <td>0.417667</td>\n",
       "      <td>0.441788</td>\n",
       "      <td>0.381190</td>\n",
       "      <td>0.333433</td>\n",
       "      <td>...</td>\n",
       "      <td>0.781725</td>\n",
       "      <td>0.775529</td>\n",
       "      <td>0.768707</td>\n",
       "      <td>0.766347</td>\n",
       "      <td>0.774526</td>\n",
       "      <td>0.781899</td>\n",
       "      <td>0.777127</td>\n",
       "      <td>0.777329</td>\n",
       "      <td>0.780802</td>\n",
       "      <td>0.780962</td>\n",
       "    </tr>\n",
       "    <tr>\n",
       "      <th>8</th>\n",
       "      <td>25</td>\n",
       "      <td>25</td>\n",
       "      <td>2</td>\n",
       "      <td>0.361481</td>\n",
       "      <td>0.419213</td>\n",
       "      <td>0.351152</td>\n",
       "      <td>0.337465</td>\n",
       "      <td>0.402751</td>\n",
       "      <td>0.360939</td>\n",
       "      <td>0.318642</td>\n",
       "      <td>...</td>\n",
       "      <td>0.748609</td>\n",
       "      <td>0.741339</td>\n",
       "      <td>0.736409</td>\n",
       "      <td>0.739257</td>\n",
       "      <td>0.748861</td>\n",
       "      <td>0.754771</td>\n",
       "      <td>0.747235</td>\n",
       "      <td>0.743047</td>\n",
       "      <td>0.743995</td>\n",
       "      <td>0.748644</td>\n",
       "    </tr>\n",
       "  </tbody>\n",
       "</table>\n",
       "<p>5 rows × 754 columns</p>\n",
       "</div>"
      ],
      "text/plain": [
       "   Nitrogen  Irrigation  Replication       325       326       327       328  \\\n",
       "0       100         100            1  0.376673  0.431226  0.390331  0.378475   \n",
       "2        25         100            2  0.340363  0.380392  0.337493  0.327786   \n",
       "4         0         100            3  0.403479  0.429305  0.350453  0.333168   \n",
       "6       100          25            1  0.412089  0.474489  0.434818  0.417667   \n",
       "8        25          25            2  0.361481  0.419213  0.351152  0.337465   \n",
       "\n",
       "        329       330       331    ...         1066      1067      1068  \\\n",
       "0  0.414101  0.375501  0.341410    ...     0.817662  0.815959  0.810296   \n",
       "2  0.367546  0.336059  0.310546    ...     0.753317  0.750848  0.747314   \n",
       "4  0.402504  0.381900  0.358693    ...     0.860377  0.855473  0.850105   \n",
       "6  0.441788  0.381190  0.333433    ...     0.781725  0.775529  0.768707   \n",
       "8  0.402751  0.360939  0.318642    ...     0.748609  0.741339  0.736409   \n",
       "\n",
       "       1069      1070      1071      1072      1073      1074      1075  \n",
       "0  0.802925  0.812756  0.822892  0.815623  0.813108  0.815696  0.818738  \n",
       "2  0.744372  0.753046  0.760608  0.753906  0.749332  0.748282  0.748953  \n",
       "4  0.847901  0.858569  0.866247  0.855605  0.852129  0.856937  0.865607  \n",
       "6  0.766347  0.774526  0.781899  0.777127  0.777329  0.780802  0.780962  \n",
       "8  0.739257  0.748861  0.754771  0.747235  0.743047  0.743995  0.748644  \n",
       "\n",
       "[5 rows x 754 columns]"
      ]
     },
     "execution_count": 155,
     "metadata": {},
     "output_type": "execute_result"
    }
   ],
   "source": [
    "spectra_10_20.head()"
   ]
  },
  {
   "cell_type": "code",
   "execution_count": 156,
   "metadata": {},
   "outputs": [],
   "source": [
    "df_10_20 = pd.merge(gt_10_20, spectra_10_20, on=[\"Nitrogen\", \"Irrigation\", \"Replication\"])\n",
    "df_10_27 = pd.merge(gt_10_27, spectra_10_27, on=[\"Nitrogen\", \"Irrigation\", \"Replication\"])\n",
    "df_11_03 = pd.merge(gt_11_03, spectra_11_03, on=[\"Nitrogen\", \"Irrigation\", \"Replication\"])\n",
    "df_11_10 = pd.merge(gt_11_10, spectra_11_10, on=[\"Nitrogen\", \"Irrigation\", \"Replication\"])\n",
    "df_11_17 = pd.merge(gt_11_17, spectra_11_17, on=[\"Nitrogen\", \"Irrigation\", \"Replication\"])\n",
    "df_11_22 = pd.merge(gt_11_22, spectra_11_22, on=[\"Nitrogen\", \"Irrigation\", \"Replication\"])"
   ]
  },
  {
   "cell_type": "code",
   "execution_count": 157,
   "metadata": {
    "collapsed": true
   },
   "outputs": [],
   "source": [
    "df = pd.concat([df_10_20, df_10_27, df_11_03, df_11_10, df_11_17, df_11_22])"
   ]
  },
  {
   "cell_type": "code",
   "execution_count": 158,
   "metadata": {},
   "outputs": [
    {
     "data": {
      "text/plain": [
       "(288, 757)"
      ]
     },
     "execution_count": 158,
     "metadata": {},
     "output_type": "execute_result"
    }
   ],
   "source": [
    "df.shape"
   ]
  },
  {
   "cell_type": "markdown",
   "metadata": {},
   "source": [
    "# Train Predictor"
   ]
  },
  {
   "cell_type": "code",
   "execution_count": 159,
   "metadata": {},
   "outputs": [
    {
     "data": {
      "text/html": [
       "<div>\n",
       "<style>\n",
       "    .dataframe thead tr:only-child th {\n",
       "        text-align: right;\n",
       "    }\n",
       "\n",
       "    .dataframe thead th {\n",
       "        text-align: left;\n",
       "    }\n",
       "\n",
       "    .dataframe tbody tr th {\n",
       "        vertical-align: top;\n",
       "    }\n",
       "</style>\n",
       "<table border=\"1\" class=\"dataframe\">\n",
       "  <thead>\n",
       "    <tr style=\"text-align: right;\">\n",
       "      <th></th>\n",
       "      <th>325</th>\n",
       "      <th>326</th>\n",
       "      <th>327</th>\n",
       "      <th>328</th>\n",
       "      <th>329</th>\n",
       "      <th>330</th>\n",
       "      <th>331</th>\n",
       "      <th>332</th>\n",
       "      <th>333</th>\n",
       "      <th>334</th>\n",
       "      <th>...</th>\n",
       "      <th>1066</th>\n",
       "      <th>1067</th>\n",
       "      <th>1068</th>\n",
       "      <th>1069</th>\n",
       "      <th>1070</th>\n",
       "      <th>1071</th>\n",
       "      <th>1072</th>\n",
       "      <th>1073</th>\n",
       "      <th>1074</th>\n",
       "      <th>1075</th>\n",
       "    </tr>\n",
       "  </thead>\n",
       "  <tbody>\n",
       "    <tr>\n",
       "      <th>0</th>\n",
       "      <td>0.222486</td>\n",
       "      <td>0.292445</td>\n",
       "      <td>0.375240</td>\n",
       "      <td>0.348562</td>\n",
       "      <td>0.247189</td>\n",
       "      <td>0.233466</td>\n",
       "      <td>0.245784</td>\n",
       "      <td>0.224207</td>\n",
       "      <td>0.210134</td>\n",
       "      <td>0.204702</td>\n",
       "      <td>...</td>\n",
       "      <td>0.659310</td>\n",
       "      <td>0.669386</td>\n",
       "      <td>0.680358</td>\n",
       "      <td>0.680175</td>\n",
       "      <td>0.670612</td>\n",
       "      <td>0.661400</td>\n",
       "      <td>0.661356</td>\n",
       "      <td>0.664555</td>\n",
       "      <td>0.665840</td>\n",
       "      <td>0.659393</td>\n",
       "    </tr>\n",
       "    <tr>\n",
       "      <th>1</th>\n",
       "      <td>0.350766</td>\n",
       "      <td>0.320070</td>\n",
       "      <td>0.361682</td>\n",
       "      <td>0.349854</td>\n",
       "      <td>0.280499</td>\n",
       "      <td>0.233168</td>\n",
       "      <td>0.226500</td>\n",
       "      <td>0.267084</td>\n",
       "      <td>0.318308</td>\n",
       "      <td>0.346988</td>\n",
       "      <td>...</td>\n",
       "      <td>0.810852</td>\n",
       "      <td>0.818034</td>\n",
       "      <td>0.817178</td>\n",
       "      <td>0.803634</td>\n",
       "      <td>0.811003</td>\n",
       "      <td>0.818421</td>\n",
       "      <td>0.804866</td>\n",
       "      <td>0.802859</td>\n",
       "      <td>0.808636</td>\n",
       "      <td>0.808162</td>\n",
       "    </tr>\n",
       "    <tr>\n",
       "      <th>2</th>\n",
       "      <td>0.233017</td>\n",
       "      <td>0.277779</td>\n",
       "      <td>0.362633</td>\n",
       "      <td>0.344437</td>\n",
       "      <td>0.252333</td>\n",
       "      <td>0.317711</td>\n",
       "      <td>0.386864</td>\n",
       "      <td>0.321211</td>\n",
       "      <td>0.245216</td>\n",
       "      <td>0.195074</td>\n",
       "      <td>...</td>\n",
       "      <td>0.659605</td>\n",
       "      <td>0.661009</td>\n",
       "      <td>0.660257</td>\n",
       "      <td>0.658134</td>\n",
       "      <td>0.652643</td>\n",
       "      <td>0.648347</td>\n",
       "      <td>0.649743</td>\n",
       "      <td>0.653122</td>\n",
       "      <td>0.654694</td>\n",
       "      <td>0.650221</td>\n",
       "    </tr>\n",
       "    <tr>\n",
       "      <th>3</th>\n",
       "      <td>0.254693</td>\n",
       "      <td>0.327870</td>\n",
       "      <td>0.357548</td>\n",
       "      <td>0.327437</td>\n",
       "      <td>0.259101</td>\n",
       "      <td>0.232353</td>\n",
       "      <td>0.228960</td>\n",
       "      <td>0.231031</td>\n",
       "      <td>0.218726</td>\n",
       "      <td>0.202214</td>\n",
       "      <td>...</td>\n",
       "      <td>0.759934</td>\n",
       "      <td>0.766243</td>\n",
       "      <td>0.775830</td>\n",
       "      <td>0.778986</td>\n",
       "      <td>0.773825</td>\n",
       "      <td>0.767981</td>\n",
       "      <td>0.768517</td>\n",
       "      <td>0.768115</td>\n",
       "      <td>0.766091</td>\n",
       "      <td>0.763255</td>\n",
       "    </tr>\n",
       "    <tr>\n",
       "      <th>4</th>\n",
       "      <td>0.288307</td>\n",
       "      <td>0.297616</td>\n",
       "      <td>0.275639</td>\n",
       "      <td>0.246626</td>\n",
       "      <td>0.226985</td>\n",
       "      <td>0.222543</td>\n",
       "      <td>0.246452</td>\n",
       "      <td>0.302393</td>\n",
       "      <td>0.285828</td>\n",
       "      <td>0.230713</td>\n",
       "      <td>...</td>\n",
       "      <td>0.711286</td>\n",
       "      <td>0.711179</td>\n",
       "      <td>0.710186</td>\n",
       "      <td>0.709315</td>\n",
       "      <td>0.713473</td>\n",
       "      <td>0.714361</td>\n",
       "      <td>0.705093</td>\n",
       "      <td>0.706144</td>\n",
       "      <td>0.712340</td>\n",
       "      <td>0.710148</td>\n",
       "    </tr>\n",
       "  </tbody>\n",
       "</table>\n",
       "<p>5 rows × 751 columns</p>\n",
       "</div>"
      ],
      "text/plain": [
       "        325       326       327       328       329       330       331  \\\n",
       "0  0.222486  0.292445  0.375240  0.348562  0.247189  0.233466  0.245784   \n",
       "1  0.350766  0.320070  0.361682  0.349854  0.280499  0.233168  0.226500   \n",
       "2  0.233017  0.277779  0.362633  0.344437  0.252333  0.317711  0.386864   \n",
       "3  0.254693  0.327870  0.357548  0.327437  0.259101  0.232353  0.228960   \n",
       "4  0.288307  0.297616  0.275639  0.246626  0.226985  0.222543  0.246452   \n",
       "\n",
       "        332       333       334    ...         1066      1067      1068  \\\n",
       "0  0.224207  0.210134  0.204702    ...     0.659310  0.669386  0.680358   \n",
       "1  0.267084  0.318308  0.346988    ...     0.810852  0.818034  0.817178   \n",
       "2  0.321211  0.245216  0.195074    ...     0.659605  0.661009  0.660257   \n",
       "3  0.231031  0.218726  0.202214    ...     0.759934  0.766243  0.775830   \n",
       "4  0.302393  0.285828  0.230713    ...     0.711286  0.711179  0.710186   \n",
       "\n",
       "       1069      1070      1071      1072      1073      1074      1075  \n",
       "0  0.680175  0.670612  0.661400  0.661356  0.664555  0.665840  0.659393  \n",
       "1  0.803634  0.811003  0.818421  0.804866  0.802859  0.808636  0.808162  \n",
       "2  0.658134  0.652643  0.648347  0.649743  0.653122  0.654694  0.650221  \n",
       "3  0.778986  0.773825  0.767981  0.768517  0.768115  0.766091  0.763255  \n",
       "4  0.709315  0.713473  0.714361  0.705093  0.706144  0.712340  0.710148  \n",
       "\n",
       "[5 rows x 751 columns]"
      ]
     },
     "execution_count": 159,
     "metadata": {},
     "output_type": "execute_result"
    }
   ],
   "source": [
    "df.iloc[:, 6:].head()"
   ]
  },
  {
   "cell_type": "code",
   "execution_count": 160,
   "metadata": {},
   "outputs": [],
   "source": [
    "X_train, X_valid, y_train, y_valid = train_test_split(df.iloc[:, 6:], df[\"WP\"], test_size=0.15)"
   ]
  },
  {
   "cell_type": "code",
   "execution_count": 163,
   "metadata": {},
   "outputs": [
    {
     "name": "stdout",
     "output_type": "stream",
     "text": [
      "4.2819527523e-13\n",
      "2.13368372195\n"
     ]
    }
   ],
   "source": [
    "from sklearn.linear_model import LinearRegression, Lasso\n",
    "reg = LinearRegression()\n",
    "reg.fit(X_train, y_train)\n",
    "print(mean_absolute_error(reg.predict(X_train), y_train))\n",
    "print(mean_absolute_error(reg.predict(X_valid), y_valid))"
   ]
  },
  {
   "cell_type": "code",
   "execution_count": 164,
   "metadata": {},
   "outputs": [
    {
     "name": "stdout",
     "output_type": "stream",
     "text": [
      "1.1555957981\n",
      "1.12651157656\n"
     ]
    }
   ],
   "source": [
    "from sklearn.neural_network import MLPRegressor\n",
    "mlp = MLPRegressor(max_iter=500)\n",
    "mlp.fit(X_train, y_train)\n",
    "print(mean_absolute_error(mlp.predict(X_train), y_train))\n",
    "print(mean_absolute_error(mlp.predict(X_valid), y_valid))"
   ]
  },
  {
   "cell_type": "code",
   "execution_count": 165,
   "metadata": {},
   "outputs": [
    {
     "data": {
      "text/plain": [
       "1.4696715784865375"
      ]
     },
     "execution_count": 165,
     "metadata": {},
     "output_type": "execute_result"
    },
    {
     "data": {
      "image/png": "[encoded data removed]",
      "text/plain": [
       "<matplotlib.figure.Figure at 0x7fb46cdc8860>"
      ]
     },
     "metadata": {},
     "output_type": "display_data"
    }
   ],
   "source": [
    "plt.hist(df[\"WP\"], 36, rwidth=0.95)\n",
    "np.std(df[\"WP\"])"
   ]
  },
  {
   "cell_type": "markdown",
   "metadata": {
    "collapsed": true
   },
   "source": [
    "# Testing Various Indices"
   ]
  },
  {
   "cell_type": "code",
   "execution_count": 166,
   "metadata": {},
   "outputs": [],
   "source": [
    "df[\"YELLOW1\"] = df[\"550\"]\n",
    "df[\"RED1\"] = df[\"680\"]\n",
    "df[\"RED3\"] = df[\"670\"]\n",
    "df[\"NIR1\"] = df[\"800\"]\n",
    "df[\"NIR3\"] = df[\"900\"]\n",
    "df[\"NIR4\"] = df[\"970\"]\n",
    "df[\"NIR5\"] = df[\"700\"]"
   ]
  },
  {
   "cell_type": "code",
   "execution_count": 167,
   "metadata": {},
   "outputs": [
    {
     "data": {
      "text/plain": [
       "(0.020579162097869013, 0.72802196405931585)"
      ]
     },
     "execution_count": 167,
     "metadata": {},
     "output_type": "execute_result"
    }
   ],
   "source": [
    "df[\"WBI\"] = df[\"NIR3\"] / df[\"NIR4\"]\n",
    "stats.pearsonr(df[\"WBI\"], df[\"WP\"])"
   ]
  },
  {
   "cell_type": "code",
   "execution_count": 168,
   "metadata": {},
   "outputs": [
    {
     "data": {
      "text/plain": [
       "<matplotlib.text.Text at 0x7fb46cba7b38>"
      ]
     },
     "execution_count": 168,
     "metadata": {},
     "output_type": "execute_result"
    },
    {
     "data": {
      "image/png": "[encoded data removed]",
      "text/plain": [
       "<matplotlib.figure.Figure at 0x7fb46cc507f0>"
      ]
     },
     "metadata": {},
     "output_type": "display_data"
    }
   ],
   "source": [
    "fig = plt.figure\n",
    "plt.scatter(df[\"WBI\"], df[\"WP\"])\n",
    "plt.xlabel(\"WBI\")\n",
    "plt.ylabel(\"Water Potential\")"
   ]
  },
  {
   "cell_type": "code",
   "execution_count": 169,
   "metadata": {},
   "outputs": [
    {
     "name": "stdout",
     "output_type": "stream",
     "text": [
      "1.07208801371\n",
      "1.07101638977\n",
      "1.07218742384\n",
      "1.07061766113\n"
     ]
    }
   ],
   "source": [
    "print(df[df[\"Irrigation\"] == 100][\"WBI\"].mean())\n",
    "print(df[df[\"Irrigation\"] == 50][\"WBI\"].mean())\n",
    "print(df[df[\"Irrigation\"] == 25][\"WBI\"].mean())\n",
    "print(df[df[\"Irrigation\"] == 0][\"WBI\"].mean())"
   ]
  },
  {
   "cell_type": "code",
   "execution_count": 170,
   "metadata": {},
   "outputs": [
    {
     "name": "stdout",
     "output_type": "stream",
     "text": [
      "0.772496387676\n",
      "0.777323044743\n",
      "0.768190640167\n",
      "0.766578515669\n"
     ]
    }
   ],
   "source": [
    "print(df[df[\"Irrigation\"] == 100][\"NIR4\"].mean())\n",
    "print(df[df[\"Irrigation\"] == 50][\"NIR4\"].mean())\n",
    "print(df[df[\"Irrigation\"] == 25][\"NIR4\"].mean())\n",
    "print(df[df[\"Irrigation\"] == 0][\"NIR4\"].mean())"
   ]
  },
  {
   "cell_type": "code",
   "execution_count": 172,
   "metadata": {},
   "outputs": [
    {
     "data": {
      "text/plain": [
       "<matplotlib.text.Text at 0x7fb46cb480f0>"
      ]
     },
     "execution_count": 172,
     "metadata": {},
     "output_type": "execute_result"
    },
    {
     "data": {
      "image/png": "[encoded data removed]",
      "text/plain": [
       "<matplotlib.figure.Figure at 0x7fb46cbbfd30>"
      ]
     },
     "metadata": {},
     "output_type": "display_data"
    }
   ],
   "source": [
    "fig = plt.figure\n",
    "plt.scatter(df[\"NIR4\"].values, df[\"WP\"])\n",
    "plt.xlabel(\"970nm\")\n",
    "plt.ylabel(\"Water Potential\")"
   ]
  },
  {
   "cell_type": "code",
   "execution_count": 173,
   "metadata": {},
   "outputs": [
    {
     "data": {
      "text/plain": [
       "((-0.026482234284780869, 0.6544834705155953),\n",
       " (0.021251425615822609, 0.71950474879001847))"
      ]
     },
     "execution_count": 173,
     "metadata": {},
     "output_type": "execute_result"
    }
   ],
   "source": [
    "ndvi = (df[\"NIR1\"] - df[\"RED1\"]) / (df[\"NIR1\"] + df[\"RED1\"])\n",
    "stats.pearsonr(ndvi, df[\"Chlorophyll\"]), stats.pearsonr(ndvi, df[\"WP\"])"
   ]
  },
  {
   "cell_type": "code",
   "execution_count": 177,
   "metadata": {},
   "outputs": [
    {
     "data": {
      "text/plain": [
       "((-0.33544846208971663, 5.2826830059936348e-09),\n",
       " (0.19335850449918951, 0.00097267646183192428))"
      ]
     },
     "execution_count": 177,
     "metadata": {},
     "output_type": "execute_result"
    }
   ],
   "source": [
    "df[\"rededge\"] = df[\"NIR5\"] / df[\"RED3\"]\n",
    "stats.pearsonr(df[\"rededge\"], df[\"Chlorophyll\"]), stats.pearsonr(df[\"rededge\"], df[\"WP\"])"
   ]
  },
  {
   "cell_type": "code",
   "execution_count": 178,
   "metadata": {},
   "outputs": [
    {
     "data": {
      "text/plain": [
       "((-0.33289733789649778, 7.0014615046617029e-09),\n",
       " (0.19381294312665556, 0.00094565501495717894))"
      ]
     },
     "execution_count": 178,
     "metadata": {},
     "output_type": "execute_result"
    }
   ],
   "source": [
    "df[\"MCARI\"] = (df[\"NIR5\"] / df[\"RED3\"]) - 0.23 * (df[\"NIR5\"] - df[\"YELLOW1\"]) * df[\"NIR5\"] / df[\"RED3\"]\n",
    "stats.pearsonr(df[\"MCARI\"], df[\"Chlorophyll\"]), stats.pearsonr(df[\"MCARI\"], df[\"WP\"])"
   ]
  },
  {
   "cell_type": "code",
   "execution_count": 180,
   "metadata": {},
   "outputs": [
    {
     "data": {
      "text/plain": [
       "((0.11842637690224482, 0.044633333630659883),\n",
       " (-0.11176309785831248, 0.058175501836789746))"
      ]
     },
     "execution_count": 180,
     "metadata": {},
     "output_type": "execute_result"
    }
   ],
   "source": [
    "NIR = df[\"800\"]\n",
    "GREEN = df[\"550\"]\n",
    "df[\"GNDVI\"] = (NIR - GREEN) / (NIR + GREEN)\n",
    "stats.pearsonr(df[\"GNDVI\"], df[\"Chlorophyll\"]), stats.pearsonr(df[\"GNDVI\"], df[\"WP\"])"
   ]
  },
  {
   "cell_type": "code",
   "execution_count": null,
   "metadata": {
    "collapsed": true
   },
   "outputs": [],
   "source": []
  }
 ],
 "metadata": {
  "kernelspec": {
   "display_name": "Python 3",
   "language": "python",
   "name": "python3"
  },
  "language_info": {
   "codemirror_mode": {
    "name": "ipython",
    "version": 3
   },
   "file_extension": ".py",
   "mimetype": "text/x-python",
   "name": "python",
   "nbconvert_exporter": "python",
   "pygments_lexer": "ipython3",
   "version": "3.6.3"
  }
 },
 "nbformat": 4,
 "nbformat_minor": 2
}
