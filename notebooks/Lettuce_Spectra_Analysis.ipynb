{
 "cells": [
  {
   "cell_type": "code",
   "execution_count": 129,
   "metadata": {
    "collapsed": true
   },
   "outputs": [],
   "source": [
    "%matplotlib inline\n",
    "import numpy as np\n",
    "import matplotlib\n",
    "import pandas as pd\n",
    "import seaborn as sns\n",
    "import matplotlib.pyplot as plt\n",
    "from scipy.stats import stats\n",
    "from sklearn.metrics import mean_absolute_error\n",
    "from sklearn.model_selection import train_test_split\n",
    "sns.set(style=\"whitegrid\", color_codes=True)\n",
    "plt.rcParams['figure.figsize'] = (12, 12)"
   ]
  },
  {
   "cell_type": "code",
   "execution_count": 130,
   "metadata": {
    "collapsed": true
   },
   "outputs": [],
   "source": [
    "def preprocess_spectra(df):\n",
    "    df = average_dataframe(df, 15).transpose()\n",
    "    nm = [str(int(x)) for x in df.iloc[0]]\n",
    "    df = df.drop(\"Wavelengths\", 0)\n",
    "    df.columns = nm\n",
    "    df = pd.concat([base, df], axis=1)\n",
    "    return df\n",
    "\n",
    "def average_dataframe(df, n):\n",
    "    # Separate label column from data\n",
    "    label = df.iloc[:,0]\n",
    "    df = df.iloc[:,1:]\n",
    "\n",
    "    if (df.shape[1]) % n != 0:\n",
    "        raise Exception(\"Number of columns: {}. Not divisible by {}.\".format(df.shape[1], n))\n",
    "\n",
    "    # Average every N columns\n",
    "    average_df = pd.DataFrame()\n",
    "    average_df[\"Wavelengths\"] = label\n",
    "    for i in range((df.shape[1]) // n):\n",
    "        average_df[i] = df.iloc[:,i*n:(i+1)*n].mean(axis=1)\n",
    "\n",
    "    return average_df"
   ]
  },
  {
   "cell_type": "code",
   "execution_count": 131,
   "metadata": {
    "collapsed": true
   },
   "outputs": [],
   "source": [
    "gt_10_20 = pd.read_csv(\"../data/Spreadsheet/Lettuce/2017-10-20.csv\").dropna().drop(\"Plant Number\", 1)\n",
    "gt_10_27 = pd.read_csv(\"../data/Spreadsheet/Lettuce/2017-10-27.csv\").dropna().drop(\"Plant Number\", 1)\n",
    "gt_11_03 = pd.read_csv(\"../data/Spreadsheet/Lettuce/2017-11-03.csv\").dropna().drop(\"Plant Number\", 1)\n",
    "gt_11_10 = pd.read_csv(\"../data/Spreadsheet/Lettuce/2017-11-10.csv\").dropna().drop(\"Plant Number\", 1)\n",
    "gt_11_17 = pd.read_csv(\"../data/Spreadsheet/Lettuce/2017-11-17.csv\").dropna().drop(\"Plant Number\", 1)\n",
    "gt_11_22 = pd.read_csv(\"../data/Spreadsheet/Lettuce/2017-11-22.csv\").dropna().drop(\"Plant Number\", 1)\n",
    "base = pd.read_csv(\"../data/Spreadsheet/Lettuce/base.csv\")"
   ]
  },
  {
   "cell_type": "code",
   "execution_count": 132,
   "metadata": {},
   "outputs": [
    {
     "data": {
      "text/html": [
       "<div>\n",
       "<style>\n",
       "    .dataframe thead tr:only-child th {\n",
       "        text-align: right;\n",
       "    }\n",
       "\n",
       "    .dataframe thead th {\n",
       "        text-align: left;\n",
       "    }\n",
       "\n",
       "    .dataframe tbody tr th {\n",
       "        vertical-align: top;\n",
       "    }\n",
       "</style>\n",
       "<table border=\"1\" class=\"dataframe\">\n",
       "  <thead>\n",
       "    <tr style=\"text-align: right;\">\n",
       "      <th></th>\n",
       "      <th>Nitrogen</th>\n",
       "      <th>Irrigation</th>\n",
       "      <th>Replication</th>\n",
       "      <th>Chlorophyll</th>\n",
       "      <th>NDVI</th>\n",
       "      <th>WP</th>\n",
       "      <th>Average Height</th>\n",
       "      <th>Average Leaf Count</th>\n",
       "    </tr>\n",
       "  </thead>\n",
       "  <tbody>\n",
       "    <tr>\n",
       "      <th>0</th>\n",
       "      <td>0</td>\n",
       "      <td>0</td>\n",
       "      <td>1</td>\n",
       "      <td>48.9</td>\n",
       "      <td>0.805878</td>\n",
       "      <td>-4.80</td>\n",
       "      <td>6</td>\n",
       "      <td>7</td>\n",
       "    </tr>\n",
       "    <tr>\n",
       "      <th>2</th>\n",
       "      <td>0</td>\n",
       "      <td>0</td>\n",
       "      <td>2</td>\n",
       "      <td>48.8</td>\n",
       "      <td>0.839747</td>\n",
       "      <td>-4.24</td>\n",
       "      <td>4</td>\n",
       "      <td>6</td>\n",
       "    </tr>\n",
       "    <tr>\n",
       "      <th>4</th>\n",
       "      <td>0</td>\n",
       "      <td>0</td>\n",
       "      <td>3</td>\n",
       "      <td>51.9</td>\n",
       "      <td>0.812323</td>\n",
       "      <td>-4.82</td>\n",
       "      <td>7</td>\n",
       "      <td>6</td>\n",
       "    </tr>\n",
       "    <tr>\n",
       "      <th>6</th>\n",
       "      <td>0</td>\n",
       "      <td>25</td>\n",
       "      <td>1</td>\n",
       "      <td>43.7</td>\n",
       "      <td>0.814818</td>\n",
       "      <td>-1.35</td>\n",
       "      <td>6</td>\n",
       "      <td>7</td>\n",
       "    </tr>\n",
       "    <tr>\n",
       "      <th>8</th>\n",
       "      <td>0</td>\n",
       "      <td>25</td>\n",
       "      <td>2</td>\n",
       "      <td>45.8</td>\n",
       "      <td>0.826363</td>\n",
       "      <td>-1.38</td>\n",
       "      <td>8</td>\n",
       "      <td>8</td>\n",
       "    </tr>\n",
       "  </tbody>\n",
       "</table>\n",
       "</div>"
      ],
      "text/plain": [
       "   Nitrogen  Irrigation  Replication  Chlorophyll      NDVI    WP  \\\n",
       "0         0           0            1         48.9  0.805878 -4.80   \n",
       "2         0           0            2         48.8  0.839747 -4.24   \n",
       "4         0           0            3         51.9  0.812323 -4.82   \n",
       "6         0          25            1         43.7  0.814818 -1.35   \n",
       "8         0          25            2         45.8  0.826363 -1.38   \n",
       "\n",
       "   Average Height  Average Leaf Count  \n",
       "0               6                   7  \n",
       "2               4                   6  \n",
       "4               7                   6  \n",
       "6               6                   7  \n",
       "8               8                   8  "
      ]
     },
     "execution_count": 132,
     "metadata": {},
     "output_type": "execute_result"
    }
   ],
   "source": [
    "gt_10_27.head()"
   ]
  },
  {
   "cell_type": "code",
   "execution_count": 133,
   "metadata": {
    "collapsed": true
   },
   "outputs": [],
   "source": [
    "# Drop every 2nd to match water potential\n",
    "spectra_10_20 = preprocess_spectra(pd.read_csv(\"../data/Unprocessed/2017-10-20.csv\")).iloc[::2]\n",
    "spectra_10_27 = preprocess_spectra(pd.read_csv(\"../data/Unprocessed/2017-10-27.csv\")).iloc[::2]\n",
    "spectra_11_03 = preprocess_spectra(pd.read_csv(\"../data/Unprocessed/2017-11-03.csv\")).iloc[::2]\n",
    "spectra_11_10 = preprocess_spectra(pd.read_csv(\"../data/Unprocessed/2017-11-10.csv\")).iloc[::2]\n",
    "spectra_11_17 = preprocess_spectra(pd.read_csv(\"../data/Unprocessed/2017-11-17.csv\")).iloc[::2]\n",
    "spectra_11_22 = preprocess_spectra(pd.read_csv(\"../data/Unprocessed/2017-11-22.csv\")).iloc[::2]"
   ]
  },
  {
   "cell_type": "code",
   "execution_count": 134,
   "metadata": {},
   "outputs": [
    {
     "data": {
      "text/html": [
       "<div>\n",
       "<style>\n",
       "    .dataframe thead tr:only-child th {\n",
       "        text-align: right;\n",
       "    }\n",
       "\n",
       "    .dataframe thead th {\n",
       "        text-align: left;\n",
       "    }\n",
       "\n",
       "    .dataframe tbody tr th {\n",
       "        vertical-align: top;\n",
       "    }\n",
       "</style>\n",
       "<table border=\"1\" class=\"dataframe\">\n",
       "  <thead>\n",
       "    <tr style=\"text-align: right;\">\n",
       "      <th></th>\n",
       "      <th>Nitrogen</th>\n",
       "      <th>Irrigation</th>\n",
       "      <th>Replication</th>\n",
       "      <th>325</th>\n",
       "      <th>326</th>\n",
       "      <th>327</th>\n",
       "      <th>328</th>\n",
       "      <th>329</th>\n",
       "      <th>330</th>\n",
       "      <th>331</th>\n",
       "      <th>...</th>\n",
       "      <th>1066</th>\n",
       "      <th>1067</th>\n",
       "      <th>1068</th>\n",
       "      <th>1069</th>\n",
       "      <th>1070</th>\n",
       "      <th>1071</th>\n",
       "      <th>1072</th>\n",
       "      <th>1073</th>\n",
       "      <th>1074</th>\n",
       "      <th>1075</th>\n",
       "    </tr>\n",
       "  </thead>\n",
       "  <tbody>\n",
       "    <tr>\n",
       "      <th>0</th>\n",
       "      <td>100</td>\n",
       "      <td>100</td>\n",
       "      <td>1</td>\n",
       "      <td>0.376673</td>\n",
       "      <td>0.431226</td>\n",
       "      <td>0.390331</td>\n",
       "      <td>0.378475</td>\n",
       "      <td>0.414101</td>\n",
       "      <td>0.375501</td>\n",
       "      <td>0.341410</td>\n",
       "      <td>...</td>\n",
       "      <td>0.817662</td>\n",
       "      <td>0.815959</td>\n",
       "      <td>0.810296</td>\n",
       "      <td>0.802925</td>\n",
       "      <td>0.812756</td>\n",
       "      <td>0.822892</td>\n",
       "      <td>0.815623</td>\n",
       "      <td>0.813108</td>\n",
       "      <td>0.815696</td>\n",
       "      <td>0.818738</td>\n",
       "    </tr>\n",
       "    <tr>\n",
       "      <th>2</th>\n",
       "      <td>25</td>\n",
       "      <td>100</td>\n",
       "      <td>2</td>\n",
       "      <td>0.340363</td>\n",
       "      <td>0.380392</td>\n",
       "      <td>0.337493</td>\n",
       "      <td>0.327786</td>\n",
       "      <td>0.367546</td>\n",
       "      <td>0.336059</td>\n",
       "      <td>0.310546</td>\n",
       "      <td>...</td>\n",
       "      <td>0.753317</td>\n",
       "      <td>0.750848</td>\n",
       "      <td>0.747314</td>\n",
       "      <td>0.744372</td>\n",
       "      <td>0.753046</td>\n",
       "      <td>0.760608</td>\n",
       "      <td>0.753906</td>\n",
       "      <td>0.749332</td>\n",
       "      <td>0.748282</td>\n",
       "      <td>0.748953</td>\n",
       "    </tr>\n",
       "    <tr>\n",
       "      <th>4</th>\n",
       "      <td>0</td>\n",
       "      <td>100</td>\n",
       "      <td>3</td>\n",
       "      <td>0.403479</td>\n",
       "      <td>0.429305</td>\n",
       "      <td>0.350453</td>\n",
       "      <td>0.333168</td>\n",
       "      <td>0.402504</td>\n",
       "      <td>0.381900</td>\n",
       "      <td>0.358693</td>\n",
       "      <td>...</td>\n",
       "      <td>0.860377</td>\n",
       "      <td>0.855473</td>\n",
       "      <td>0.850105</td>\n",
       "      <td>0.847901</td>\n",
       "      <td>0.858569</td>\n",
       "      <td>0.866247</td>\n",
       "      <td>0.855605</td>\n",
       "      <td>0.852129</td>\n",
       "      <td>0.856937</td>\n",
       "      <td>0.865607</td>\n",
       "    </tr>\n",
       "    <tr>\n",
       "      <th>6</th>\n",
       "      <td>100</td>\n",
       "      <td>25</td>\n",
       "      <td>1</td>\n",
       "      <td>0.412089</td>\n",
       "      <td>0.474489</td>\n",
       "      <td>0.434818</td>\n",
       "      <td>0.417667</td>\n",
       "      <td>0.441788</td>\n",
       "      <td>0.381190</td>\n",
       "      <td>0.333433</td>\n",
       "      <td>...</td>\n",
       "      <td>0.781725</td>\n",
       "      <td>0.775529</td>\n",
       "      <td>0.768707</td>\n",
       "      <td>0.766347</td>\n",
       "      <td>0.774526</td>\n",
       "      <td>0.781899</td>\n",
       "      <td>0.777127</td>\n",
       "      <td>0.777329</td>\n",
       "      <td>0.780802</td>\n",
       "      <td>0.780962</td>\n",
       "    </tr>\n",
       "    <tr>\n",
       "      <th>8</th>\n",
       "      <td>25</td>\n",
       "      <td>25</td>\n",
       "      <td>2</td>\n",
       "      <td>0.361481</td>\n",
       "      <td>0.419213</td>\n",
       "      <td>0.351152</td>\n",
       "      <td>0.337465</td>\n",
       "      <td>0.402751</td>\n",
       "      <td>0.360939</td>\n",
       "      <td>0.318642</td>\n",
       "      <td>...</td>\n",
       "      <td>0.748609</td>\n",
       "      <td>0.741339</td>\n",
       "      <td>0.736409</td>\n",
       "      <td>0.739257</td>\n",
       "      <td>0.748861</td>\n",
       "      <td>0.754771</td>\n",
       "      <td>0.747235</td>\n",
       "      <td>0.743047</td>\n",
       "      <td>0.743995</td>\n",
       "      <td>0.748644</td>\n",
       "    </tr>\n",
       "  </tbody>\n",
       "</table>\n",
       "<p>5 rows × 754 columns</p>\n",
       "</div>"
      ],
      "text/plain": [
       "   Nitrogen  Irrigation  Replication       325       326       327       328  \\\n",
       "0       100         100            1  0.376673  0.431226  0.390331  0.378475   \n",
       "2        25         100            2  0.340363  0.380392  0.337493  0.327786   \n",
       "4         0         100            3  0.403479  0.429305  0.350453  0.333168   \n",
       "6       100          25            1  0.412089  0.474489  0.434818  0.417667   \n",
       "8        25          25            2  0.361481  0.419213  0.351152  0.337465   \n",
       "\n",
       "        329       330       331    ...         1066      1067      1068  \\\n",
       "0  0.414101  0.375501  0.341410    ...     0.817662  0.815959  0.810296   \n",
       "2  0.367546  0.336059  0.310546    ...     0.753317  0.750848  0.747314   \n",
       "4  0.402504  0.381900  0.358693    ...     0.860377  0.855473  0.850105   \n",
       "6  0.441788  0.381190  0.333433    ...     0.781725  0.775529  0.768707   \n",
       "8  0.402751  0.360939  0.318642    ...     0.748609  0.741339  0.736409   \n",
       "\n",
       "       1069      1070      1071      1072      1073      1074      1075  \n",
       "0  0.802925  0.812756  0.822892  0.815623  0.813108  0.815696  0.818738  \n",
       "2  0.744372  0.753046  0.760608  0.753906  0.749332  0.748282  0.748953  \n",
       "4  0.847901  0.858569  0.866247  0.855605  0.852129  0.856937  0.865607  \n",
       "6  0.766347  0.774526  0.781899  0.777127  0.777329  0.780802  0.780962  \n",
       "8  0.739257  0.748861  0.754771  0.747235  0.743047  0.743995  0.748644  \n",
       "\n",
       "[5 rows x 754 columns]"
      ]
     },
     "execution_count": 134,
     "metadata": {},
     "output_type": "execute_result"
    }
   ],
   "source": [
    "spectra_10_20.head()"
   ]
  },
  {
   "cell_type": "code",
   "execution_count": 135,
   "metadata": {
    "collapsed": true
   },
   "outputs": [],
   "source": [
    "df_10_20 = pd.merge(gt_10_20, spectra_10_20, on=[\"Nitrogen\", \"Irrigation\", \"Replication\"])\n",
    "df_10_27 = pd.merge(gt_10_27, spectra_10_27, on=[\"Nitrogen\", \"Irrigation\", \"Replication\"])\n",
    "df_11_03 = pd.merge(gt_11_03, spectra_11_03, on=[\"Nitrogen\", \"Irrigation\", \"Replication\"])\n",
    "df_11_10 = pd.merge(gt_11_10, spectra_11_10, on=[\"Nitrogen\", \"Irrigation\", \"Replication\"])\n",
    "df_11_17 = pd.merge(gt_11_17, spectra_11_17, on=[\"Nitrogen\", \"Irrigation\", \"Replication\"])\n",
    "df_11_22 = pd.merge(gt_11_22, spectra_11_22, on=[\"Nitrogen\", \"Irrigation\", \"Replication\"])"
   ]
  },
  {
   "cell_type": "code",
   "execution_count": 175,
   "metadata": {
    "collapsed": true
   },
   "outputs": [],
   "source": [
    "# df = pd.concat([df_10_20, df_10_27, df_11_03, df_11_10, df_11_17, df_11_22])\n",
    "df = pd.concat([df_10_27, df_11_03, df_11_10, df_11_17, df_11_22])"
   ]
  },
  {
   "cell_type": "code",
   "execution_count": 176,
   "metadata": {
    "collapsed": true
   },
   "outputs": [],
   "source": [
    "# Drop data of area with broken irrigation\n",
    "df = df[(df.Nitrogen != 25) | (df.Irrigation != 0) | (df.Replication != 3)]"
   ]
  },
  {
   "cell_type": "code",
   "execution_count": 177,
   "metadata": {},
   "outputs": [
    {
     "data": {
      "text/html": [
       "<div>\n",
       "<style>\n",
       "    .dataframe thead tr:only-child th {\n",
       "        text-align: right;\n",
       "    }\n",
       "\n",
       "    .dataframe thead th {\n",
       "        text-align: left;\n",
       "    }\n",
       "\n",
       "    .dataframe tbody tr th {\n",
       "        vertical-align: top;\n",
       "    }\n",
       "</style>\n",
       "<table border=\"1\" class=\"dataframe\">\n",
       "  <thead>\n",
       "    <tr style=\"text-align: right;\">\n",
       "      <th></th>\n",
       "      <th>Nitrogen</th>\n",
       "      <th>Irrigation</th>\n",
       "      <th>Replication</th>\n",
       "      <th>Chlorophyll</th>\n",
       "      <th>NDVI</th>\n",
       "      <th>WP</th>\n",
       "      <th>Average Height</th>\n",
       "      <th>Average Leaf Count</th>\n",
       "      <th>325</th>\n",
       "      <th>326</th>\n",
       "      <th>...</th>\n",
       "      <th>1066</th>\n",
       "      <th>1067</th>\n",
       "      <th>1068</th>\n",
       "      <th>1069</th>\n",
       "      <th>1070</th>\n",
       "      <th>1071</th>\n",
       "      <th>1072</th>\n",
       "      <th>1073</th>\n",
       "      <th>1074</th>\n",
       "      <th>1075</th>\n",
       "    </tr>\n",
       "  </thead>\n",
       "  <tbody>\n",
       "    <tr>\n",
       "      <th>count</th>\n",
       "      <td>235.000000</td>\n",
       "      <td>235.000000</td>\n",
       "      <td>235.000000</td>\n",
       "      <td>235.000000</td>\n",
       "      <td>235.000000</td>\n",
       "      <td>235.000000</td>\n",
       "      <td>235.000000</td>\n",
       "      <td>235.000000</td>\n",
       "      <td>235.000000</td>\n",
       "      <td>235.000000</td>\n",
       "      <td>...</td>\n",
       "      <td>235.000000</td>\n",
       "      <td>235.000000</td>\n",
       "      <td>235.000000</td>\n",
       "      <td>235.000000</td>\n",
       "      <td>235.000000</td>\n",
       "      <td>235.000000</td>\n",
       "      <td>235.000000</td>\n",
       "      <td>235.000000</td>\n",
       "      <td>235.000000</td>\n",
       "      <td>235.000000</td>\n",
       "    </tr>\n",
       "    <tr>\n",
       "      <th>mean</th>\n",
       "      <td>44.148936</td>\n",
       "      <td>44.680851</td>\n",
       "      <td>1.978723</td>\n",
       "      <td>41.991489</td>\n",
       "      <td>0.811358</td>\n",
       "      <td>-1.712553</td>\n",
       "      <td>14.774468</td>\n",
       "      <td>14.782979</td>\n",
       "      <td>0.370810</td>\n",
       "      <td>0.363071</td>\n",
       "      <td>...</td>\n",
       "      <td>0.824578</td>\n",
       "      <td>0.825191</td>\n",
       "      <td>0.825775</td>\n",
       "      <td>0.825495</td>\n",
       "      <td>0.824272</td>\n",
       "      <td>0.822927</td>\n",
       "      <td>0.822335</td>\n",
       "      <td>0.823841</td>\n",
       "      <td>0.825050</td>\n",
       "      <td>0.821939</td>\n",
       "    </tr>\n",
       "    <tr>\n",
       "      <th>std</th>\n",
       "      <td>37.343965</td>\n",
       "      <td>36.884612</td>\n",
       "      <td>0.813596</td>\n",
       "      <td>6.055429</td>\n",
       "      <td>0.033165</td>\n",
       "      <td>1.418404</td>\n",
       "      <td>5.081829</td>\n",
       "      <td>5.160638</td>\n",
       "      <td>0.084320</td>\n",
       "      <td>0.083082</td>\n",
       "      <td>...</td>\n",
       "      <td>0.045182</td>\n",
       "      <td>0.044312</td>\n",
       "      <td>0.043870</td>\n",
       "      <td>0.044467</td>\n",
       "      <td>0.044167</td>\n",
       "      <td>0.044181</td>\n",
       "      <td>0.044763</td>\n",
       "      <td>0.045000</td>\n",
       "      <td>0.045251</td>\n",
       "      <td>0.044365</td>\n",
       "    </tr>\n",
       "    <tr>\n",
       "      <th>min</th>\n",
       "      <td>0.000000</td>\n",
       "      <td>0.000000</td>\n",
       "      <td>1.000000</td>\n",
       "      <td>21.500000</td>\n",
       "      <td>0.686750</td>\n",
       "      <td>-4.950000</td>\n",
       "      <td>4.000000</td>\n",
       "      <td>5.000000</td>\n",
       "      <td>0.094435</td>\n",
       "      <td>0.090449</td>\n",
       "      <td>...</td>\n",
       "      <td>0.666881</td>\n",
       "      <td>0.681307</td>\n",
       "      <td>0.687411</td>\n",
       "      <td>0.670427</td>\n",
       "      <td>0.675623</td>\n",
       "      <td>0.684949</td>\n",
       "      <td>0.678448</td>\n",
       "      <td>0.678445</td>\n",
       "      <td>0.678071</td>\n",
       "      <td>0.662432</td>\n",
       "    </tr>\n",
       "    <tr>\n",
       "      <th>25%</th>\n",
       "      <td>0.000000</td>\n",
       "      <td>25.000000</td>\n",
       "      <td>1.000000</td>\n",
       "      <td>37.850000</td>\n",
       "      <td>0.791996</td>\n",
       "      <td>-1.690000</td>\n",
       "      <td>11.000000</td>\n",
       "      <td>11.000000</td>\n",
       "      <td>0.317274</td>\n",
       "      <td>0.320950</td>\n",
       "      <td>...</td>\n",
       "      <td>0.792916</td>\n",
       "      <td>0.796157</td>\n",
       "      <td>0.797906</td>\n",
       "      <td>0.795235</td>\n",
       "      <td>0.796617</td>\n",
       "      <td>0.793240</td>\n",
       "      <td>0.793621</td>\n",
       "      <td>0.796220</td>\n",
       "      <td>0.794824</td>\n",
       "      <td>0.793731</td>\n",
       "    </tr>\n",
       "    <tr>\n",
       "      <th>50%</th>\n",
       "      <td>50.000000</td>\n",
       "      <td>50.000000</td>\n",
       "      <td>2.000000</td>\n",
       "      <td>41.300000</td>\n",
       "      <td>0.815592</td>\n",
       "      <td>-1.160000</td>\n",
       "      <td>15.000000</td>\n",
       "      <td>15.000000</td>\n",
       "      <td>0.375677</td>\n",
       "      <td>0.371107</td>\n",
       "      <td>...</td>\n",
       "      <td>0.828806</td>\n",
       "      <td>0.826358</td>\n",
       "      <td>0.828109</td>\n",
       "      <td>0.830275</td>\n",
       "      <td>0.827385</td>\n",
       "      <td>0.825577</td>\n",
       "      <td>0.826229</td>\n",
       "      <td>0.826243</td>\n",
       "      <td>0.826759</td>\n",
       "      <td>0.826030</td>\n",
       "    </tr>\n",
       "    <tr>\n",
       "      <th>75%</th>\n",
       "      <td>100.000000</td>\n",
       "      <td>100.000000</td>\n",
       "      <td>3.000000</td>\n",
       "      <td>46.050000</td>\n",
       "      <td>0.835744</td>\n",
       "      <td>-0.740000</td>\n",
       "      <td>18.000000</td>\n",
       "      <td>19.000000</td>\n",
       "      <td>0.430949</td>\n",
       "      <td>0.415099</td>\n",
       "      <td>...</td>\n",
       "      <td>0.857203</td>\n",
       "      <td>0.855629</td>\n",
       "      <td>0.855473</td>\n",
       "      <td>0.854915</td>\n",
       "      <td>0.853535</td>\n",
       "      <td>0.851961</td>\n",
       "      <td>0.854036</td>\n",
       "      <td>0.855947</td>\n",
       "      <td>0.857454</td>\n",
       "      <td>0.852161</td>\n",
       "    </tr>\n",
       "    <tr>\n",
       "      <th>max</th>\n",
       "      <td>100.000000</td>\n",
       "      <td>100.000000</td>\n",
       "      <td>3.000000</td>\n",
       "      <td>60.900000</td>\n",
       "      <td>0.876963</td>\n",
       "      <td>-0.400000</td>\n",
       "      <td>29.000000</td>\n",
       "      <td>25.000000</td>\n",
       "      <td>0.594228</td>\n",
       "      <td>0.577012</td>\n",
       "      <td>...</td>\n",
       "      <td>0.955276</td>\n",
       "      <td>0.945146</td>\n",
       "      <td>0.938255</td>\n",
       "      <td>0.942670</td>\n",
       "      <td>0.944696</td>\n",
       "      <td>0.942859</td>\n",
       "      <td>0.942972</td>\n",
       "      <td>0.943375</td>\n",
       "      <td>0.950878</td>\n",
       "      <td>0.945511</td>\n",
       "    </tr>\n",
       "  </tbody>\n",
       "</table>\n",
       "<p>8 rows × 759 columns</p>\n",
       "</div>"
      ],
      "text/plain": [
       "         Nitrogen  Irrigation  Replication  Chlorophyll        NDVI  \\\n",
       "count  235.000000  235.000000   235.000000   235.000000  235.000000   \n",
       "mean    44.148936   44.680851     1.978723    41.991489    0.811358   \n",
       "std     37.343965   36.884612     0.813596     6.055429    0.033165   \n",
       "min      0.000000    0.000000     1.000000    21.500000    0.686750   \n",
       "25%      0.000000   25.000000     1.000000    37.850000    0.791996   \n",
       "50%     50.000000   50.000000     2.000000    41.300000    0.815592   \n",
       "75%    100.000000  100.000000     3.000000    46.050000    0.835744   \n",
       "max    100.000000  100.000000     3.000000    60.900000    0.876963   \n",
       "\n",
       "               WP  Average Height  Average Leaf Count         325         326  \\\n",
       "count  235.000000      235.000000          235.000000  235.000000  235.000000   \n",
       "mean    -1.712553       14.774468           14.782979    0.370810    0.363071   \n",
       "std      1.418404        5.081829            5.160638    0.084320    0.083082   \n",
       "min     -4.950000        4.000000            5.000000    0.094435    0.090449   \n",
       "25%     -1.690000       11.000000           11.000000    0.317274    0.320950   \n",
       "50%     -1.160000       15.000000           15.000000    0.375677    0.371107   \n",
       "75%     -0.740000       18.000000           19.000000    0.430949    0.415099   \n",
       "max     -0.400000       29.000000           25.000000    0.594228    0.577012   \n",
       "\n",
       "          ...            1066        1067        1068        1069        1070  \\\n",
       "count     ...      235.000000  235.000000  235.000000  235.000000  235.000000   \n",
       "mean      ...        0.824578    0.825191    0.825775    0.825495    0.824272   \n",
       "std       ...        0.045182    0.044312    0.043870    0.044467    0.044167   \n",
       "min       ...        0.666881    0.681307    0.687411    0.670427    0.675623   \n",
       "25%       ...        0.792916    0.796157    0.797906    0.795235    0.796617   \n",
       "50%       ...        0.828806    0.826358    0.828109    0.830275    0.827385   \n",
       "75%       ...        0.857203    0.855629    0.855473    0.854915    0.853535   \n",
       "max       ...        0.955276    0.945146    0.938255    0.942670    0.944696   \n",
       "\n",
       "             1071        1072        1073        1074        1075  \n",
       "count  235.000000  235.000000  235.000000  235.000000  235.000000  \n",
       "mean     0.822927    0.822335    0.823841    0.825050    0.821939  \n",
       "std      0.044181    0.044763    0.045000    0.045251    0.044365  \n",
       "min      0.684949    0.678448    0.678445    0.678071    0.662432  \n",
       "25%      0.793240    0.793621    0.796220    0.794824    0.793731  \n",
       "50%      0.825577    0.826229    0.826243    0.826759    0.826030  \n",
       "75%      0.851961    0.854036    0.855947    0.857454    0.852161  \n",
       "max      0.942859    0.942972    0.943375    0.950878    0.945511  \n",
       "\n",
       "[8 rows x 759 columns]"
      ]
     },
     "execution_count": 177,
     "metadata": {},
     "output_type": "execute_result"
    }
   ],
   "source": [
    "df.describe()"
   ]
  },
  {
   "cell_type": "markdown",
   "metadata": {},
   "source": [
    "# Train Predictor"
   ]
  },
  {
   "cell_type": "code",
   "execution_count": 143,
   "metadata": {
    "collapsed": true
   },
   "outputs": [],
   "source": [
    "spectra = [str(i) for i in range(325, 1076)]\n",
    "X_train, X_valid, y_train, y_valid = train_test_split(df[spectra], df[\"WP\"], test_size=0.15)"
   ]
  },
  {
   "cell_type": "code",
   "execution_count": 144,
   "metadata": {},
   "outputs": [
    {
     "name": "stdout",
     "output_type": "stream",
     "text": [
      "1.66894415652e-13\n",
      "2.19101964882\n"
     ]
    }
   ],
   "source": [
    "from sklearn.linear_model import LinearRegression, Lasso\n",
    "reg = LinearRegression()\n",
    "reg.fit(X_train, y_train)\n",
    "print(mean_absolute_error(reg.predict(X_train), y_train))\n",
    "print(mean_absolute_error(reg.predict(X_valid), y_valid))"
   ]
  },
  {
   "cell_type": "code",
   "execution_count": 145,
   "metadata": {},
   "outputs": [
    {
     "name": "stdout",
     "output_type": "stream",
     "text": [
      "1.54714075859\n",
      "1.50718016036\n"
     ]
    }
   ],
   "source": [
    "from sklearn.neural_network import MLPRegressor\n",
    "mlp = MLPRegressor(max_iter=500)\n",
    "mlp.fit(X_train, y_train)\n",
    "print(mean_absolute_error(mlp.predict(X_train), y_train))\n",
    "print(mean_absolute_error(mlp.predict(X_valid), y_valid))"
   ]
  },
  {
   "cell_type": "code",
   "execution_count": 146,
   "metadata": {},
   "outputs": [
    {
     "data": {
      "text/plain": [
       "1.4153833674866678"
      ]
     },
     "execution_count": 146,
     "metadata": {},
     "output_type": "execute_result"
    },
    {
     "data": {
      "image/png": "[encoded data removed]",
      "text/plain": [
       "<matplotlib.figure.Figure at 0x7fb3ade33978>"
      ]
     },
     "metadata": {},
     "output_type": "display_data"
    }
   ],
   "source": [
    "plt.hist(df[\"WP\"], 36, rwidth=0.95)\n",
    "np.std(df[\"WP\"])"
   ]
  },
  {
   "cell_type": "markdown",
   "metadata": {
    "collapsed": true
   },
   "source": [
    "# Calculate Various Indices"
   ]
  },
  {
   "cell_type": "code",
   "execution_count": 178,
   "metadata": {
    "collapsed": true
   },
   "outputs": [],
   "source": [
    "df[\"YELLOW1\"] = df[\"550\"]\n",
    "df[\"RED1\"] = df[\"680\"]\n",
    "df[\"RED3\"] = df[\"670\"]\n",
    "df[\"NIR1\"] = df[\"800\"]\n",
    "df[\"NIR3\"] = df[\"900\"]\n",
    "df[\"NIR4\"] = df[\"970\"]\n",
    "df[\"NIR5\"] = df[\"700\"]"
   ]
  },
  {
   "cell_type": "code",
   "execution_count": 179,
   "metadata": {},
   "outputs": [
    {
     "name": "stdout",
     "output_type": "stream",
     "text": [
      "(-0.59595725844047176, 5.4959837350701041e-24) (-0.049369457954738197, 0.45130366386338028)\n",
      "(0.57007285075308201, 1.1837701727599572e-21) (0.62439482777607325, 8.3423660317184809e-27)\n"
     ]
    }
   ],
   "source": [
    "df[\"WBI\"] = df[\"NIR4\"] / df[\"NIR3\"]\n",
    "print(stats.pearsonr(df[\"WBI\"], df[\"Chlorophyll\"]), stats.pearsonr(df[\"WBI\"], df[\"WP\"]))\n",
    "print(stats.pearsonr(df[\"WBI\"], df[\"Average Height\"]), stats.pearsonr(df[\"WBI\"], df[\"Average Leaf Count\"]))"
   ]
  },
  {
   "cell_type": "code",
   "execution_count": 180,
   "metadata": {},
   "outputs": [
    {
     "data": {
      "text/plain": [
       "<matplotlib.text.Text at 0x7fb3ae2796a0>"
      ]
     },
     "execution_count": 180,
     "metadata": {},
     "output_type": "execute_result"
    },
    {
     "data": {
      "image/png": "[encoded data removed]",
      "text/plain": [
       "<matplotlib.figure.Figure at 0x7fb3adf47400>"
      ]
     },
     "metadata": {},
     "output_type": "display_data"
    }
   ],
   "source": [
    "fig = plt.figure\n",
    "plt.scatter(df[\"WBI\"], df[\"Chlorophyll\"])\n",
    "plt.xlabel(\"WBI\")\n",
    "plt.ylabel(\"Water Potential\")"
   ]
  },
  {
   "cell_type": "code",
   "execution_count": 181,
   "metadata": {},
   "outputs": [
    {
     "data": {
      "text/plain": [
       "<matplotlib.text.Text at 0x7fb3add52048>"
      ]
     },
     "execution_count": 181,
     "metadata": {},
     "output_type": "execute_result"
    },
    {
     "data": {
      "image/png": "[encoded data removed]",
      "text/plain": [
       "<matplotlib.figure.Figure at 0x7fb3add5e160>"
      ]
     },
     "metadata": {},
     "output_type": "display_data"
    }
   ],
   "source": [
    "fig = plt.figure\n",
    "plt.scatter(df[\"NIR4\"].values, df[\"WP\"])\n",
    "plt.xlabel(\"970nm\")\n",
    "plt.ylabel(\"Water Potential\")"
   ]
  },
  {
   "cell_type": "code",
   "execution_count": 182,
   "metadata": {},
   "outputs": [
    {
     "name": "stdout",
     "output_type": "stream",
     "text": [
      "(-0.19925808877310214, 0.0021469290717437443) (-0.047320565004114142, 0.47032704042357854)\n",
      "(0.31948327232376322, 5.6383382309188008e-07) (0.37154666197937486, 4.1760119228624161e-09)\n"
     ]
    }
   ],
   "source": [
    "print(stats.pearsonr(df[\"NDVI\"], df[\"Chlorophyll\"]), stats.pearsonr(df[\"NDVI\"], df[\"WP\"]))\n",
    "print(stats.pearsonr(df[\"NDVI\"], df[\"Average Height\"]), stats.pearsonr(df[\"NDVI\"], df[\"Average Leaf Count\"]))"
   ]
  },
  {
   "cell_type": "code",
   "execution_count": 183,
   "metadata": {},
   "outputs": [
    {
     "name": "stdout",
     "output_type": "stream",
     "text": [
      "(-0.40282782291435326, 1.3970601134162557e-10) (0.21337753710831597, 0.00099632029873528366)\n",
      "(0.24264159393168758, 0.00017259785655103057) (0.1695929486100273, 0.0091916034909472078)\n"
     ]
    }
   ],
   "source": [
    "df[\"rededge\"] = df[\"NIR5\"] / df[\"RED3\"]\n",
    "print(stats.pearsonr(df[\"rededge\"], df[\"Chlorophyll\"]), stats.pearsonr(df[\"rededge\"], df[\"WP\"]))\n",
    "print(stats.pearsonr(df[\"rededge\"], df[\"Average Height\"]), stats.pearsonr(df[\"rededge\"], df[\"Average Leaf Count\"]))"
   ]
  },
  {
   "cell_type": "code",
   "execution_count": 184,
   "metadata": {},
   "outputs": [
    {
     "name": "stdout",
     "output_type": "stream",
     "text": [
      "(-0.40051445989003859, 1.8185003774032157e-10) (0.21400210370387668, 0.00096194207196117207)\n",
      "(0.24071975056738984, 0.00019499294968314203) (0.16764129552666371, 0.010040425611406096)\n"
     ]
    }
   ],
   "source": [
    "df[\"MCARI\"] = (df[\"NIR5\"] / df[\"RED3\"]) - 0.23 * (df[\"NIR5\"] - df[\"YELLOW1\"]) * df[\"NIR5\"] / df[\"RED3\"]\n",
    "print(stats.pearsonr(df[\"MCARI\"], df[\"Chlorophyll\"]), stats.pearsonr(df[\"MCARI\"], df[\"WP\"]))\n",
    "print(stats.pearsonr(df[\"MCARI\"], df[\"Average Height\"]), stats.pearsonr(df[\"MCARI\"], df[\"Average Leaf Count\"]))"
   ]
  },
  {
   "cell_type": "code",
   "execution_count": 185,
   "metadata": {},
   "outputs": [
    {
     "name": "stdout",
     "output_type": "stream",
     "text": [
      "(-0.040404602502323264, 0.53767023834036198) (-0.18197457914364235, 0.0051397234148151064)\n",
      "(0.27551928365142703, 1.832965045847816e-05) (0.38058020975688028, 1.6236388124856021e-09)\n"
     ]
    }
   ],
   "source": [
    "NIR = df[\"800\"]\n",
    "GREEN = df[\"550\"]\n",
    "df[\"GNDVI\"] = (NIR - GREEN) / (NIR + GREEN)\n",
    "print(stats.pearsonr(df[\"GNDVI\"], df[\"Chlorophyll\"]), stats.pearsonr(df[\"GNDVI\"], df[\"WP\"]))\n",
    "print(stats.pearsonr(df[\"GNDVI\"], df[\"Average Height\"]), stats.pearsonr(df[\"GNDVI\"], df[\"Average Leaf Count\"]))"
   ]
  },
  {
   "cell_type": "markdown",
   "metadata": {
    "collapsed": true
   },
   "source": [
    "# Compare Indices to Treatments"
   ]
  },
  {
   "cell_type": "code",
   "execution_count": 186,
   "metadata": {},
   "outputs": [
    {
     "name": "stdout",
     "output_type": "stream",
     "text": [
      "0.936240782681\n",
      "0.935189607241\n",
      "0.934611378709\n",
      "0.937421761658\n",
      "0.807587002893\n",
      "0.81217755508\n",
      "0.811413770438\n",
      "0.814516210225\n",
      "2.83886121776\n",
      "2.64249721172\n",
      "2.58296335238\n",
      "2.49733906991\n",
      "2.83533726691\n",
      "2.63936737095\n",
      "2.58075935397\n",
      "2.49467825433\n",
      "0.634668977714\n",
      "0.654809298483\n",
      "0.656846727188\n",
      "0.666926625266\n",
      "17.35\n",
      "14.7166666667\n",
      "13.7333333333\n",
      "13.1636363636\n",
      "16.7\n",
      "14.5666666667\n",
      "13.75\n",
      "14.0545454545\n"
     ]
    }
   ],
   "source": [
    "print(df[df[\"Irrigation\"] == 100][\"WBI\"].mean())\n",
    "print(df[df[\"Irrigation\"] == 50][\"WBI\"].mean())\n",
    "print(df[df[\"Irrigation\"] == 25][\"WBI\"].mean())\n",
    "print(df[df[\"Irrigation\"] == 0][\"WBI\"].mean())\n",
    "print(df[df[\"Irrigation\"] == 100][\"NDVI\"].mean())\n",
    "print(df[df[\"Irrigation\"] == 50][\"NDVI\"].mean())\n",
    "print(df[df[\"Irrigation\"] == 25][\"NDVI\"].mean())\n",
    "print(df[df[\"Irrigation\"] == 0][\"NDVI\"].mean())\n",
    "print(df[df[\"Irrigation\"] == 100][\"rededge\"].mean())\n",
    "print(df[df[\"Irrigation\"] == 50][\"rededge\"].mean())\n",
    "print(df[df[\"Irrigation\"] == 25][\"rededge\"].mean())\n",
    "print(df[df[\"Irrigation\"] == 0][\"rededge\"].mean())\n",
    "print(df[df[\"Irrigation\"] == 100][\"MCARI\"].mean())\n",
    "print(df[df[\"Irrigation\"] == 50][\"MCARI\"].mean())\n",
    "print(df[df[\"Irrigation\"] == 25][\"MCARI\"].mean())\n",
    "print(df[df[\"Irrigation\"] == 0][\"MCARI\"].mean())\n",
    "print(df[df[\"Irrigation\"] == 100][\"GNDVI\"].mean())\n",
    "print(df[df[\"Irrigation\"] == 50][\"GNDVI\"].mean())\n",
    "print(df[df[\"Irrigation\"] == 25][\"GNDVI\"].mean())\n",
    "print(df[df[\"Irrigation\"] == 0][\"GNDVI\"].mean())\n",
    "print(df[df[\"Irrigation\"] == 100][\"Average Height\"].mean())\n",
    "print(df[df[\"Irrigation\"] == 50][\"Average Height\"].mean())\n",
    "print(df[df[\"Irrigation\"] == 25][\"Average Height\"].mean())\n",
    "print(df[df[\"Irrigation\"] == 0][\"Average Height\"].mean())\n",
    "print(df[df[\"Irrigation\"] == 100][\"Average Leaf Count\"].mean())\n",
    "print(df[df[\"Irrigation\"] == 50][\"Average Leaf Count\"].mean())\n",
    "print(df[df[\"Irrigation\"] == 25][\"Average Leaf Count\"].mean())\n",
    "print(df[df[\"Irrigation\"] == 0][\"Average Leaf Count\"].mean())"
   ]
  },
  {
   "cell_type": "code",
   "execution_count": 187,
   "metadata": {},
   "outputs": [
    {
     "name": "stdout",
     "output_type": "stream",
     "text": [
      "0.935366337015\n",
      "0.936414268507\n",
      "0.936333943425\n",
      "0.935258329823\n",
      "0.810741780503\n",
      "0.813531937897\n",
      "0.811376683549\n",
      "0.809782509465\n",
      "2.75188429924\n",
      "2.56194392971\n",
      "2.67982066391\n",
      "2.58321875841\n",
      "2.74857850157\n",
      "2.55964100918\n",
      "2.67711585656\n",
      "2.58001001238\n",
      "0.64552207194\n",
      "0.66134195423\n",
      "0.649721037116\n",
      "0.655232766352\n",
      "16.0333333333\n",
      "14.3833333333\n",
      "14.8363636364\n",
      "13.85\n",
      "13.8\n",
      "15.1166666667\n",
      "16.4727272727\n",
      "13.8833333333\n"
     ]
    }
   ],
   "source": [
    "print(df[df[\"Nitrogen\"] == 100][\"WBI\"].mean())\n",
    "print(df[df[\"Nitrogen\"] == 50][\"WBI\"].mean())\n",
    "print(df[df[\"Nitrogen\"] == 25][\"WBI\"].mean())\n",
    "print(df[df[\"Nitrogen\"] == 0][\"WBI\"].mean())\n",
    "print(df[df[\"Nitrogen\"] == 100][\"NDVI\"].mean())\n",
    "print(df[df[\"Nitrogen\"] == 50][\"NDVI\"].mean())\n",
    "print(df[df[\"Nitrogen\"] == 25][\"NDVI\"].mean())\n",
    "print(df[df[\"Nitrogen\"] == 0][\"NDVI\"].mean())\n",
    "print(df[df[\"Nitrogen\"] == 100][\"rededge\"].mean())\n",
    "print(df[df[\"Nitrogen\"] == 50][\"rededge\"].mean())\n",
    "print(df[df[\"Nitrogen\"] == 25][\"rededge\"].mean())\n",
    "print(df[df[\"Nitrogen\"] == 0][\"rededge\"].mean())\n",
    "print(df[df[\"Nitrogen\"] == 100][\"MCARI\"].mean())\n",
    "print(df[df[\"Nitrogen\"] == 50][\"MCARI\"].mean())\n",
    "print(df[df[\"Nitrogen\"] == 25][\"MCARI\"].mean())\n",
    "print(df[df[\"Nitrogen\"] == 0][\"MCARI\"].mean())\n",
    "print(df[df[\"Nitrogen\"] == 100][\"GNDVI\"].mean())\n",
    "print(df[df[\"Nitrogen\"] == 50][\"GNDVI\"].mean())\n",
    "print(df[df[\"Nitrogen\"] == 25][\"GNDVI\"].mean())\n",
    "print(df[df[\"Nitrogen\"] == 0][\"GNDVI\"].mean())\n",
    "print(df[df[\"Nitrogen\"] == 100][\"Average Height\"].mean())\n",
    "print(df[df[\"Nitrogen\"] == 50][\"Average Height\"].mean())\n",
    "print(df[df[\"Nitrogen\"] == 25][\"Average Height\"].mean())\n",
    "print(df[df[\"Nitrogen\"] == 0][\"Average Height\"].mean())\n",
    "print(df[df[\"Nitrogen\"] == 100][\"Average Leaf Count\"].mean())\n",
    "print(df[df[\"Nitrogen\"] == 50][\"Average Leaf Count\"].mean())\n",
    "print(df[df[\"Nitrogen\"] == 25][\"Average Leaf Count\"].mean())\n",
    "print(df[df[\"Nitrogen\"] == 0][\"Average Leaf Count\"].mean())"
   ]
  },
  {
   "cell_type": "code",
   "execution_count": 204,
   "metadata": {},
   "outputs": [
    {
     "name": "stdout",
     "output_type": "stream",
     "text": [
      "1.12685917802\n",
      "1.12537209221\n",
      "1.12895900967\n",
      "1.1198559404\n",
      "0.8609080855\n",
      "0.8687967658\n",
      "0.8584916766\n",
      "0.876963167\n",
      "4.53371693301\n",
      "4.39858285102\n",
      "3.59589621634\n",
      "4.10939603462\n",
      "4.5269535011\n",
      "4.39375634511\n",
      "3.59288264529\n",
      "4.08268391278\n",
      "0.742855508401\n",
      "0.757710294151\n",
      "0.75257390188\n",
      "0.776875815093\n"
     ]
    }
   ],
   "source": [
    "print(df[df[\"Irrigation\"] == 100][\"WBI\"].max())\n",
    "print(df[df[\"Irrigation\"] == 50][\"WBI\"].max())\n",
    "print(df[df[\"Irrigation\"] == 25][\"WBI\"].max())\n",
    "print(df[df[\"Irrigation\"] == 0][\"WBI\"].max())\n",
    "print(df[df[\"Irrigation\"] == 100][\"NDVI\"].max())\n",
    "print(df[df[\"Irrigation\"] == 50][\"NDVI\"].max())\n",
    "print(df[df[\"Irrigation\"] == 25][\"NDVI\"].max())\n",
    "print(df[df[\"Irrigation\"] == 0][\"NDVI\"].max())\n",
    "print(df[df[\"Irrigation\"] == 100][\"rededge\"].max())\n",
    "print(df[df[\"Irrigation\"] == 50][\"rededge\"].max())\n",
    "print(df[df[\"Irrigation\"] == 25][\"rededge\"].max())\n",
    "print(df[df[\"Irrigation\"] == 0][\"rededge\"].max())\n",
    "print(df[df[\"Irrigation\"] == 100][\"MCARI\"].max())\n",
    "print(df[df[\"Irrigation\"] == 50][\"MCARI\"].max())\n",
    "print(df[df[\"Irrigation\"] == 25][\"MCARI\"].max())\n",
    "print(df[df[\"Irrigation\"] == 0][\"MCARI\"].max())\n",
    "print(df[df[\"Irrigation\"] == 100][\"GNDVI\"].max())\n",
    "print(df[df[\"Irrigation\"] == 50][\"GNDVI\"].max())\n",
    "print(df[df[\"Irrigation\"] == 25][\"GNDVI\"].max())\n",
    "print(df[df[\"Irrigation\"] == 0][\"GNDVI\"].max())"
   ]
  },
  {
   "cell_type": "code",
   "execution_count": 205,
   "metadata": {},
   "outputs": [
    {
     "name": "stdout",
     "output_type": "stream",
     "text": [
      "1.03585063951\n",
      "1.0364796099\n",
      "1.04124746676\n",
      "1.04039320403\n",
      "0.702392599\n",
      "0.697814\n",
      "0.6867496237\n",
      "0.724638\n",
      "2.10084622831\n",
      "1.88315683977\n",
      "1.94829461758\n",
      "1.98722788331\n",
      "2.09900965035\n",
      "1.87855006249\n",
      "1.94482209967\n",
      "1.98612250883\n",
      "0.51964809922\n",
      "0.502422501346\n",
      "0.520071631541\n",
      "0.516670698596\n"
     ]
    }
   ],
   "source": [
    "print(df[df[\"Irrigation\"] == 100][\"WBI\"].min())\n",
    "print(df[df[\"Irrigation\"] == 50][\"WBI\"].min())\n",
    "print(df[df[\"Irrigation\"] == 25][\"WBI\"].min())\n",
    "print(df[df[\"Irrigation\"] == 0][\"WBI\"].min())\n",
    "print(df[df[\"Irrigation\"] == 100][\"NDVI\"].min())\n",
    "print(df[df[\"Irrigation\"] == 50][\"NDVI\"].min())\n",
    "print(df[df[\"Irrigation\"] == 25][\"NDVI\"].min())\n",
    "print(df[df[\"Irrigation\"] == 0][\"NDVI\"].min())\n",
    "print(df[df[\"Irrigation\"] == 100][\"rededge\"].min())\n",
    "print(df[df[\"Irrigation\"] == 50][\"rededge\"].min())\n",
    "print(df[df[\"Irrigation\"] == 25][\"rededge\"].min())\n",
    "print(df[df[\"Irrigation\"] == 0][\"rededge\"].min())\n",
    "print(df[df[\"Irrigation\"] == 100][\"MCARI\"].min())\n",
    "print(df[df[\"Irrigation\"] == 50][\"MCARI\"].min())\n",
    "print(df[df[\"Irrigation\"] == 25][\"MCARI\"].min())\n",
    "print(df[df[\"Irrigation\"] == 0][\"MCARI\"].min())\n",
    "print(df[df[\"Irrigation\"] == 100][\"GNDVI\"].min())\n",
    "print(df[df[\"Irrigation\"] == 50][\"GNDVI\"].min())\n",
    "print(df[df[\"Irrigation\"] == 25][\"GNDVI\"].min())\n",
    "print(df[df[\"Irrigation\"] == 0][\"GNDVI\"].min())"
   ]
  },
  {
   "cell_type": "code",
   "execution_count": 202,
   "metadata": {},
   "outputs": [
    {
     "name": "stdout",
     "output_type": "stream",
     "text": [
      "1.12685917802\n",
      "1.12895900967\n",
      "1.1198559404\n",
      "1.12537209221\n",
      "0.8672911981\n",
      "0.876963167\n",
      "0.8617238057\n",
      "0.8687967658\n",
      "4.53371693301\n",
      "3.59504725827\n",
      "4.39858285102\n",
      "4.13293375173\n",
      "4.5269535011\n",
      "3.5942508167\n",
      "4.39375634511\n",
      "4.1187805496\n",
      "0.769747530466\n",
      "0.776875815093\n",
      "0.74763727241\n",
      "0.743207207979\n"
     ]
    }
   ],
   "source": [
    "print(df[df[\"Nitrogen\"] == 100][\"WBI\"].max())\n",
    "print(df[df[\"Nitrogen\"] == 50][\"WBI\"].max())\n",
    "print(df[df[\"Nitrogen\"] == 25][\"WBI\"].max())\n",
    "print(df[df[\"Nitrogen\"] == 0][\"WBI\"].max())\n",
    "print(df[df[\"Nitrogen\"] == 100][\"NDVI\"].max())\n",
    "print(df[df[\"Nitrogen\"] == 50][\"NDVI\"].max())\n",
    "print(df[df[\"Nitrogen\"] == 25][\"NDVI\"].max())\n",
    "print(df[df[\"Nitrogen\"] == 0][\"NDVI\"].max())\n",
    "print(df[df[\"Nitrogen\"] == 100][\"rededge\"].max())\n",
    "print(df[df[\"Nitrogen\"] == 50][\"rededge\"].max())\n",
    "print(df[df[\"Nitrogen\"] == 25][\"rededge\"].max())\n",
    "print(df[df[\"Nitrogen\"] == 0][\"rededge\"].max())\n",
    "print(df[df[\"Nitrogen\"] == 100][\"MCARI\"].max())\n",
    "print(df[df[\"Nitrogen\"] == 50][\"MCARI\"].max())\n",
    "print(df[df[\"Nitrogen\"] == 25][\"MCARI\"].max())\n",
    "print(df[df[\"Nitrogen\"] == 0][\"MCARI\"].max())\n",
    "print(df[df[\"Nitrogen\"] == 100][\"GNDVI\"].max())\n",
    "print(df[df[\"Nitrogen\"] == 50][\"GNDVI\"].max())\n",
    "print(df[df[\"Nitrogen\"] == 25][\"GNDVI\"].max())\n",
    "print(df[df[\"Nitrogen\"] == 0][\"GNDVI\"].max())"
   ]
  },
  {
   "cell_type": "code",
   "execution_count": 203,
   "metadata": {
    "scrolled": true
   },
   "outputs": [
    {
     "name": "stdout",
     "output_type": "stream",
     "text": [
      "1.03585063951\n",
      "1.0419965457\n",
      "1.03782450002\n",
      "1.0364796099\n",
      "0.724638\n",
      "0.702392599\n",
      "0.6867496237\n",
      "0.697814\n",
      "2.11622902365\n",
      "1.88315683977\n",
      "1.95979707636\n",
      "2.05275605637\n",
      "2.1150584636\n",
      "1.87855006249\n",
      "1.95434175792\n",
      "2.04792433156\n",
      "0.516670698596\n",
      "0.537829302773\n",
      "0.502422501346\n",
      "0.510076971993\n"
     ]
    }
   ],
   "source": [
    "print(df[df[\"Nitrogen\"] == 100][\"WBI\"].min())\n",
    "print(df[df[\"Nitrogen\"] == 50][\"WBI\"].min())\n",
    "print(df[df[\"Nitrogen\"] == 25][\"WBI\"].min())\n",
    "print(df[df[\"Nitrogen\"] == 0][\"WBI\"].min())\n",
    "print(df[df[\"Nitrogen\"] == 100][\"NDVI\"].min())\n",
    "print(df[df[\"Nitrogen\"] == 50][\"NDVI\"].min())\n",
    "print(df[df[\"Nitrogen\"] == 25][\"NDVI\"].min())\n",
    "print(df[df[\"Nitrogen\"] == 0][\"NDVI\"].min())\n",
    "print(df[df[\"Nitrogen\"] == 100][\"rededge\"].min())\n",
    "print(df[df[\"Nitrogen\"] == 50][\"rededge\"].min())\n",
    "print(df[df[\"Nitrogen\"] == 25][\"rededge\"].min())\n",
    "print(df[df[\"Nitrogen\"] == 0][\"rededge\"].min())\n",
    "print(df[df[\"Nitrogen\"] == 100][\"MCARI\"].min())\n",
    "print(df[df[\"Nitrogen\"] == 50][\"MCARI\"].min())\n",
    "print(df[df[\"Nitrogen\"] == 25][\"MCARI\"].min())\n",
    "print(df[df[\"Nitrogen\"] == 0][\"MCARI\"].min())\n",
    "print(df[df[\"Nitrogen\"] == 100][\"GNDVI\"].min())\n",
    "print(df[df[\"Nitrogen\"] == 50][\"GNDVI\"].min())\n",
    "print(df[df[\"Nitrogen\"] == 25][\"GNDVI\"].min())\n",
    "print(df[df[\"Nitrogen\"] == 0][\"GNDVI\"].min())"
   ]
  },
  {
   "cell_type": "code",
   "execution_count": null,
   "metadata": {
    "collapsed": true
   },
   "outputs": [],
   "source": []
  }
 ],
 "metadata": {
  "kernelspec": {
   "display_name": "Python 3",
   "language": "python",
   "name": "python3"
  },
  "language_info": {
   "codemirror_mode": {
    "name": "ipython",
    "version": 3
   },
   "file_extension": ".py",
   "mimetype": "text/x-python",
   "name": "python",
   "nbconvert_exporter": "python",
   "pygments_lexer": "ipython3",
   "version": "3.6.3"
  }
 },
 "nbformat": 4,
 "nbformat_minor": 2
}
