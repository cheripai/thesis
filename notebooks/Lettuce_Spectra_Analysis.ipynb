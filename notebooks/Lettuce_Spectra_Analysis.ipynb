{
 "cells": [
  {
   "cell_type": "code",
   "execution_count": 1,
   "metadata": {
    "collapsed": true
   },
   "outputs": [],
   "source": [
    "%matplotlib inline\n",
    "import numpy as np\n",
    "import matplotlib\n",
    "import pandas as pd\n",
    "import seaborn as sns\n",
    "import matplotlib.pyplot as plt\n",
    "from scipy.stats import stats\n",
    "from sklearn.metrics import mean_absolute_error\n",
    "from sklearn.model_selection import train_test_split\n",
    "sns.set(style=\"whitegrid\", color_codes=True)\n",
    "plt.rcParams['figure.figsize'] = (12, 12)"
   ]
  },
  {
   "cell_type": "code",
   "execution_count": 2,
   "metadata": {
    "collapsed": true
   },
   "outputs": [],
   "source": [
    "df_10_20 = pd.read_csv(\"../data/Spreadsheet/Lettuce/2017-10-20.csv\").dropna()\n",
    "df_10_27 = pd.read_csv(\"../data/Spreadsheet/Lettuce/2017-10-27.csv\").dropna()\n",
    "df_11_03 = pd.read_csv(\"../data/Spreadsheet/Lettuce/2017-11-03.csv\").dropna()\n",
    "df_11_10 = pd.read_csv(\"../data/Spreadsheet/Lettuce/2017-11-10.csv\").dropna()\n",
    "df_11_17 = pd.read_csv(\"../data/Spreadsheet/Lettuce/2017-11-17.csv\").dropna()\n",
    "df_11_22 = pd.read_csv(\"../data/Spreadsheet/Lettuce/2017-11-22.csv\").dropna()"
   ]
  },
  {
   "cell_type": "code",
   "execution_count": 3,
   "metadata": {
    "collapsed": true
   },
   "outputs": [],
   "source": [
    "def preprocess_spectra(df):\n",
    "    return average_dataframe(df, 15).drop(\"Wavelengths\", 1).as_matrix().transpose()\n",
    "\n",
    "def average_dataframe(df, n):\n",
    "    # Separate label column from data\n",
    "    label = df.iloc[:,0]\n",
    "    df = df.iloc[:,1:]\n",
    "\n",
    "    if (df.shape[1]) % n != 0:\n",
    "        raise Exception(\"Number of columns: {}. Not divisible by {}.\".format(df.shape[1], n))\n",
    "\n",
    "    # Average every N columns\n",
    "    average_df = pd.DataFrame()\n",
    "    average_df[\"Wavelengths\"] = label\n",
    "    for i in range((df.shape[1]) // n):\n",
    "        average_df[i] = df.iloc[:,i*n:(i+1)*n].mean(axis=1)\n",
    "\n",
    "    return average_df"
   ]
  },
  {
   "cell_type": "code",
   "execution_count": 4,
   "metadata": {
    "collapsed": true
   },
   "outputs": [],
   "source": [
    "spectra_10_20 = np.delete(preprocess_spectra(pd.read_csv(\"../data/Unprocessed/2017-10-20.csv\")), list(range(1, 96, 2)), axis=0)\n",
    "spectra_10_27 = np.delete(preprocess_spectra(pd.read_csv(\"../data/Unprocessed/2017-10-27.csv\")), list(range(1, 96, 2)), axis=0)\n",
    "spectra_11_03 = np.delete(preprocess_spectra(pd.read_csv(\"../data/Unprocessed/2017-11-03.csv\")), list(range(1, 96, 2)), axis=0)\n",
    "spectra_11_10 = np.delete(preprocess_spectra(pd.read_csv(\"../data/Unprocessed/2017-11-10.csv\")), list(range(1, 96, 2)), axis=0)\n",
    "spectra_11_17 = np.delete(preprocess_spectra(pd.read_csv(\"../data/Unprocessed/2017-11-17.csv\")), list(range(1, 96, 2)), axis=0)\n",
    "spectra_11_22 = np.delete(preprocess_spectra(pd.read_csv(\"../data/Unprocessed/2017-11-22.csv\")), list(range(1, 96, 2)), axis=0)"
   ]
  },
  {
   "cell_type": "code",
   "execution_count": 5,
   "metadata": {},
   "outputs": [
    {
     "name": "stdout",
     "output_type": "stream",
     "text": [
      "(48, 751)\n",
      "(48, 751)\n",
      "(48, 751)\n",
      "(48, 751)\n",
      "(48, 751)\n",
      "(48, 751)\n"
     ]
    }
   ],
   "source": [
    "print(spectra_10_20.shape)\n",
    "print(spectra_10_27.shape)\n",
    "print(spectra_11_03.shape)\n",
    "print(spectra_11_10.shape)\n",
    "print(spectra_11_17.shape)\n",
    "print(spectra_11_22.shape)"
   ]
  },
  {
   "cell_type": "code",
   "execution_count": 18,
   "metadata": {
    "collapsed": true
   },
   "outputs": [],
   "source": [
    "spectra = np.concatenate([spectra_10_20, spectra_10_27, spectra_11_03, spectra_11_10, spectra_11_17, spectra_11_22], axis=0)\n",
    "df = pd.concat([df_10_20, df_10_27, df_11_03, df_11_10, df_11_17, df_11_22])"
   ]
  },
  {
   "cell_type": "code",
   "execution_count": 20,
   "metadata": {},
   "outputs": [
    {
     "data": {
      "text/plain": [
       "((288, 751), (288,))"
      ]
     },
     "execution_count": 20,
     "metadata": {},
     "output_type": "execute_result"
    }
   ],
   "source": [
    "spectra.shape, df[\"WP\"].shape"
   ]
  },
  {
   "cell_type": "markdown",
   "metadata": {},
   "source": [
    "# Train Predictor"
   ]
  },
  {
   "cell_type": "code",
   "execution_count": 31,
   "metadata": {
    "collapsed": true
   },
   "outputs": [],
   "source": [
    "X_train, X_valid, y_train, y_valid = train_test_split(spectra, df[\"WP\"], test_size=0.15)"
   ]
  },
  {
   "cell_type": "code",
   "execution_count": 32,
   "metadata": {},
   "outputs": [
    {
     "name": "stdout",
     "output_type": "stream",
     "text": [
      "3.83973818133e-13\n",
      "2.62215458443\n"
     ]
    }
   ],
   "source": [
    "from sklearn.linear_model import LinearRegression, Lasso\n",
    "reg = LinearRegression()\n",
    "reg.fit(X_train, y_train)\n",
    "print(mean_absolute_error(reg.predict(X_train), y_train))\n",
    "print(mean_absolute_error(reg.predict(X_valid), y_valid))"
   ]
  },
  {
   "cell_type": "code",
   "execution_count": 33,
   "metadata": {},
   "outputs": [
    {
     "name": "stdout",
     "output_type": "stream",
     "text": [
      "1.21172649135\n",
      "1.28754061081\n"
     ]
    }
   ],
   "source": [
    "from sklearn.neural_network import MLPRegressor\n",
    "mlp = MLPRegressor(max_iter=500)\n",
    "mlp.fit(X_train, y_train)\n",
    "print(mean_absolute_error(mlp.predict(X_train), y_train))\n",
    "print(mean_absolute_error(mlp.predict(X_valid), y_valid))"
   ]
  },
  {
   "cell_type": "code",
   "execution_count": 34,
   "metadata": {},
   "outputs": [
    {
     "data": {
      "text/plain": [
       "1.4696715784865375"
      ]
     },
     "execution_count": 34,
     "metadata": {},
     "output_type": "execute_result"
    },
    {
     "data": {
      "image/png": "[encoded data removed]",
      "text/plain": [
       "<matplotlib.figure.Figure at 0x7f788e940470>"
      ]
     },
     "metadata": {},
     "output_type": "display_data"
    }
   ],
   "source": [
    "plt.hist(df[\"WP\"], 36, rwidth=0.95)\n",
    "np.std(wp)"
   ]
  },
  {
   "cell_type": "markdown",
   "metadata": {
    "collapsed": true
   },
   "source": [
    "# Testing Various Indices"
   ]
  },
  {
   "cell_type": "code",
   "execution_count": 63,
   "metadata": {
    "collapsed": true
   },
   "outputs": [],
   "source": [
    "# We subtract 325 because the 0 index is 325nm\n",
    "df[\"YELLOW1\"] = spectra[:, 550-325]\n",
    "df[\"RED1\"] = spectra[:, 680-325]\n",
    "df[\"RED3\"] = spectra[:, 670-325]\n",
    "df[\"NIR1\"] = spectra[:, 800-325]\n",
    "df[\"NIR3\"] = spectra[:, 900-325]\n",
    "df[\"NIR4\"] = spectra[:, 970-325]\n",
    "df[\"NIR5\"] = spectra[:, 700-325]"
   ]
  },
  {
   "cell_type": "code",
   "execution_count": 56,
   "metadata": {},
   "outputs": [
    {
     "data": {
      "text/plain": [
       "(-0.0064921844824051399, 0.912648864667437)"
      ]
     },
     "execution_count": 56,
     "metadata": {},
     "output_type": "execute_result"
    }
   ],
   "source": [
    "df[\"WBI\"] = df[\"NIR3\"] / df[\"NIR4\"]\n",
    "stats.pearsonr(df[\"WBI\"], df[\"WP\"])"
   ]
  },
  {
   "cell_type": "code",
   "execution_count": 50,
   "metadata": {},
   "outputs": [
    {
     "data": {
      "text/plain": [
       "<matplotlib.text.Text at 0x7f78928209b0>"
      ]
     },
     "execution_count": 50,
     "metadata": {},
     "output_type": "execute_result"
    },
    {
     "data": {
      "image/png": "[encoded data removed]",
      "text/plain": [
       "<matplotlib.figure.Figure at 0x7f78928916d8>"
      ]
     },
     "metadata": {},
     "output_type": "display_data"
    }
   ],
   "source": [
    "fig = plt.figure\n",
    "plt.scatter(df[\"WBI\"], df[\"WP\"])\n",
    "plt.xlabel(\"WBI\")\n",
    "plt.ylabel(\"Water Potential\")"
   ]
  },
  {
   "cell_type": "code",
   "execution_count": 40,
   "metadata": {},
   "outputs": [
    {
     "name": "stdout",
     "output_type": "stream",
     "text": [
      "1.07333149335\n",
      "1.06924714397\n",
      "1.07115446622\n",
      "1.07217638491\n"
     ]
    }
   ],
   "source": [
    "print(df[df[\"Irrigation\"] == 100][\"WBI\"].mean())\n",
    "print(df[df[\"Irrigation\"] == 50][\"WBI\"].mean())\n",
    "print(df[df[\"Irrigation\"] == 25][\"WBI\"].mean())\n",
    "print(df[df[\"Irrigation\"] == 0][\"WBI\"].mean())"
   ]
  },
  {
   "cell_type": "code",
   "execution_count": 57,
   "metadata": {},
   "outputs": [
    {
     "name": "stdout",
     "output_type": "stream",
     "text": [
      "0.77586566654\n",
      "0.778704312013\n",
      "0.767236461182\n",
      "0.76278214852\n"
     ]
    }
   ],
   "source": [
    "print(df[df[\"Irrigation\"] == 100][\"NIR4\"].mean())\n",
    "print(df[df[\"Irrigation\"] == 50][\"NIR4\"].mean())\n",
    "print(df[df[\"Irrigation\"] == 25][\"NIR4\"].mean())\n",
    "print(df[df[\"Irrigation\"] == 0][\"NIR4\"].mean())"
   ]
  },
  {
   "cell_type": "code",
   "execution_count": 52,
   "metadata": {},
   "outputs": [
    {
     "data": {
      "text/plain": [
       "<matplotlib.text.Text at 0x7f7892905518>"
      ]
     },
     "execution_count": 52,
     "metadata": {},
     "output_type": "execute_result"
    },
    {
     "data": {
      "image/png": "[encoded data removed]",
      "text/plain": [
       "<matplotlib.figure.Figure at 0x7f78927be198>"
      ]
     },
     "metadata": {},
     "output_type": "display_data"
    }
   ],
   "source": [
    "fig = plt.figure\n",
    "plt.scatter(df[\"NIR4\"].values, wp)\n",
    "plt.xlabel(\"970nm\")\n",
    "plt.ylabel(\"Water Potential\")"
   ]
  },
  {
   "cell_type": "code",
   "execution_count": 71,
   "metadata": {},
   "outputs": [
    {
     "data": {
      "text/plain": [
       "((-0.20340449643024447, 0.00051418527971254697),\n",
       " (-0.0018763907858658725, 0.97470734788510638))"
      ]
     },
     "execution_count": 71,
     "metadata": {},
     "output_type": "execute_result"
    }
   ],
   "source": [
    "ndvi = (df[\"NIR1\"] - df[\"RED1\"]) / (df[\"NIR1\"] + df[\"RED1\"])\n",
    "stats.pearsonr(ndvi, df[\"Chlorophyll\"]), stats.pearsonr(ndvi, df[\"WP\"])"
   ]
  },
  {
   "cell_type": "code",
   "execution_count": 72,
   "metadata": {},
   "outputs": [
    {
     "data": {
      "text/plain": [
       "((-0.2140476416181204, 0.00025299312811613263),\n",
       " (0.10939269252988669, 0.063746395869270431))"
      ]
     },
     "execution_count": 72,
     "metadata": {},
     "output_type": "execute_result"
    }
   ],
   "source": [
    "df[\"rededge\"] = df[\"NIR5\"] / df[\"RED3\"]\n",
    "stats.pearsonr(df[\"rededge\"], df[\"Chlorophyll\"]), stats.pearsonr(df[\"rededge\"], df[\"WP\"])"
   ]
  },
  {
   "cell_type": "code",
   "execution_count": 73,
   "metadata": {},
   "outputs": [
    {
     "data": {
      "text/plain": [
       "((-0.21279612989616409, 0.00027549954202349744),\n",
       " (0.10940148338699514, 0.063724953366578976))"
      ]
     },
     "execution_count": 73,
     "metadata": {},
     "output_type": "execute_result"
    }
   ],
   "source": [
    "df[\"MCARI\"] = (df[\"NIR5\"] / df[\"RED3\"]) - 0.23 * (df[\"NIR5\"] - df[\"YELLOW1\"]) * df[\"NIR5\"] / df[\"RED3\"]\n",
    "stats.pearsonr(df[\"MCARI\"], df[\"Chlorophyll\"]), stats.pearsonr(df[\"MCARI\"], df[\"WP\"])"
   ]
  },
  {
   "cell_type": "code",
   "execution_count": 74,
   "metadata": {},
   "outputs": [
    {
     "data": {
      "text/plain": [
       "((-0.11489407069181269, 0.051439836162453068),\n",
       " (0.053049628023306927, 0.36971969707746632))"
      ]
     },
     "execution_count": 74,
     "metadata": {},
     "output_type": "execute_result"
    }
   ],
   "source": [
    "NIR = spectra[:, 800-325]\n",
    "GREEN = spectra[:, 550]\n",
    "df[\"GNDVI\"] = (NIR - GREEN) / (NIR + GREEN)\n",
    "stats.pearsonr(df[\"GNDVI\"], df[\"Chlorophyll\"]), stats.pearsonr(df[\"GNDVI\"], df[\"WP\"])"
   ]
  },
  {
   "cell_type": "code",
   "execution_count": null,
   "metadata": {
    "collapsed": true
   },
   "outputs": [],
   "source": []
  }
 ],
 "metadata": {
  "kernelspec": {
   "display_name": "Python 3",
   "language": "python",
   "name": "python3"
  },
  "language_info": {
   "codemirror_mode": {
    "name": "ipython",
    "version": 3
   },
   "file_extension": ".py",
   "mimetype": "text/x-python",
   "name": "python",
   "nbconvert_exporter": "python",
   "pygments_lexer": "ipython3",
   "version": "3.6.3"
  }
 },
 "nbformat": 4,
 "nbformat_minor": 2
}
