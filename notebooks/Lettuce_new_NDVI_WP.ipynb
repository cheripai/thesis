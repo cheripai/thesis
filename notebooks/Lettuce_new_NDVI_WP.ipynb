{
 "cells": [
  {
   "cell_type": "code",
   "execution_count": 5,
   "metadata": {
    "collapsed": false,
    "deletable": true,
    "editable": true
   },
   "outputs": [],
   "source": [
    "%matplotlib inline\n",
    "import numpy as np\n",
    "import matplotlib\n",
    "import pandas as pd\n",
    "import seaborn as sns\n",
    "import matplotlib.pyplot as plt\n",
    "from scipy.stats import stats\n",
    "sns.set(style=\"whitegrid\", color_codes=True)\n",
    "plt.rcParams['figure.figsize'] = (12, 6)"
   ]
  },
  {
   "cell_type": "code",
   "execution_count": 6,
   "metadata": {
    "collapsed": false,
    "deletable": true,
    "editable": true
   },
   "outputs": [],
   "source": [
    "ndvi_31 = pd.read_csv(\"../utils/Lettuce_2017-03-31.csv\", header=None)\n",
    "ndvi_07 = pd.read_csv(\"../utils/Lettuce_2017-04-07.csv\", header=None)\n",
    "ndvi_14 = pd.read_csv(\"../utils/Lettuce_2017-04-14.csv\", header=None)\n",
    "ndvi_28 = pd.read_csv(\"../utils/Lettuce_2017-04-28.csv\", header=None)\n",
    "wp_df = pd.read_csv(\"../data/WaterPotential/Lettuce.csv\")"
   ]
  },
  {
   "cell_type": "markdown",
   "metadata": {
    "deletable": true,
    "editable": true
   },
   "source": [
    "### Find NDVI & WP correlation with repeating WP values\n",
    "#### Remove 32 because it was missed during spectra collection"
   ]
  },
  {
   "cell_type": "code",
   "execution_count": 7,
   "metadata": {
    "collapsed": false,
    "deletable": true,
    "editable": true
   },
   "outputs": [
    {
     "name": "stdout",
     "output_type": "stream",
     "text": [
      "(12,) (36,) (36,) (35,)\n"
     ]
    }
   ],
   "source": [
    "wp_31 = wp_df[\"03/31/17\"].as_matrix()\n",
    "wp_07 = np.repeat(wp_df[\"04/07/17\"].as_matrix(), 3)\n",
    "wp_14 = np.repeat(wp_df[\"04/14/17\"].as_matrix(), 3)\n",
    "wp_28 = np.repeat(wp_df[\"04/28/17\"].as_matrix(), 3)\n",
    "wp_28 = np.delete(wp_28, 32)\n",
    "print(wp_31.shape, wp_07.shape, wp_14.shape, wp_28.shape)"
   ]
  },
  {
   "cell_type": "code",
   "execution_count": 8,
   "metadata": {
    "collapsed": false,
    "deletable": true,
    "editable": true
   },
   "outputs": [],
   "source": [
    "ndvi = np.concatenate((ndvi_31.as_matrix(), ndvi_07.as_matrix(), ndvi_14.as_matrix(), ndvi_28.as_matrix()), axis=0)\n",
    "ndvi = ndvi.squeeze()\n",
    "wp = np.concatenate((wp_31, wp_07, wp_14, wp_28), axis=0)"
   ]
  },
  {
   "cell_type": "code",
   "execution_count": 9,
   "metadata": {
    "collapsed": false,
    "deletable": true,
    "editable": true
   },
   "outputs": [
    {
     "name": "stdout",
     "output_type": "stream",
     "text": [
      "(119,) (119,)\n"
     ]
    }
   ],
   "source": [
    "print(ndvi.shape, wp.shape)"
   ]
  },
  {
   "cell_type": "code",
   "execution_count": 10,
   "metadata": {
    "collapsed": false,
    "deletable": true,
    "editable": true
   },
   "outputs": [
    {
     "data": {
      "text/plain": [
       "(0.16031904028456004, 0.081561182965122964)"
      ]
     },
     "execution_count": 10,
     "metadata": {},
     "output_type": "execute_result"
    }
   ],
   "source": [
    "stats.pearsonr(ndvi, wp)"
   ]
  },
  {
   "cell_type": "code",
   "execution_count": 11,
   "metadata": {
    "collapsed": false,
    "deletable": true,
    "editable": true
   },
   "outputs": [
    {
     "data": {
      "text/plain": [
       "<matplotlib.collections.PathCollection at 0x7fb2d68fc1d0>"
      ]
     },
     "execution_count": 11,
     "metadata": {},
     "output_type": "execute_result"
    },
    {
     "data": {
      "image/png": "[encoded data removed]",
      "text/plain": [
       "<matplotlib.figure.Figure at 0x7fb2d89d5400>"
      ]
     },
     "metadata": {},
     "output_type": "display_data"
    }
   ],
   "source": [
    "plt.scatter(ndvi, wp)"
   ]
  },
  {
   "cell_type": "markdown",
   "metadata": {
    "deletable": true,
    "editable": true
   },
   "source": [
    "### Find NDVI & WP correlation with non-repeating WP values"
   ]
  },
  {
   "cell_type": "code",
   "execution_count": 12,
   "metadata": {
    "collapsed": false,
    "deletable": true,
    "editable": true
   },
   "outputs": [],
   "source": [
    "ndvi_31_sub = ndvi_31.as_matrix().squeeze()\n",
    "ndvi_07_sub = ndvi_07.as_matrix()[::3].squeeze()\n",
    "ndvi_14_sub = ndvi_14.as_matrix()[::3].squeeze()\n",
    "ndvi_28_sub = np.insert(ndvi_28.as_matrix(), 32, 0)[::3].squeeze()"
   ]
  },
  {
   "cell_type": "code",
   "execution_count": 13,
   "metadata": {
    "collapsed": false,
    "deletable": true,
    "editable": true
   },
   "outputs": [
    {
     "name": "stdout",
     "output_type": "stream",
     "text": [
      "(48,) (48,)\n"
     ]
    }
   ],
   "source": [
    "ndvi = np.concatenate((ndvi_31_sub, ndvi_07_sub, ndvi_14_sub, ndvi_28_sub), axis=0)\n",
    "wp = np.concatenate((wp_df[\"03/31/17\"], wp_df[\"04/07/17\"], wp_df[\"04/14/17\"], wp_df[\"04/28/17\"]), axis=0)\n",
    "print(ndvi.shape, wp.shape)"
   ]
  },
  {
   "cell_type": "code",
   "execution_count": 14,
   "metadata": {
    "collapsed": false,
    "deletable": true,
    "editable": true
   },
   "outputs": [
    {
     "data": {
      "text/plain": [
       "(0.36862809622709602, 0.0099343771888324318)"
      ]
     },
     "execution_count": 14,
     "metadata": {},
     "output_type": "execute_result"
    }
   ],
   "source": [
    "stats.pearsonr(ndvi, wp)"
   ]
  },
  {
   "cell_type": "code",
   "execution_count": 15,
   "metadata": {
    "collapsed": false,
    "deletable": true,
    "editable": true
   },
   "outputs": [
    {
     "data": {
      "text/plain": [
       "<matplotlib.collections.PathCollection at 0x7fb2d6876ef0>"
      ]
     },
     "execution_count": 15,
     "metadata": {},
     "output_type": "execute_result"
    },
    {
     "data": {
      "image/png": "[encoded data removed]",
      "text/plain": [
       "<matplotlib.figure.Figure at 0x7fb2d6986f98>"
      ]
     },
     "metadata": {},
     "output_type": "display_data"
    }
   ],
   "source": [
    "plt.scatter(ndvi, wp)"
   ]
  },
  {
   "cell_type": "code",
   "execution_count": null,
   "metadata": {
    "collapsed": true,
    "deletable": true,
    "editable": true
   },
   "outputs": [],
   "source": []
  }
 ],
 "metadata": {
  "kernelspec": {
   "display_name": "Python 3",
   "language": "python",
   "name": "python3"
  },
  "language_info": {
   "codemirror_mode": {
    "name": "ipython",
    "version": 3
   },
   "file_extension": ".py",
   "mimetype": "text/x-python",
   "name": "python",
   "nbconvert_exporter": "python",
   "pygments_lexer": "ipython3",
   "version": "3.6.1"
  }
 },
 "nbformat": 4,
 "nbformat_minor": 2
}
