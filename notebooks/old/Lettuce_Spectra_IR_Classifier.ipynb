{
 "cells": [
  {
   "cell_type": "code",
   "execution_count": 232,
   "metadata": {
    "collapsed": false,
    "deletable": true,
    "editable": true
   },
   "outputs": [],
   "source": [
    "%matplotlib inline\n",
    "import sys\n",
    "sys.path.append(\"..\")\n",
    "\n",
    "import numpy as np\n",
    "import matplotlib\n",
    "import pandas as pd\n",
    "import seaborn as sns\n",
    "import matplotlib.pyplot as plt\n",
    "from sklearn.metrics import accuracy_score\n",
    "from sklearn.utils import shuffle\n",
    "from utils.average_spectra import average_dataframe\n",
    "sns.set(style=\"whitegrid\", color_codes=True)\n",
    "plt.rcParams['figure.figsize'] = (12, 6)"
   ]
  },
  {
   "cell_type": "code",
   "execution_count": 233,
   "metadata": {
    "collapsed": false,
    "deletable": true,
    "editable": true
   },
   "outputs": [],
   "source": [
    "spectra_31 = pd.read_csv(\"../data/Unprocessed/2017-03-31.csv\")\n",
    "spectra_07 = pd.read_csv(\"../data/Unprocessed/2017-04-07.csv\")\n",
    "spectra_14 = pd.read_csv(\"../data/Unprocessed/2017-04-14.csv\")\n",
    "spectra_28 = pd.read_csv(\"../data/Unprocessed/2017-04-28.csv\")"
   ]
  },
  {
   "cell_type": "markdown",
   "metadata": {
    "deletable": true,
    "editable": true
   },
   "source": [
    "#### 301-320 spectra was an error"
   ]
  },
  {
   "cell_type": "code",
   "execution_count": 234,
   "metadata": {
    "collapsed": false,
    "deletable": true,
    "editable": true
   },
   "outputs": [
    {
     "data": {
      "text/plain": [
       "Index(['SL14041700300.asd', 'SL14041700321.asd'], dtype='object')"
      ]
     },
     "execution_count": 234,
     "metadata": {},
     "output_type": "execute_result"
    }
   ],
   "source": [
    "spectra_14 = spectra_14.drop(spectra_14.columns[range(301, 321)], axis=1)\n",
    "spectra_14.columns[[300, 301]]"
   ]
  },
  {
   "cell_type": "code",
   "execution_count": 235,
   "metadata": {
    "collapsed": true,
    "deletable": true,
    "editable": true
   },
   "outputs": [],
   "source": [
    "def preprocess_spectra(df):\n",
    "    return average_dataframe(df, 20).drop(\"Wavelengths\", 1).as_matrix()"
   ]
  },
  {
   "cell_type": "code",
   "execution_count": 236,
   "metadata": {
    "collapsed": false,
    "deletable": true,
    "editable": true
   },
   "outputs": [],
   "source": [
    "spectra_31 = preprocess_spectra(spectra_31)\n",
    "spectra_07 = preprocess_spectra(spectra_07)\n",
    "spectra_14 = preprocess_spectra(spectra_14)\n",
    "spectra_28 = preprocess_spectra(spectra_28)\n",
    "ir_31 = np.repeat(np.array([3,2,1,0]), 3)\n",
    "ir_07 = np.repeat(np.array([3,2,1,0]), 9)\n",
    "ir_14 = np.repeat(np.array([3,2,1,0]), 9)\n",
    "ir_28 = np.repeat(np.array([3,2,1,0]), 9)\n",
    "ir_28 = np.delete(ir_28, 32)"
   ]
  },
  {
   "cell_type": "code",
   "execution_count": 237,
   "metadata": {
    "collapsed": false,
    "deletable": true,
    "editable": true
   },
   "outputs": [
    {
     "name": "stdout",
     "output_type": "stream",
     "text": [
      "(751, 12) (751, 36) (751, 36) (751, 35)\n"
     ]
    }
   ],
   "source": [
    "print(spectra_31_sub.shape, spectra_07_sub.shape, spectra_14_sub.shape, spectra_28_sub.shape)"
   ]
  },
  {
   "cell_type": "code",
   "execution_count": 238,
   "metadata": {
    "collapsed": false,
    "deletable": true,
    "editable": true
   },
   "outputs": [],
   "source": [
    "spectra = np.zeros((119, 751))\n",
    "spectra[:12] = spectra_31.T\n",
    "spectra[12:48] = spectra_07.T\n",
    "spectra[48:84] = spectra_14.T\n",
    "spectra[84:] = spectra_28.T\n",
    "ir = np.concatenate((ir_31, ir_07, ir_14, ir_28), axis=0)"
   ]
  },
  {
   "cell_type": "code",
   "execution_count": 239,
   "metadata": {
    "collapsed": false,
    "deletable": true,
    "editable": true
   },
   "outputs": [
    {
     "name": "stdout",
     "output_type": "stream",
     "text": [
      "(119, 751) (119,)\n"
     ]
    }
   ],
   "source": [
    "print(spectra.shape, ir.shape)"
   ]
  },
  {
   "cell_type": "code",
   "execution_count": 240,
   "metadata": {
    "collapsed": false,
    "deletable": true,
    "editable": true
   },
   "outputs": [],
   "source": [
    "X, y = shuffle(spectra, ir)\n",
    "X_valid, y_valid = X[:15], y[:15]\n",
    "X_train, y_train = X[15:], y[15:]"
   ]
  },
  {
   "cell_type": "markdown",
   "metadata": {
    "deletable": true,
    "editable": true
   },
   "source": [
    "### Training Error"
   ]
  },
  {
   "cell_type": "code",
   "execution_count": 241,
   "metadata": {
    "collapsed": false,
    "deletable": true,
    "editable": true
   },
   "outputs": [
    {
     "data": {
      "text/plain": [
       "1.0"
      ]
     },
     "execution_count": 241,
     "metadata": {},
     "output_type": "execute_result"
    }
   ],
   "source": [
    "from sklearn.ensemble import RandomForestClassifier\n",
    "clf = RandomForestClassifier()\n",
    "clf.fit(X_train, y_train)\n",
    "accuracy_score(clf.predict(X_train), y_train)"
   ]
  },
  {
   "cell_type": "markdown",
   "metadata": {
    "deletable": true,
    "editable": true
   },
   "source": [
    "### Validation Error"
   ]
  },
  {
   "cell_type": "code",
   "execution_count": 242,
   "metadata": {
    "collapsed": false,
    "deletable": true,
    "editable": true,
    "scrolled": true
   },
   "outputs": [
    {
     "data": {
      "text/plain": [
       "0.33333333333333331"
      ]
     },
     "execution_count": 242,
     "metadata": {},
     "output_type": "execute_result"
    }
   ],
   "source": [
    "accuracy_score(clf.predict(X_valid), y_valid)"
   ]
  },
  {
   "cell_type": "code",
   "execution_count": null,
   "metadata": {
    "collapsed": true
   },
   "outputs": [],
   "source": []
  }
 ],
 "metadata": {
  "kernelspec": {
   "display_name": "Python 3",
   "language": "python",
   "name": "python3"
  },
  "language_info": {
   "codemirror_mode": {
    "name": "ipython",
    "version": 3
   },
   "file_extension": ".py",
   "mimetype": "text/x-python",
   "name": "python",
   "nbconvert_exporter": "python",
   "pygments_lexer": "ipython3",
   "version": "3.6.1"
  }
 },
 "nbformat": 4,
 "nbformat_minor": 2
}
