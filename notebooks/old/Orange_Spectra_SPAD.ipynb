{
 "cells": [
  {
   "cell_type": "code",
   "execution_count": 472,
   "metadata": {},
   "outputs": [],
   "source": [
    "%matplotlib inline\n",
    "import sys\n",
    "sys.path.append(\"..\")\n",
    "\n",
    "import numpy as np\n",
    "import matplotlib\n",
    "import pandas as pd\n",
    "import seaborn as sns\n",
    "import matplotlib.pyplot as plt\n",
    "from sklearn.linear_model import LinearRegression\n",
    "from sklearn.metrics import mean_absolute_error\n",
    "from sklearn.utils import shuffle\n",
    "from utils.average_spectra import average_dataframe\n",
    "sns.set(style=\"whitegrid\", color_codes=True)\n",
    "plt.rcParams['figure.figsize'] = (12, 6)"
   ]
  },
  {
   "cell_type": "code",
   "execution_count": 473,
   "metadata": {},
   "outputs": [],
   "source": [
    "spectra_12 = pd.read_csv(\"../data/Unprocessed/2017-05-12.csv\")\n",
    "spectra_19 = pd.read_csv(\"../data/Unprocessed/2017-05-19.csv\")\n",
    "spectra_26 = pd.read_csv(\"../data/Unprocessed/2017-05-26.csv\")\n",
    "spad = pd.read_csv(\"../data/Chlorophyll/Orange_Chlorophyll.csv\", header=None)"
   ]
  },
  {
   "cell_type": "code",
   "execution_count": 474,
   "metadata": {},
   "outputs": [
    {
     "name": "stdout",
     "output_type": "stream",
     "text": [
      "(751, 321) (751, 321) (751, 801)\n"
     ]
    }
   ],
   "source": [
    "print(spectra_12.shape, spectra_19.shape, spectra_26.shape)"
   ]
  },
  {
   "cell_type": "markdown",
   "metadata": {},
   "source": [
    "#### Spectra_12 and Spectra 19 are column major\n",
    "#### Spectra_26 is row major"
   ]
  },
  {
   "cell_type": "code",
   "execution_count": 475,
   "metadata": {
    "collapsed": true
   },
   "outputs": [],
   "source": [
    "def preprocess_spectra(df):\n",
    "    return average_dataframe(df, 20).drop(\"Wavelengths\", 1).as_matrix()"
   ]
  },
  {
   "cell_type": "code",
   "execution_count": 476,
   "metadata": {},
   "outputs": [],
   "source": [
    "spectra = np.zeros((9, 8, 751))\n",
    "spectra[0:2] = preprocess_spectra(spectra_12).T.reshape((2,8,751), order=\"C\")\n",
    "spectra[2:4] = preprocess_spectra(spectra_19).T.reshape((2,8,751), order=\"C\")\n",
    "spectra[4:9] = preprocess_spectra(spectra_26).T.reshape((5,8,751), order=\"F\")"
   ]
  },
  {
   "cell_type": "code",
   "execution_count": 477,
   "metadata": {},
   "outputs": [
    {
     "data": {
      "text/html": [
       "<div>\n",
       "<table border=\"1\" class=\"dataframe\">\n",
       "  <thead>\n",
       "    <tr style=\"text-align: right;\">\n",
       "      <th></th>\n",
       "      <th>0</th>\n",
       "      <th>1</th>\n",
       "      <th>2</th>\n",
       "      <th>3</th>\n",
       "      <th>4</th>\n",
       "      <th>5</th>\n",
       "      <th>6</th>\n",
       "      <th>7</th>\n",
       "    </tr>\n",
       "  </thead>\n",
       "  <tbody>\n",
       "    <tr>\n",
       "      <th>0</th>\n",
       "      <td>70.860000</td>\n",
       "      <td>56.610000</td>\n",
       "      <td>59.05</td>\n",
       "      <td>51.80</td>\n",
       "      <td>52.590000</td>\n",
       "      <td>41.10</td>\n",
       "      <td>45.560000</td>\n",
       "      <td>57.460000</td>\n",
       "    </tr>\n",
       "    <tr>\n",
       "      <th>1</th>\n",
       "      <td>46.670000</td>\n",
       "      <td>41.220000</td>\n",
       "      <td>55.76</td>\n",
       "      <td>49.88</td>\n",
       "      <td>61.000000</td>\n",
       "      <td>50.64</td>\n",
       "      <td>39.930000</td>\n",
       "      <td>49.560000</td>\n",
       "    </tr>\n",
       "    <tr>\n",
       "      <th>2</th>\n",
       "      <td>57.690909</td>\n",
       "      <td>48.054545</td>\n",
       "      <td>44.44</td>\n",
       "      <td>47.67</td>\n",
       "      <td>40.700000</td>\n",
       "      <td>61.26</td>\n",
       "      <td>47.340000</td>\n",
       "      <td>56.150000</td>\n",
       "    </tr>\n",
       "    <tr>\n",
       "      <th>3</th>\n",
       "      <td>36.290000</td>\n",
       "      <td>53.600000</td>\n",
       "      <td>43.26</td>\n",
       "      <td>50.51</td>\n",
       "      <td>58.890000</td>\n",
       "      <td>54.58</td>\n",
       "      <td>38.320000</td>\n",
       "      <td>66.290000</td>\n",
       "    </tr>\n",
       "    <tr>\n",
       "      <th>4</th>\n",
       "      <td>48.280000</td>\n",
       "      <td>56.970000</td>\n",
       "      <td>30.93</td>\n",
       "      <td>31.77</td>\n",
       "      <td>43.450000</td>\n",
       "      <td>63.44</td>\n",
       "      <td>43.620000</td>\n",
       "      <td>44.710000</td>\n",
       "    </tr>\n",
       "    <tr>\n",
       "      <th>5</th>\n",
       "      <td>48.860000</td>\n",
       "      <td>51.940000</td>\n",
       "      <td>42.05</td>\n",
       "      <td>54.48</td>\n",
       "      <td>47.627273</td>\n",
       "      <td>45.07</td>\n",
       "      <td>35.228571</td>\n",
       "      <td>44.440000</td>\n",
       "    </tr>\n",
       "    <tr>\n",
       "      <th>6</th>\n",
       "      <td>41.840000</td>\n",
       "      <td>54.830000</td>\n",
       "      <td>43.06</td>\n",
       "      <td>39.66</td>\n",
       "      <td>38.000000</td>\n",
       "      <td>35.37</td>\n",
       "      <td>39.580000</td>\n",
       "      <td>31.590000</td>\n",
       "    </tr>\n",
       "    <tr>\n",
       "      <th>7</th>\n",
       "      <td>48.000000</td>\n",
       "      <td>43.670000</td>\n",
       "      <td>41.87</td>\n",
       "      <td>38.67</td>\n",
       "      <td>55.790000</td>\n",
       "      <td>51.60</td>\n",
       "      <td>43.270000</td>\n",
       "      <td>45.433333</td>\n",
       "    </tr>\n",
       "    <tr>\n",
       "      <th>8</th>\n",
       "      <td>50.590000</td>\n",
       "      <td>40.870000</td>\n",
       "      <td>42.53</td>\n",
       "      <td>64.83</td>\n",
       "      <td>41.270000</td>\n",
       "      <td>32.84</td>\n",
       "      <td>34.410000</td>\n",
       "      <td>45.120000</td>\n",
       "    </tr>\n",
       "  </tbody>\n",
       "</table>\n",
       "</div>"
      ],
      "text/plain": [
       "           0          1      2      3          4      5          6          7\n",
       "0  70.860000  56.610000  59.05  51.80  52.590000  41.10  45.560000  57.460000\n",
       "1  46.670000  41.220000  55.76  49.88  61.000000  50.64  39.930000  49.560000\n",
       "2  57.690909  48.054545  44.44  47.67  40.700000  61.26  47.340000  56.150000\n",
       "3  36.290000  53.600000  43.26  50.51  58.890000  54.58  38.320000  66.290000\n",
       "4  48.280000  56.970000  30.93  31.77  43.450000  63.44  43.620000  44.710000\n",
       "5  48.860000  51.940000  42.05  54.48  47.627273  45.07  35.228571  44.440000\n",
       "6  41.840000  54.830000  43.06  39.66  38.000000  35.37  39.580000  31.590000\n",
       "7  48.000000  43.670000  41.87  38.67  55.790000  51.60  43.270000  45.433333\n",
       "8  50.590000  40.870000  42.53  64.83  41.270000  32.84  34.410000  45.120000"
      ]
     },
     "execution_count": 477,
     "metadata": {},
     "output_type": "execute_result"
    }
   ],
   "source": [
    "spad = spad[:9]\n",
    "spad"
   ]
  },
  {
   "cell_type": "code",
   "execution_count": 478,
   "metadata": {},
   "outputs": [
    {
     "name": "stdout",
     "output_type": "stream",
     "text": [
      "(72, 751) (72,)\n"
     ]
    }
   ],
   "source": [
    "spectra = spectra.reshape((72, 751))\n",
    "spad = spad.as_matrix().flatten()\n",
    "print(spectra.shape, spad.shape)"
   ]
  },
  {
   "cell_type": "code",
   "execution_count": 479,
   "metadata": {},
   "outputs": [],
   "source": [
    "X, y = shuffle(spectra, spad)\n",
    "X_valid, y_valid = X[:8], y[:8]\n",
    "X_train, y_train = X[8:], y[8:]"
   ]
  },
  {
   "cell_type": "markdown",
   "metadata": {},
   "source": [
    "### Training Error"
   ]
  },
  {
   "cell_type": "code",
   "execution_count": 480,
   "metadata": {},
   "outputs": [
    {
     "data": {
      "text/plain": [
       "4.8178128153608668e-13"
      ]
     },
     "execution_count": 480,
     "metadata": {},
     "output_type": "execute_result"
    }
   ],
   "source": [
    "reg = LinearRegression()\n",
    "reg.fit(X_train, y_train)\n",
    "mean_absolute_error(reg.predict(X_train), y_train)"
   ]
  },
  {
   "cell_type": "markdown",
   "metadata": {},
   "source": [
    "### Validation Error"
   ]
  },
  {
   "cell_type": "code",
   "execution_count": 481,
   "metadata": {},
   "outputs": [
    {
     "data": {
      "text/plain": [
       "8.1827752446668462"
      ]
     },
     "execution_count": 481,
     "metadata": {},
     "output_type": "execute_result"
    }
   ],
   "source": [
    "mean_absolute_error(reg.predict(X_valid), y_valid)"
   ]
  },
  {
   "cell_type": "markdown",
   "metadata": {},
   "source": [
    "### Plot SPAD distribution and standard deviation"
   ]
  },
  {
   "cell_type": "code",
   "execution_count": 495,
   "metadata": {},
   "outputs": [
    {
     "data": {
      "text/plain": [
       "8.7254111624162025"
      ]
     },
     "execution_count": 495,
     "metadata": {},
     "output_type": "execute_result"
    },
    {
     "data": {
      "image/png": "[encoded data removed]",
      "text/plain": [
       "<matplotlib.figure.Figure at 0x7fad3614b048>"
      ]
     },
     "metadata": {},
     "output_type": "display_data"
    }
   ],
   "source": [
    "plt.hist(spad, 10, rwidth=0.95)\n",
    "np.std(spad)"
   ]
  },
  {
   "cell_type": "markdown",
   "metadata": {},
   "source": [
    "We see that the MAE from the model is close to the standard deviation of the SPAD values.\n",
    "At this point it seems that the model is not doing better than learning the distribution of the SPAD values.\n",
    "\n",
    "Possible explanations:\n",
    "- The spectroradiometer is capturing many leaves while the SPAD is taken from only a few.\n",
    "- The spectroradiometer is incapable of capturing the same information as the chlorophyll meter."
   ]
  },
  {
   "cell_type": "code",
   "execution_count": null,
   "metadata": {
    "collapsed": true
   },
   "outputs": [],
   "source": []
  }
 ],
 "metadata": {
  "kernelspec": {
   "display_name": "Python 3",
   "language": "python",
   "name": "python3"
  },
  "language_info": {
   "codemirror_mode": {
    "name": "ipython",
    "version": 3
   },
   "file_extension": ".py",
   "mimetype": "text/x-python",
   "name": "python",
   "nbconvert_exporter": "python",
   "pygments_lexer": "ipython3",
   "version": "3.6.2"
  }
 },
 "nbformat": 4,
 "nbformat_minor": 2
}
